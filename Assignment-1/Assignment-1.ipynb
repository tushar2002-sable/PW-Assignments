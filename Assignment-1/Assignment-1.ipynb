{
 "cells": [
  {
   "cell_type": "code",
   "execution_count": null,
   "id": "1887e2c8-aa6d-4fca-b711-abaa72d7f2a9",
   "metadata": {},
   "outputs": [],
   "source": [
    "\"\"\" Q1: Create one variable containing following type of data:\n",
    "         (i) string (ii) list (iii) float (iv) tuple \"\"\""
   ]
  },
  {
   "cell_type": "code",
   "execution_count": 7,
   "id": "a8121607-24d1-486a-b44b-2b18cd69c37a",
   "metadata": {},
   "outputs": [
    {
     "name": "stdout",
     "output_type": "stream",
     "text": [
      "String Variable: My first Assignment\n",
      "List Variable: [1, 2, 3, 4, 5]\n",
      "Floating Point Variable: 43.5\n",
      "Tuple Variable: (2, 4, 6, 8)\n"
     ]
    }
   ],
   "source": [
    "var_string = \"My first Assignment\"\n",
    "\n",
    "var_list = [1,2,3,4,5]\n",
    "\n",
    "var_float = 43.5\n",
    "\n",
    "var_tuple = (2,4,6,8)\n",
    "\n",
    "print(\"String Variable:\", var_string)\n",
    "\n",
    "print(\"List Variable:\", var_list)\n",
    "\n",
    "print(\"Floating Point Variable:\", var_float)\n",
    "\n",
    "print(\"Tuple Variable:\", var_tuple)"
   ]
  },
  {
   "cell_type": "code",
   "execution_count": null,
   "id": "024663c5-98cf-41b2-bf2f-feef7dce01d6",
   "metadata": {},
   "outputs": [],
   "source": [
    "\"\"\" Q2: Given are some following variables containing data:\n",
    " (i) var1 = ‘ ‘ (ii) var2 = ‘[ DS , ML , Python]’ (iii) var3 = [ ‘DS’ , ’ML’ , ‘Python’ ] (iv) var4 = 1. \n",
    "     What will be the data type of the above given variable. \"\"\""
   ]
  },
  {
   "cell_type": "code",
   "execution_count": 6,
   "id": "f32a050a-ad06-4b3a-9bb9-9d6acf65126d",
   "metadata": {},
   "outputs": [
    {
     "name": "stdout",
     "output_type": "stream",
     "text": [
      "<class 'str'>\n",
      "<class 'str'>\n",
      "<class 'list'>\n",
      "<class 'int'>\n"
     ]
    }
   ],
   "source": [
    "var1 = ' '\n",
    "var2 = '[ DS , ML , Python]'\n",
    "var3 = [ 'DS' , 'ML' , 'Python' ]\n",
    "var4 = 1\n",
    "\n",
    "print(type(var1))\n",
    "print(type(var2))\n",
    "print(type(var3))\n",
    "print(type(var4))"
   ]
  },
  {
   "cell_type": "code",
   "execution_count": null,
   "id": "c9b6a13d-22c5-4ed0-9d07-77b5964bd083",
   "metadata": {},
   "outputs": [],
   "source": [
    "\"\"\" Q3: Explain the use of the following operators using an example:\n",
    "        (i) / (ii) % (iii) // (iv) **    \"\"\""
   ]
  },
  {
   "cell_type": "code",
   "execution_count": 5,
   "id": "852bdcc6-fcdd-44d0-90d4-410e485a2d53",
   "metadata": {},
   "outputs": [
    {
     "name": "stdout",
     "output_type": "stream",
     "text": [
      "Division of a & b is :  0.625\n",
      "Modulous of a & b is :  5\n",
      "Floor Division of a & b is :  0\n",
      "Exponent of a & b is :  390625\n"
     ]
    }
   ],
   "source": [
    "a = 5; b = 8\n",
    "\n",
    "Div = a / b\n",
    "Mod = a % b\n",
    "Floor = a // b\n",
    "Exp = a ** b\n",
    "\n",
    "print(\"Division of a & b is : \", Div)\n",
    "print(\"Modulous of a & b is : \", Mod)\n",
    "print(\"Floor Division of a & b is : \", Floor)\n",
    "print(\"Exponent of a & b is : \", Exp)"
   ]
  },
  {
   "cell_type": "code",
   "execution_count": null,
   "id": "d5bbaa09-85cc-4e30-906e-bb77e16c0dfd",
   "metadata": {},
   "outputs": [],
   "source": [
    "\"\"\" Q4: Create a list of length 10 of your choice containing multiple types of data. Using for loop print the\n",
    "element and its data type. \"\"\""
   ]
  },
  {
   "cell_type": "code",
   "execution_count": 4,
   "id": "3ad700ba-617d-4096-ad75-894c8ba3d881",
   "metadata": {},
   "outputs": [
    {
     "name": "stdout",
     "output_type": "stream",
     "text": [
      "<class 'int'>\n",
      "<class 'int'>\n",
      "<class 'str'>\n",
      "<class 'float'>\n",
      "<class 'complex'>\n",
      "<class 'bool'>\n",
      "<class 'set'>\n",
      "<class 'range'>\n"
     ]
    }
   ],
   "source": [
    "data = [2,45,\"basit\",33.333,4j,False,{\"name\"}, range(0,10)]\n",
    "\n",
    "for i in data:\n",
    "    print(type(i))"
   ]
  },
  {
   "cell_type": "code",
   "execution_count": null,
   "id": "39809b6a-8e1c-4d22-b050-c9fe1cf64b7a",
   "metadata": {},
   "outputs": [],
   "source": [
    "\"\"\" Q5: Using a while loop, verify if the number A is purely divisible by number B and if so then how many\n",
    "times it can be divisible. \"\"\""
   ]
  },
  {
   "cell_type": "code",
   "execution_count": null,
   "id": "1aafd07c-6960-4c44-b80a-622478b2ca0f",
   "metadata": {},
   "outputs": [],
   "source": [
    "counter = 0\n",
    "\n",
    "A = int(input(\"Enter 1st Number: \"))\n",
    "B = int(input(\"Enter 2nd Number: \"))\n",
    "\n",
    "while A % B == 0:\n",
    "    counter += 1\n",
    "    A = A / B\n",
    "if counter > 0:\n",
    "    print(f\"A is divisible by B, {counter} times\")\n",
    "else:\n",
    "    print(f\"A is not divisible by B\")"
   ]
  },
  {
   "cell_type": "code",
   "execution_count": null,
   "id": "9f7de650-6796-41db-a5d2-a4402db047fd",
   "metadata": {},
   "outputs": [],
   "source": [
    "\"\"\" Q6: Create a list containing 25 int type data. Using for loop and if-else condition print if the element is\n",
    "divisible by 3 or not.  \"\"\""
   ]
  },
  {
   "cell_type": "markdown",
   "id": "4c4bc7c6-58cc-4ba3-a154-b0a182cabbc6",
   "metadata": {},
   "source": [
    "SOLUTION # 1:"
   ]
  },
  {
   "cell_type": "code",
   "execution_count": 1,
   "id": "42586e73-2700-479f-a997-ebc4d5aabfe2",
   "metadata": {},
   "outputs": [
    {
     "name": "stdout",
     "output_type": "stream",
     "text": [
      "0 is divisible by 3\n",
      "1 is not divisible by 3\n",
      "2 is not divisible by 3\n",
      "3 is divisible by 3\n",
      "4 is not divisible by 3\n",
      "5 is not divisible by 3\n",
      "6 is divisible by 3\n",
      "7 is not divisible by 3\n",
      "8 is not divisible by 3\n",
      "9 is divisible by 3\n",
      "10 is not divisible by 3\n",
      "11 is not divisible by 3\n",
      "12 is divisible by 3\n",
      "13 is not divisible by 3\n",
      "14 is not divisible by 3\n",
      "15 is divisible by 3\n",
      "16 is not divisible by 3\n",
      "17 is not divisible by 3\n",
      "18 is divisible by 3\n",
      "19 is not divisible by 3\n",
      "20 is not divisible by 3\n",
      "21 is divisible by 3\n",
      "22 is not divisible by 3\n",
      "23 is not divisible by 3\n",
      "24 is divisible by 3\n",
      "25 is not divisible by 3\n"
     ]
    }
   ],
   "source": [
    "list_data = range(0,26)\n",
    "\n",
    "for i in list_data:\n",
    "    if i % 3 == 0:\n",
    "        print(f\"{i} is divisible by 3\")\n",
    "    else:\n",
    "        print(f\"{i} is not divisible by 3\")"
   ]
  },
  {
   "cell_type": "markdown",
   "id": "e7d751d2-02f4-44d0-ada7-d7d58ce441a8",
   "metadata": {},
   "source": [
    "SOLUTION # 2:"
   ]
  },
  {
   "cell_type": "code",
   "execution_count": 2,
   "id": "e8ab2446-9b52-4138-b2da-12e0f3d74d20",
   "metadata": {},
   "outputs": [
    {
     "name": "stdout",
     "output_type": "stream",
     "text": [
      "1 is not divisible by 3\n",
      "2 is not divisible by 3\n",
      "3 is divisible by 3\n",
      "4 is not divisible by 3\n",
      "5 is not divisible by 3\n",
      "6 is divisible by 3\n",
      "7 is not divisible by 3\n",
      "8 is not divisible by 3\n",
      "9 is divisible by 3\n",
      "10 is not divisible by 3\n",
      "11 is not divisible by 3\n",
      "12 is divisible by 3\n",
      "13 is not divisible by 3\n",
      "14 is not divisible by 3\n",
      "15 is divisible by 3\n",
      "16 is not divisible by 3\n",
      "17 is not divisible by 3\n",
      "18 is divisible by 3\n",
      "19 is not divisible by 3\n",
      "20 is not divisible by 3\n",
      "21 is divisible by 3\n",
      "22 is not divisible by 3\n",
      "23 is not divisible by 3\n",
      "24 is divisible by 3\n",
      "25 is not divisible by 3\n"
     ]
    }
   ],
   "source": [
    "list_data = [1,2,3,4,5,6,7,8,9,10,11,12,13,14,15,16,17,18,19,20,21,22,23,24,25]\n",
    "\n",
    "for i in list_data:\n",
    "    if i % 3 == 0:\n",
    "        print(f\"{i} is divisible by 3\")\n",
    "    else:\n",
    "        print(f\"{i} is not divisible by 3\")"
   ]
  },
  {
   "cell_type": "code",
   "execution_count": null,
   "id": "69cd562c-c566-41c0-be15-45538d128408",
   "metadata": {},
   "outputs": [],
   "source": [
    "\"\"\" Q7: What do you understand about mutable and immutable data types? Give examples for both showing\n",
    "this property. \"\"\""
   ]
  },
  {
   "cell_type": "markdown",
   "id": "4c8e6893-538f-486a-b598-89fabd855f99",
   "metadata": {},
   "source": [
    "Mutable data types: A mutable data type is a type whose values can be changed after they are created.\n",
    "Immutable data types: An immutable data type is a type whose values cannot be changed after they are created."
   ]
  },
  {
   "cell_type": "code",
   "execution_count": 17,
   "id": "fb69812b-72ef-49cf-919f-477416aa32e3",
   "metadata": {},
   "outputs": [
    {
     "name": "stdout",
     "output_type": "stream",
     "text": [
      "Original Data:  [2, 5, 7, 9, 11.5, True, 'basit']\n",
      "Mutable data:  [2, 5, 7, 9, 55, False, 'pwskills']\n"
     ]
    }
   ],
   "source": [
    "# Example of Mutable data types\n",
    "\n",
    "values = [2,5,7,9,11.5,True,\"basit\"]\n",
    "\n",
    "print(\"Original Data: \", values)\n",
    "\n",
    "values[5] = False\n",
    "values[4] = 55\n",
    "values[6] = \"pwskills\"\n",
    "print(\"Mutable data: \", values)"
   ]
  },
  {
   "cell_type": "code",
   "execution_count": 23,
   "id": "5623c1ff-86b8-4c1e-9c15-68d1069c45dc",
   "metadata": {},
   "outputs": [
    {
     "name": "stdout",
     "output_type": "stream",
     "text": [
      "Original Data:  (2, 5, 7, 9, 11.5, True, 'basit')\n"
     ]
    },
    {
     "ename": "TypeError",
     "evalue": "'tuple' object does not support item assignment",
     "output_type": "error",
     "traceback": [
      "\u001b[0;31m---------------------------------------------------------------------------\u001b[0m",
      "\u001b[0;31mTypeError\u001b[0m                                 Traceback (most recent call last)",
      "Cell \u001b[0;32mIn[23], line 7\u001b[0m\n\u001b[1;32m      3\u001b[0m tuple_ \u001b[38;5;241m=\u001b[39m (\u001b[38;5;241m2\u001b[39m,\u001b[38;5;241m5\u001b[39m,\u001b[38;5;241m7\u001b[39m,\u001b[38;5;241m9\u001b[39m,\u001b[38;5;241m11.5\u001b[39m,\u001b[38;5;28;01mTrue\u001b[39;00m,\u001b[38;5;124m\"\u001b[39m\u001b[38;5;124mbasit\u001b[39m\u001b[38;5;124m\"\u001b[39m)\n\u001b[1;32m      5\u001b[0m \u001b[38;5;28mprint\u001b[39m(\u001b[38;5;124m\"\u001b[39m\u001b[38;5;124mOriginal Data: \u001b[39m\u001b[38;5;124m\"\u001b[39m, tuple_)\n\u001b[0;32m----> 7\u001b[0m \u001b[43mtuple_\u001b[49m\u001b[43m[\u001b[49m\u001b[38;5;241;43m5\u001b[39;49m\u001b[43m]\u001b[49m \u001b[38;5;241m=\u001b[39m \u001b[38;5;28;01mFalse\u001b[39;00m\n\u001b[1;32m      8\u001b[0m tuple_[\u001b[38;5;241m4\u001b[39m] \u001b[38;5;241m=\u001b[39m \u001b[38;5;241m55\u001b[39m\n\u001b[1;32m      9\u001b[0m tuple_[\u001b[38;5;241m6\u001b[39m] \u001b[38;5;241m=\u001b[39m \u001b[38;5;124m\"\u001b[39m\u001b[38;5;124mpwskills\u001b[39m\u001b[38;5;124m\"\u001b[39m\n",
      "\u001b[0;31mTypeError\u001b[0m: 'tuple' object does not support item assignment"
     ]
    }
   ],
   "source": [
    "# Example of Immutable data types\n",
    "\n",
    "tuple_ = (2,5,7,9,11.5,True,\"basit\")\n",
    "\n",
    "print(\"Original Data: \", tuple_)\n",
    "\n",
    "tuple_[5] = False\n",
    "tuple_[4] = 55\n",
    "tuple_[6] = \"pwskills\"\n",
    "print(\"Immutable data: \", tuple_)"
   ]
  }
 ],
 "metadata": {
  "kernelspec": {
   "display_name": "Python 3 (ipykernel)",
   "language": "python",
   "name": "python3"
  },
  "language_info": {
   "codemirror_mode": {
    "name": "ipython",
    "version": 3
   },
   "file_extension": ".py",
   "mimetype": "text/x-python",
   "name": "python",
   "nbconvert_exporter": "python",
   "pygments_lexer": "ipython3",
   "version": "3.10.8"
  }
 },
 "nbformat": 4,
 "nbformat_minor": 5
}

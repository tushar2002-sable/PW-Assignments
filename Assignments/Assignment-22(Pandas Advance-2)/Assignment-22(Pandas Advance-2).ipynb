{
 "cells": [
  {
   "cell_type": "markdown",
   "id": "832e9a57",
   "metadata": {},
   "source": [
    "##### Consider following code to answer further questions:\n",
    "```\n",
    "import pandas as pd\n",
    "course_name = [‘Data Science’, ‘Machine Learning’, ‘Big Data’, ‘Data Engineer’]\n",
    "duration = [2,3,6,4]\n",
    "df = pd.DataFrame(data = {‘course_name’ : course_name, ‘duration’ : duration})\n",
    "```\n",
    "##### Q1. Write a code to print the data present in the second row of the dataframe, df."
   ]
  },
  {
   "cell_type": "code",
   "execution_count": 23,
   "id": "48cea6dd",
   "metadata": {},
   "outputs": [
    {
     "data": {
      "text/plain": [
       "course_name    Machine Learning\n",
       "duration                      3\n",
       "Name: 1, dtype: object"
      ]
     },
     "execution_count": 23,
     "metadata": {},
     "output_type": "execute_result"
    }
   ],
   "source": [
    "import pandas as pd\n",
    "course_name = ['Data Science', 'Machine Learning', 'Big Data', 'Data Engineer']\n",
    "duration = [2,3,6,4]\n",
    "df = pd.DataFrame(data = {'course_name' : course_name, 'duration' : duration})\n",
    "df.iloc[1]"
   ]
  },
  {
   "cell_type": "markdown",
   "id": "b7c822a1",
   "metadata": {},
   "source": [
    "##### Q2. What is the difference between the functions loc and iloc in pandas.DataFrame?"
   ]
  },
  {
   "cell_type": "markdown",
   "id": "1b9ec023",
   "metadata": {},
   "source": [
    "The iloc and loc are both indexer methods provided by pandas to access and retrieve data from a DataFrame. However, they have different approaches to indexing and slicing the data.\n",
    "\n",
    "iloc is primarily used for integer-based indexing. It allows us to access data based on the integer position of the rows and columns in the DataFrame, regardless of the row and column labels. It accepts integer-based positional arguments.\n",
    "\n",
    "On the other hand, loc is used for label-based indexing. It allows us to access data based on the labels of the rows and columns in the DataFrame. It accepts label-based arguments."
   ]
  },
  {
   "cell_type": "markdown",
   "id": "bfd305dc",
   "metadata": {},
   "source": [
    "##### Q3. Reindex the given dataframe using a variable, reindex = [3,0,1,2] and store it in the variable, new_df then find the output for both new_df.loc[2] and new_df.iloc[2].\n",
    "```\n",
    "Did you observe any difference in both the outputs? If so then explain it.\n",
    "Consider the below code to answer further questions:\n",
    "import pandas as pd\n",
    "import numpy as np\n",
    "columns = ['column_1', 'column_2', 'column_3', 'column_4', 'column_5', 'column_6']\n",
    "indices = [1,2,3,4,5,6]\n",
    "#Creating a dataframe:\n",
    "df1 = pd.DataFrame(np.random.rand(6,6), columns = columns, index = indices)\n",
    "```"
   ]
  },
  {
   "cell_type": "code",
   "execution_count": 139,
   "id": "af9c93a3",
   "metadata": {},
   "outputs": [
    {
     "data": {
      "text/html": [
       "<div>\n",
       "<style scoped>\n",
       "    .dataframe tbody tr th:only-of-type {\n",
       "        vertical-align: middle;\n",
       "    }\n",
       "\n",
       "    .dataframe tbody tr th {\n",
       "        vertical-align: top;\n",
       "    }\n",
       "\n",
       "    .dataframe thead th {\n",
       "        text-align: right;\n",
       "    }\n",
       "</style>\n",
       "<table border=\"1\" class=\"dataframe\">\n",
       "  <thead>\n",
       "    <tr style=\"text-align: right;\">\n",
       "      <th></th>\n",
       "      <th>column_1</th>\n",
       "      <th>column_2</th>\n",
       "      <th>column_3</th>\n",
       "      <th>column_4</th>\n",
       "      <th>column_5</th>\n",
       "      <th>column_6</th>\n",
       "    </tr>\n",
       "  </thead>\n",
       "  <tbody>\n",
       "    <tr>\n",
       "      <th>1</th>\n",
       "      <td>0.168365</td>\n",
       "      <td>0.604621</td>\n",
       "      <td>0.268515</td>\n",
       "      <td>0.045029</td>\n",
       "      <td>0.357752</td>\n",
       "      <td>0.273849</td>\n",
       "    </tr>\n",
       "    <tr>\n",
       "      <th>2</th>\n",
       "      <td>0.285857</td>\n",
       "      <td>0.674773</td>\n",
       "      <td>0.368612</td>\n",
       "      <td>0.248136</td>\n",
       "      <td>0.041771</td>\n",
       "      <td>0.830352</td>\n",
       "    </tr>\n",
       "    <tr>\n",
       "      <th>3</th>\n",
       "      <td>0.684789</td>\n",
       "      <td>0.910781</td>\n",
       "      <td>0.587982</td>\n",
       "      <td>0.561246</td>\n",
       "      <td>0.410292</td>\n",
       "      <td>0.443577</td>\n",
       "    </tr>\n",
       "    <tr>\n",
       "      <th>4</th>\n",
       "      <td>0.812936</td>\n",
       "      <td>0.027385</td>\n",
       "      <td>0.900610</td>\n",
       "      <td>0.892632</td>\n",
       "      <td>0.589316</td>\n",
       "      <td>0.798502</td>\n",
       "    </tr>\n",
       "    <tr>\n",
       "      <th>5</th>\n",
       "      <td>0.110373</td>\n",
       "      <td>0.776432</td>\n",
       "      <td>0.313912</td>\n",
       "      <td>0.197727</td>\n",
       "      <td>0.668517</td>\n",
       "      <td>0.096508</td>\n",
       "    </tr>\n",
       "    <tr>\n",
       "      <th>6</th>\n",
       "      <td>0.956992</td>\n",
       "      <td>0.633969</td>\n",
       "      <td>0.124454</td>\n",
       "      <td>0.273183</td>\n",
       "      <td>0.566001</td>\n",
       "      <td>0.773815</td>\n",
       "    </tr>\n",
       "  </tbody>\n",
       "</table>\n",
       "</div>"
      ],
      "text/plain": [
       "   column_1  column_2  column_3  column_4  column_5  column_6\n",
       "1  0.168365  0.604621  0.268515  0.045029  0.357752  0.273849\n",
       "2  0.285857  0.674773  0.368612  0.248136  0.041771  0.830352\n",
       "3  0.684789  0.910781  0.587982  0.561246  0.410292  0.443577\n",
       "4  0.812936  0.027385  0.900610  0.892632  0.589316  0.798502\n",
       "5  0.110373  0.776432  0.313912  0.197727  0.668517  0.096508\n",
       "6  0.956992  0.633969  0.124454  0.273183  0.566001  0.773815"
      ]
     },
     "execution_count": 139,
     "metadata": {},
     "output_type": "execute_result"
    }
   ],
   "source": [
    "import pandas as pd\n",
    "import numpy as np\n",
    "columns = ['column_1', 'column_2', 'column_3', 'column_4', 'column_5', 'column_6']\n",
    "indices = [1,2,3,4,5,6]\n",
    "#Creating a dataframe:\n",
    "df1 = pd.DataFrame(np.random.rand(6,6), columns = columns, index = indices)\n",
    "df1"
   ]
  },
  {
   "cell_type": "code",
   "execution_count": 27,
   "id": "e44c1cfe",
   "metadata": {},
   "outputs": [
    {
     "data": {
      "text/html": [
       "<div>\n",
       "<style scoped>\n",
       "    .dataframe tbody tr th:only-of-type {\n",
       "        vertical-align: middle;\n",
       "    }\n",
       "\n",
       "    .dataframe tbody tr th {\n",
       "        vertical-align: top;\n",
       "    }\n",
       "\n",
       "    .dataframe thead th {\n",
       "        text-align: right;\n",
       "    }\n",
       "</style>\n",
       "<table border=\"1\" class=\"dataframe\">\n",
       "  <thead>\n",
       "    <tr style=\"text-align: right;\">\n",
       "      <th></th>\n",
       "      <th>column_1</th>\n",
       "      <th>column_2</th>\n",
       "      <th>column_3</th>\n",
       "      <th>column_4</th>\n",
       "      <th>column_5</th>\n",
       "      <th>column_6</th>\n",
       "    </tr>\n",
       "  </thead>\n",
       "  <tbody>\n",
       "    <tr>\n",
       "      <th>3</th>\n",
       "      <td>0.881451</td>\n",
       "      <td>0.134986</td>\n",
       "      <td>0.284417</td>\n",
       "      <td>0.797383</td>\n",
       "      <td>0.248029</td>\n",
       "      <td>0.647688</td>\n",
       "    </tr>\n",
       "    <tr>\n",
       "      <th>0</th>\n",
       "      <td>NaN</td>\n",
       "      <td>NaN</td>\n",
       "      <td>NaN</td>\n",
       "      <td>NaN</td>\n",
       "      <td>NaN</td>\n",
       "      <td>NaN</td>\n",
       "    </tr>\n",
       "    <tr>\n",
       "      <th>1</th>\n",
       "      <td>0.726568</td>\n",
       "      <td>0.448854</td>\n",
       "      <td>0.491230</td>\n",
       "      <td>0.574968</td>\n",
       "      <td>0.245291</td>\n",
       "      <td>0.788637</td>\n",
       "    </tr>\n",
       "    <tr>\n",
       "      <th>2</th>\n",
       "      <td>0.808101</td>\n",
       "      <td>0.051215</td>\n",
       "      <td>0.379427</td>\n",
       "      <td>0.613776</td>\n",
       "      <td>0.154304</td>\n",
       "      <td>0.719712</td>\n",
       "    </tr>\n",
       "  </tbody>\n",
       "</table>\n",
       "</div>"
      ],
      "text/plain": [
       "   column_1  column_2  column_3  column_4  column_5  column_6\n",
       "3  0.881451  0.134986  0.284417  0.797383  0.248029  0.647688\n",
       "0       NaN       NaN       NaN       NaN       NaN       NaN\n",
       "1  0.726568  0.448854  0.491230  0.574968  0.245291  0.788637\n",
       "2  0.808101  0.051215  0.379427  0.613776  0.154304  0.719712"
      ]
     },
     "execution_count": 27,
     "metadata": {},
     "output_type": "execute_result"
    }
   ],
   "source": [
    "reindex = [3,0,1,2]\n",
    "new_df = df1.reindex(reindex)\n",
    "new_df"
   ]
  },
  {
   "cell_type": "code",
   "execution_count": 63,
   "id": "5859a412",
   "metadata": {},
   "outputs": [
    {
     "name": "stdout",
     "output_type": "stream",
     "text": [
      "Output for new_df.loc[2] is  column_1    0.808101\n",
      "column_2    0.051215\n",
      "column_3    0.379427\n",
      "column_4    0.613776\n",
      "column_5    0.154304\n",
      "column_6    0.719712\n",
      "Name: 2, dtype: float64\n",
      "Output for new_df.iloc[2] is  column_1    0.726568\n",
      "column_2    0.448854\n",
      "column_3    0.491230\n",
      "column_4    0.574968\n",
      "column_5    0.245291\n",
      "column_6    0.788637\n",
      "Name: 1, dtype: float64\n"
     ]
    }
   ],
   "source": [
    "print(\"Output for new_df.loc[2] is \", new_df.loc[2])\n",
    "print(\"Output for new_df.iloc[2] is \", new_df.iloc[2])"
   ]
  },
  {
   "cell_type": "markdown",
   "id": "20927122",
   "metadata": {},
   "source": [
    "##### Observations:\n",
    "\n",
    "- There is a difference in the outputs of new_df.loc[2] and new_df.iloc[2].\n",
    "- new_df.loc[2] returns the row with label 2, as loc uses label-based indexing. In this case, since the DataFrame has been reindexed using the list [3, 0, 1, 2], the label 2 corresponds to the row that was originally at index 1 in the original DataFrame.\n",
    "- new_df.iloc[2] returns the row at the integer position 2, as iloc uses integer-based indexing. In this case, the DataFrame has been reindexed, and the row at index 2 in the new DataFrame corresponds to the row that was originally at index 1 in the original DataFrame.\n",
    "- Therefore, due to the reindexing, the row labels and integer positions are no longer aligned, resulting in different rows being retrieved when using loc and iloc with the same index value."
   ]
  },
  {
   "cell_type": "markdown",
   "id": "76887945",
   "metadata": {},
   "source": [
    "##### Q4. Write a code to find the following statistical measurements for the above dataframe df1:\n",
    "- mean of each and every column present in the dataframe.\n",
    "- standard deviation of column, ‘column_2’"
   ]
  },
  {
   "cell_type": "code",
   "execution_count": 64,
   "id": "4af7f16a",
   "metadata": {},
   "outputs": [
    {
     "name": "stdout",
     "output_type": "stream",
     "text": [
      "Mean of each column is: \n",
      "column_1    0.609850\n",
      "column_2    0.503469\n",
      "column_3    0.609992\n",
      "column_4    0.623784\n",
      "column_5    0.608035\n",
      "column_6    0.530651\n",
      "dtype: float64\n"
     ]
    }
   ],
   "source": [
    "mean = df1.mean()\n",
    "print(\"Mean of each column is: \")\n",
    "print(mean)"
   ]
  },
  {
   "cell_type": "code",
   "execution_count": 65,
   "id": "da56ec5c",
   "metadata": {},
   "outputs": [
    {
     "name": "stdout",
     "output_type": "stream",
     "text": [
      "Standard Deviation of column_2 is: \n",
      "0.19304562978862191\n"
     ]
    }
   ],
   "source": [
    "std = df1['column_2'].std()\n",
    "print(\"Standard Deviation of column_2 is: \")\n",
    "print(std)"
   ]
  },
  {
   "cell_type": "markdown",
   "id": "0fd3b38f",
   "metadata": {},
   "source": [
    "##### Q5. Replace the data present in the second row of column, ‘column_2’ by a string variable then find the mean of column, column_2. If you are getting errors in executing it then explain why. [Hint: To replace the data use df1.loc[] and equate this to string data of your choice.]"
   ]
  },
  {
   "cell_type": "code",
   "execution_count": 140,
   "id": "e2bac7ae",
   "metadata": {},
   "outputs": [
    {
     "data": {
      "text/html": [
       "<div>\n",
       "<style scoped>\n",
       "    .dataframe tbody tr th:only-of-type {\n",
       "        vertical-align: middle;\n",
       "    }\n",
       "\n",
       "    .dataframe tbody tr th {\n",
       "        vertical-align: top;\n",
       "    }\n",
       "\n",
       "    .dataframe thead th {\n",
       "        text-align: right;\n",
       "    }\n",
       "</style>\n",
       "<table border=\"1\" class=\"dataframe\">\n",
       "  <thead>\n",
       "    <tr style=\"text-align: right;\">\n",
       "      <th></th>\n",
       "      <th>column_1</th>\n",
       "      <th>column_2</th>\n",
       "      <th>column_3</th>\n",
       "      <th>column_4</th>\n",
       "      <th>column_5</th>\n",
       "      <th>column_6</th>\n",
       "    </tr>\n",
       "  </thead>\n",
       "  <tbody>\n",
       "    <tr>\n",
       "      <th>1</th>\n",
       "      <td>0.168365</td>\n",
       "      <td>0.604621</td>\n",
       "      <td>0.268515</td>\n",
       "      <td>0.045029</td>\n",
       "      <td>0.357752</td>\n",
       "      <td>0.273849</td>\n",
       "    </tr>\n",
       "    <tr>\n",
       "      <th>2</th>\n",
       "      <td>0.285857</td>\n",
       "      <td>0.674773</td>\n",
       "      <td>0.368612</td>\n",
       "      <td>0.248136</td>\n",
       "      <td>0.041771</td>\n",
       "      <td>0.830352</td>\n",
       "    </tr>\n",
       "    <tr>\n",
       "      <th>3</th>\n",
       "      <td>0.684789</td>\n",
       "      <td>0.910781</td>\n",
       "      <td>0.587982</td>\n",
       "      <td>0.561246</td>\n",
       "      <td>0.410292</td>\n",
       "      <td>0.443577</td>\n",
       "    </tr>\n",
       "    <tr>\n",
       "      <th>4</th>\n",
       "      <td>0.812936</td>\n",
       "      <td>0.027385</td>\n",
       "      <td>0.900610</td>\n",
       "      <td>0.892632</td>\n",
       "      <td>0.589316</td>\n",
       "      <td>0.798502</td>\n",
       "    </tr>\n",
       "    <tr>\n",
       "      <th>5</th>\n",
       "      <td>0.110373</td>\n",
       "      <td>0.776432</td>\n",
       "      <td>0.313912</td>\n",
       "      <td>0.197727</td>\n",
       "      <td>0.668517</td>\n",
       "      <td>0.096508</td>\n",
       "    </tr>\n",
       "    <tr>\n",
       "      <th>6</th>\n",
       "      <td>0.956992</td>\n",
       "      <td>0.633969</td>\n",
       "      <td>0.124454</td>\n",
       "      <td>0.273183</td>\n",
       "      <td>0.566001</td>\n",
       "      <td>0.773815</td>\n",
       "    </tr>\n",
       "  </tbody>\n",
       "</table>\n",
       "</div>"
      ],
      "text/plain": [
       "   column_1  column_2  column_3  column_4  column_5  column_6\n",
       "1  0.168365  0.604621  0.268515  0.045029  0.357752  0.273849\n",
       "2  0.285857  0.674773  0.368612  0.248136  0.041771  0.830352\n",
       "3  0.684789  0.910781  0.587982  0.561246  0.410292  0.443577\n",
       "4  0.812936  0.027385  0.900610  0.892632  0.589316  0.798502\n",
       "5  0.110373  0.776432  0.313912  0.197727  0.668517  0.096508\n",
       "6  0.956992  0.633969  0.124454  0.273183  0.566001  0.773815"
      ]
     },
     "execution_count": 140,
     "metadata": {},
     "output_type": "execute_result"
    }
   ],
   "source": [
    "# Original Dataframe\n",
    "df1"
   ]
  },
  {
   "cell_type": "code",
   "execution_count": 141,
   "id": "d36f1671",
   "metadata": {},
   "outputs": [
    {
     "data": {
      "text/html": [
       "<div>\n",
       "<style scoped>\n",
       "    .dataframe tbody tr th:only-of-type {\n",
       "        vertical-align: middle;\n",
       "    }\n",
       "\n",
       "    .dataframe tbody tr th {\n",
       "        vertical-align: top;\n",
       "    }\n",
       "\n",
       "    .dataframe thead th {\n",
       "        text-align: right;\n",
       "    }\n",
       "</style>\n",
       "<table border=\"1\" class=\"dataframe\">\n",
       "  <thead>\n",
       "    <tr style=\"text-align: right;\">\n",
       "      <th></th>\n",
       "      <th>column_1</th>\n",
       "      <th>column_2</th>\n",
       "      <th>column_3</th>\n",
       "      <th>column_4</th>\n",
       "      <th>column_5</th>\n",
       "      <th>column_6</th>\n",
       "    </tr>\n",
       "  </thead>\n",
       "  <tbody>\n",
       "    <tr>\n",
       "      <th>1</th>\n",
       "      <td>0.168365</td>\n",
       "      <td>0.604621</td>\n",
       "      <td>0.268515</td>\n",
       "      <td>0.045029</td>\n",
       "      <td>0.357752</td>\n",
       "      <td>0.273849</td>\n",
       "    </tr>\n",
       "    <tr>\n",
       "      <th>2</th>\n",
       "      <td>0.285857</td>\n",
       "      <td>0.6747733150725199</td>\n",
       "      <td>0.368612</td>\n",
       "      <td>0.248136</td>\n",
       "      <td>0.041771</td>\n",
       "      <td>0.830352</td>\n",
       "    </tr>\n",
       "    <tr>\n",
       "      <th>3</th>\n",
       "      <td>0.684789</td>\n",
       "      <td>0.910781</td>\n",
       "      <td>0.587982</td>\n",
       "      <td>0.561246</td>\n",
       "      <td>0.410292</td>\n",
       "      <td>0.443577</td>\n",
       "    </tr>\n",
       "    <tr>\n",
       "      <th>4</th>\n",
       "      <td>0.812936</td>\n",
       "      <td>0.027385</td>\n",
       "      <td>0.900610</td>\n",
       "      <td>0.892632</td>\n",
       "      <td>0.589316</td>\n",
       "      <td>0.798502</td>\n",
       "    </tr>\n",
       "    <tr>\n",
       "      <th>5</th>\n",
       "      <td>0.110373</td>\n",
       "      <td>0.776432</td>\n",
       "      <td>0.313912</td>\n",
       "      <td>0.197727</td>\n",
       "      <td>0.668517</td>\n",
       "      <td>0.096508</td>\n",
       "    </tr>\n",
       "    <tr>\n",
       "      <th>6</th>\n",
       "      <td>0.956992</td>\n",
       "      <td>0.633969</td>\n",
       "      <td>0.124454</td>\n",
       "      <td>0.273183</td>\n",
       "      <td>0.566001</td>\n",
       "      <td>0.773815</td>\n",
       "    </tr>\n",
       "  </tbody>\n",
       "</table>\n",
       "</div>"
      ],
      "text/plain": [
       "   column_1            column_2  column_3  column_4  column_5  column_6\n",
       "1  0.168365            0.604621  0.268515  0.045029  0.357752  0.273849\n",
       "2  0.285857  0.6747733150725199  0.368612  0.248136  0.041771  0.830352\n",
       "3  0.684789            0.910781  0.587982  0.561246  0.410292  0.443577\n",
       "4  0.812936            0.027385  0.900610  0.892632  0.589316  0.798502\n",
       "5  0.110373            0.776432  0.313912  0.197727  0.668517  0.096508\n",
       "6  0.956992            0.633969  0.124454  0.273183  0.566001  0.773815"
      ]
     },
     "execution_count": 141,
     "metadata": {},
     "output_type": "execute_result"
    }
   ],
   "source": [
    "# The code converts the value at the second row of 'column_2' to its string representation and assigns it back to the same location in the DataFrame.\n",
    "df1.at[2, 'column_2'] = str(df1.at[2, 'column_2'])\n",
    "df1"
   ]
  },
  {
   "cell_type": "code",
   "execution_count": 142,
   "id": "ada9192d",
   "metadata": {},
   "outputs": [
    {
     "data": {
      "text/html": [
       "<div>\n",
       "<style scoped>\n",
       "    .dataframe tbody tr th:only-of-type {\n",
       "        vertical-align: middle;\n",
       "    }\n",
       "\n",
       "    .dataframe tbody tr th {\n",
       "        vertical-align: top;\n",
       "    }\n",
       "\n",
       "    .dataframe thead th {\n",
       "        text-align: right;\n",
       "    }\n",
       "</style>\n",
       "<table border=\"1\" class=\"dataframe\">\n",
       "  <thead>\n",
       "    <tr style=\"text-align: right;\">\n",
       "      <th></th>\n",
       "      <th>column_1</th>\n",
       "      <th>column_2</th>\n",
       "      <th>column_3</th>\n",
       "      <th>column_4</th>\n",
       "      <th>column_5</th>\n",
       "      <th>column_6</th>\n",
       "    </tr>\n",
       "  </thead>\n",
       "  <tbody>\n",
       "    <tr>\n",
       "      <th>1</th>\n",
       "      <td>0.168365</td>\n",
       "      <td>0.604621</td>\n",
       "      <td>0.268515</td>\n",
       "      <td>0.045029</td>\n",
       "      <td>0.357752</td>\n",
       "      <td>0.273849</td>\n",
       "    </tr>\n",
       "    <tr>\n",
       "      <th>2</th>\n",
       "      <td>0.285857</td>\n",
       "      <td>replacement</td>\n",
       "      <td>0.368612</td>\n",
       "      <td>0.248136</td>\n",
       "      <td>0.041771</td>\n",
       "      <td>0.830352</td>\n",
       "    </tr>\n",
       "    <tr>\n",
       "      <th>3</th>\n",
       "      <td>0.684789</td>\n",
       "      <td>0.910781</td>\n",
       "      <td>0.587982</td>\n",
       "      <td>0.561246</td>\n",
       "      <td>0.410292</td>\n",
       "      <td>0.443577</td>\n",
       "    </tr>\n",
       "    <tr>\n",
       "      <th>4</th>\n",
       "      <td>0.812936</td>\n",
       "      <td>0.027385</td>\n",
       "      <td>0.900610</td>\n",
       "      <td>0.892632</td>\n",
       "      <td>0.589316</td>\n",
       "      <td>0.798502</td>\n",
       "    </tr>\n",
       "    <tr>\n",
       "      <th>5</th>\n",
       "      <td>0.110373</td>\n",
       "      <td>0.776432</td>\n",
       "      <td>0.313912</td>\n",
       "      <td>0.197727</td>\n",
       "      <td>0.668517</td>\n",
       "      <td>0.096508</td>\n",
       "    </tr>\n",
       "    <tr>\n",
       "      <th>6</th>\n",
       "      <td>0.956992</td>\n",
       "      <td>0.633969</td>\n",
       "      <td>0.124454</td>\n",
       "      <td>0.273183</td>\n",
       "      <td>0.566001</td>\n",
       "      <td>0.773815</td>\n",
       "    </tr>\n",
       "  </tbody>\n",
       "</table>\n",
       "</div>"
      ],
      "text/plain": [
       "   column_1     column_2  column_3  column_4  column_5  column_6\n",
       "1  0.168365     0.604621  0.268515  0.045029  0.357752  0.273849\n",
       "2  0.285857  replacement  0.368612  0.248136  0.041771  0.830352\n",
       "3  0.684789     0.910781  0.587982  0.561246  0.410292  0.443577\n",
       "4  0.812936     0.027385  0.900610  0.892632  0.589316  0.798502\n",
       "5  0.110373     0.776432  0.313912  0.197727  0.668517  0.096508\n",
       "6  0.956992     0.633969  0.124454  0.273183  0.566001  0.773815"
      ]
     },
     "execution_count": 142,
     "metadata": {},
     "output_type": "execute_result"
    }
   ],
   "source": [
    "# The code assigns the string value 'replacement' to the cell located at the second row and 'column_2' in the DataFrame df1.\n",
    "df1.loc[2, 'column_2'] = 'replacement'\n",
    "df1"
   ]
  },
  {
   "cell_type": "markdown",
   "id": "3c563ca3",
   "metadata": {},
   "source": [
    "```\n",
    "The code df1['column_2'] = pd.to_numeric(df1.at[2, 'column_2'], errors='coerce') performs the following steps:\n",
    "\n",
    "1. df1.at[2, 'column_2'] accesses the value at the second row and 'column_2' in the DataFrame df1.\n",
    "\n",
    "2. pd.to_numeric(df1.at[2, 'column_2'], errors='coerce') converts the value to a numeric data type using the pd.to_numeric() function. The errors='coerce' parameter is used to handle any values that cannot be converted to numeric. When errors='coerce', any values that cannot be converted will be set as NaN (missing value).\n",
    "\n",
    "Finally, df1['column_2'] is assigned the converted numeric value. This line of code replaces the entire 'column_2' with the converted value obtained from step 2. The data type of 'column_2' will be coerced to numeric, and any non-numeric values will be replaced with NaN.\n",
    "```"
   ]
  },
  {
   "cell_type": "code",
   "execution_count": 147,
   "id": "0d09c516",
   "metadata": {},
   "outputs": [
    {
     "data": {
      "text/plain": [
       "column_1    0.503219\n",
       "column_2         NaN\n",
       "column_3    0.427347\n",
       "column_4    0.369659\n",
       "column_5    0.438941\n",
       "column_6    0.536101\n",
       "dtype: float64"
      ]
     },
     "execution_count": 147,
     "metadata": {},
     "output_type": "execute_result"
    }
   ],
   "source": [
    "df1['column_2'] = pd.to_numeric(df1.at[2, 'column_2'], errors='coerce')\n",
    "df1.mean()"
   ]
  },
  {
   "cell_type": "markdown",
   "id": "d324df9b",
   "metadata": {},
   "source": [
    "```It appears that there was either a non-numeric value or a missing value (NaN) present in the second row of 'column_2'. This caused the conversion using pd.to_numeric() with errors='coerce' to result in NaN for that specific row. Consequently, when calculating the mean using df1.mean(), the presence of NaN in 'column_2' affected the overall mean calculation, resulting in NaN for 'column_2' in the output.```"
   ]
  },
  {
   "cell_type": "code",
   "execution_count": 148,
   "id": "e2b44fa0",
   "metadata": {},
   "outputs": [
    {
     "data": {
      "text/html": [
       "<div>\n",
       "<style scoped>\n",
       "    .dataframe tbody tr th:only-of-type {\n",
       "        vertical-align: middle;\n",
       "    }\n",
       "\n",
       "    .dataframe tbody tr th {\n",
       "        vertical-align: top;\n",
       "    }\n",
       "\n",
       "    .dataframe thead th {\n",
       "        text-align: right;\n",
       "    }\n",
       "</style>\n",
       "<table border=\"1\" class=\"dataframe\">\n",
       "  <thead>\n",
       "    <tr style=\"text-align: right;\">\n",
       "      <th></th>\n",
       "      <th>column_1</th>\n",
       "      <th>column_2</th>\n",
       "      <th>column_3</th>\n",
       "      <th>column_4</th>\n",
       "      <th>column_5</th>\n",
       "      <th>column_6</th>\n",
       "    </tr>\n",
       "  </thead>\n",
       "  <tbody>\n",
       "    <tr>\n",
       "      <th>1</th>\n",
       "      <td>0.168365</td>\n",
       "      <td>NaN</td>\n",
       "      <td>0.268515</td>\n",
       "      <td>0.045029</td>\n",
       "      <td>0.357752</td>\n",
       "      <td>0.273849</td>\n",
       "    </tr>\n",
       "    <tr>\n",
       "      <th>2</th>\n",
       "      <td>0.285857</td>\n",
       "      <td>NaN</td>\n",
       "      <td>0.368612</td>\n",
       "      <td>0.248136</td>\n",
       "      <td>0.041771</td>\n",
       "      <td>0.830352</td>\n",
       "    </tr>\n",
       "    <tr>\n",
       "      <th>3</th>\n",
       "      <td>0.684789</td>\n",
       "      <td>NaN</td>\n",
       "      <td>0.587982</td>\n",
       "      <td>0.561246</td>\n",
       "      <td>0.410292</td>\n",
       "      <td>0.443577</td>\n",
       "    </tr>\n",
       "    <tr>\n",
       "      <th>4</th>\n",
       "      <td>0.812936</td>\n",
       "      <td>NaN</td>\n",
       "      <td>0.900610</td>\n",
       "      <td>0.892632</td>\n",
       "      <td>0.589316</td>\n",
       "      <td>0.798502</td>\n",
       "    </tr>\n",
       "    <tr>\n",
       "      <th>5</th>\n",
       "      <td>0.110373</td>\n",
       "      <td>NaN</td>\n",
       "      <td>0.313912</td>\n",
       "      <td>0.197727</td>\n",
       "      <td>0.668517</td>\n",
       "      <td>0.096508</td>\n",
       "    </tr>\n",
       "    <tr>\n",
       "      <th>6</th>\n",
       "      <td>0.956992</td>\n",
       "      <td>NaN</td>\n",
       "      <td>0.124454</td>\n",
       "      <td>0.273183</td>\n",
       "      <td>0.566001</td>\n",
       "      <td>0.773815</td>\n",
       "    </tr>\n",
       "  </tbody>\n",
       "</table>\n",
       "</div>"
      ],
      "text/plain": [
       "   column_1  column_2  column_3  column_4  column_5  column_6\n",
       "1  0.168365       NaN  0.268515  0.045029  0.357752  0.273849\n",
       "2  0.285857       NaN  0.368612  0.248136  0.041771  0.830352\n",
       "3  0.684789       NaN  0.587982  0.561246  0.410292  0.443577\n",
       "4  0.812936       NaN  0.900610  0.892632  0.589316  0.798502\n",
       "5  0.110373       NaN  0.313912  0.197727  0.668517  0.096508\n",
       "6  0.956992       NaN  0.124454  0.273183  0.566001  0.773815"
      ]
     },
     "execution_count": 148,
     "metadata": {},
     "output_type": "execute_result"
    }
   ],
   "source": [
    "df1"
   ]
  },
  {
   "cell_type": "markdown",
   "id": "0e1a2d8c",
   "metadata": {},
   "source": [
    "##### Q6. What do you understand about the windows function in pandas and list the types of windows functions?"
   ]
  },
  {
   "cell_type": "markdown",
   "id": "86da0e58",
   "metadata": {},
   "source": [
    "In pandas, a window function is a way to perform calculations on a specific window or subset of data within a larger dataset.\n",
    "\n",
    "Window functions are often used in data analysis and manipulation tasks, such as calculating rolling averages, cumulative sums, or ranking values within a window.\n",
    "\n",
    "Pandas provides several types of window functions that can be applied to a DataFrame or a Series. Here are some common types of window functions:\n",
    "\n",
    "1. Rolling Window Functions: These functions compute values over a sliding window of a specified size. The window \"rolls\" or moves along the data, and the function is applied to each window. Examples include `rolling.mean()`, `rolling.sum()`, `rolling.max()`, and `rolling.min()`.\n",
    "\n",
    "2. Expanding Window Functions: These functions compute values for the cumulative or expanding window from the start of the data up to the current point. The window size grows with each new data point. Examples include `expanding.mean()`, `expanding.sum()`, `expanding.max()`, and `expanding.min()`.\n",
    "\n",
    "3. Exponential Moving Window Functions: These functions assign exponentially decreasing weights to the data points within the window. The weights decrease exponentially as the data points move further from the current point. Examples include `ewm.mean()`, `ewm.sum()`, `ewm.max()`, and `ewm.min()`.\n",
    "\n",
    "4. Groupby Window Functions: These functions apply calculations to partitions or groups within the data based on a specific column or set of columns. Examples include `groupby().sum()`, `groupby().mean()`, `groupby().max()`, and `groupby().min()`."
   ]
  },
  {
   "cell_type": "markdown",
   "id": "5b8652a7",
   "metadata": {},
   "source": [
    "##### Q7. Write a code to print only the current month and year at the time of answering this question. [Hint: Use pandas.datetime function]"
   ]
  },
  {
   "cell_type": "code",
   "execution_count": 170,
   "id": "562d059e",
   "metadata": {},
   "outputs": [
    {
     "name": "stdout",
     "output_type": "stream",
     "text": [
      "Year: 2023, Month: 7, Current time is: 03:25:29.887844\n"
     ]
    }
   ],
   "source": [
    "from datetime import datetime\n",
    "\n",
    "current_datetime = datetime.now()\n",
    "\n",
    "current_month = current_datetime.month\n",
    "current_year = current_datetime.year\n",
    "current_time = current_datetime.time()\n",
    "\n",
    "print(f\"Year: {current_year}, Month: {current_month}, Current time is: {current_time}\")"
   ]
  },
  {
   "cell_type": "markdown",
   "id": "7cee502f",
   "metadata": {},
   "source": [
    "##### Q8. Write a Python program that takes in two dates as input (in the format YYYY-MM-DD) and calculates the difference between them in days, hours, and minutes using Pandas time delta. The program should prompt the user to enter the dates and display the result."
   ]
  },
  {
   "cell_type": "code",
   "execution_count": 186,
   "id": "81a83a1a",
   "metadata": {},
   "outputs": [
    {
     "name": "stdout",
     "output_type": "stream",
     "text": [
      "Enter the first date (YYYY-MM-DD): 2023-12-01\n",
      "Enter the second date (YYYY-MM-DD): 2023-12-16\n",
      "The difference between the two dates is 15 days, 360.0 hours, and 0.0 minutes.\n"
     ]
    }
   ],
   "source": [
    "# Function to calculate the difference between two dates\n",
    "def date_difference(date1, date2):\n",
    "        \n",
    "    # Create datetime objects from the input dates\n",
    "    date1_obj = pd.to_datetime(date1)\n",
    "    date2_obj = pd.to_datetime(date2)\n",
    "    \n",
    "    # Calculate the difference using Timedelta\n",
    "    difference = date2_obj - date1_obj\n",
    "    \n",
    "    # Extract the days, hours, and minutes from the difference\n",
    "    days = difference.days\n",
    "    hours = difference.total_seconds() // 3600\n",
    "    minutes = (difference.total_seconds() // 60) % 60\n",
    "        #     hours = difference.components.hours\n",
    "        #     minutes = difference.components.minutes\n",
    "        \n",
    "    # Return the difference in days, hours, and minutes\n",
    "    return days, hours, minutes\n",
    "\n",
    "# Input dates from the user\n",
    "date_1_input = input(\"Enter the first date (YYYY-MM-DD): \")\n",
    "date_2_input = input(\"Enter the second date (YYYY-MM-DD): \")    \n",
    "\n",
    "# Calculate the difference between the dates\n",
    "days_diff, hours_diff, minutes_diff = date_difference(date_1_input, date_2_input)\n",
    "\n",
    "# Print the difference in days, hours, and minutes\n",
    "print(f\"The difference between the two dates is {days_diff} days, {hours_diff} hours, and {minutes_diff} minutes.\")"
   ]
  },
  {
   "cell_type": "markdown",
   "id": "e4d44b28",
   "metadata": {},
   "source": [
    "##### Q9. Write a Python program that reads a CSV file containing categorical data and converts a specified column to a categorical data type. The program should prompt the user to enter the file path, column name, and category order, and then display the sorted data."
   ]
  },
  {
   "cell_type": "code",
   "execution_count": 198,
   "id": "4ab995c7",
   "metadata": {},
   "outputs": [
    {
     "name": "stdout",
     "output_type": "stream",
     "text": [
      "Enter the file path: C:\\Users\\abdul\\Downloads\\taxonomy.csv\n",
      "Enter Column name: parent_id\n",
      "Enter category order (coma-separated): 101,101-02,101-06,102,102-06,103\n"
     ]
    },
    {
     "data": {
      "text/html": [
       "<div>\n",
       "<style scoped>\n",
       "    .dataframe tbody tr th:only-of-type {\n",
       "        vertical-align: middle;\n",
       "    }\n",
       "\n",
       "    .dataframe tbody tr th {\n",
       "        vertical-align: top;\n",
       "    }\n",
       "\n",
       "    .dataframe thead th {\n",
       "        text-align: right;\n",
       "    }\n",
       "</style>\n",
       "<table border=\"1\" class=\"dataframe\">\n",
       "  <thead>\n",
       "    <tr style=\"text-align: right;\">\n",
       "      <th></th>\n",
       "      <th>taxonomy_id</th>\n",
       "      <th>name</th>\n",
       "      <th>parent_id</th>\n",
       "      <th>parent_name</th>\n",
       "    </tr>\n",
       "  </thead>\n",
       "  <tbody>\n",
       "    <tr>\n",
       "      <th>1</th>\n",
       "      <td>101-01</td>\n",
       "      <td>Disaster Response</td>\n",
       "      <td>101</td>\n",
       "      <td>Emergency</td>\n",
       "    </tr>\n",
       "    <tr>\n",
       "      <th>2</th>\n",
       "      <td>101-02</td>\n",
       "      <td>Emergency Cash</td>\n",
       "      <td>101</td>\n",
       "      <td>Emergency</td>\n",
       "    </tr>\n",
       "    <tr>\n",
       "      <th>9</th>\n",
       "      <td>101-03</td>\n",
       "      <td>Emergency Food</td>\n",
       "      <td>101</td>\n",
       "      <td>Emergency</td>\n",
       "    </tr>\n",
       "    <tr>\n",
       "      <th>10</th>\n",
       "      <td>101-04</td>\n",
       "      <td>Emergency Shelter</td>\n",
       "      <td>101</td>\n",
       "      <td>Emergency</td>\n",
       "    </tr>\n",
       "    <tr>\n",
       "      <th>11</th>\n",
       "      <td>101-05</td>\n",
       "      <td>Help Find Missing Persons</td>\n",
       "      <td>101</td>\n",
       "      <td>Emergency</td>\n",
       "    </tr>\n",
       "    <tr>\n",
       "      <th>...</th>\n",
       "      <td>...</td>\n",
       "      <td>...</td>\n",
       "      <td>...</td>\n",
       "      <td>...</td>\n",
       "    </tr>\n",
       "    <tr>\n",
       "      <th>285</th>\n",
       "      <td>111-01-07</td>\n",
       "      <td>Workplace Rights</td>\n",
       "      <td>NaN</td>\n",
       "      <td>Advocacy &amp; Legal Aid</td>\n",
       "    </tr>\n",
       "    <tr>\n",
       "      <th>286</th>\n",
       "      <td>111-02</td>\n",
       "      <td>Mediation</td>\n",
       "      <td>NaN</td>\n",
       "      <td>Legal</td>\n",
       "    </tr>\n",
       "    <tr>\n",
       "      <th>287</th>\n",
       "      <td>111-03</td>\n",
       "      <td>Notary</td>\n",
       "      <td>NaN</td>\n",
       "      <td>Legal</td>\n",
       "    </tr>\n",
       "    <tr>\n",
       "      <th>288</th>\n",
       "      <td>111-04</td>\n",
       "      <td>Representation</td>\n",
       "      <td>NaN</td>\n",
       "      <td>Legal</td>\n",
       "    </tr>\n",
       "    <tr>\n",
       "      <th>289</th>\n",
       "      <td>111-05</td>\n",
       "      <td>Translation &amp; Interpretation</td>\n",
       "      <td>NaN</td>\n",
       "      <td>Legal</td>\n",
       "    </tr>\n",
       "  </tbody>\n",
       "</table>\n",
       "<p>290 rows × 4 columns</p>\n",
       "</div>"
      ],
      "text/plain": [
       "    taxonomy_id                          name parent_id           parent_name\n",
       "1        101-01             Disaster Response       101             Emergency\n",
       "2        101-02                Emergency Cash       101             Emergency\n",
       "9        101-03                Emergency Food       101             Emergency\n",
       "10       101-04             Emergency Shelter       101             Emergency\n",
       "11       101-05     Help Find Missing Persons       101             Emergency\n",
       "..          ...                           ...       ...                   ...\n",
       "285   111-01-07              Workplace Rights       NaN  Advocacy & Legal Aid\n",
       "286      111-02                     Mediation       NaN                 Legal\n",
       "287      111-03                        Notary       NaN                 Legal\n",
       "288      111-04                Representation       NaN                 Legal\n",
       "289      111-05  Translation & Interpretation       NaN                 Legal\n",
       "\n",
       "[290 rows x 4 columns]"
      ]
     },
     "execution_count": 198,
     "metadata": {},
     "output_type": "execute_result"
    }
   ],
   "source": [
    "file_path = input(\"Enter the file path: \")\n",
    "column_name = input(\"Enter Column name: \")\n",
    "category_order = input(\"Enter category order (coma-separated): \").split(',')\n",
    "\n",
    "df = pd.read_csv(file_path)\n",
    "df[column_name] = pd.Categorical(df[column_name], categories=category_order, ordered=True)\n",
    "\n",
    "df_sorted = df.sort_values(column_name)\n",
    "df_sorted"
   ]
  },
  {
   "cell_type": "markdown",
   "id": "7b5ee8bd",
   "metadata": {},
   "source": [
    "##### Q10. Write a Python program that reads a CSV file containing sales data for different products and visualizes the data using a stacked bar chart to show the sales of each product category over time. The program should prompt the user to enter the file path and display the chart."
   ]
  },
  {
   "cell_type": "code",
   "execution_count": 315,
   "id": "0090554b",
   "metadata": {},
   "outputs": [
    {
     "name": "stdout",
     "output_type": "stream",
     "text": [
      "Enter the file path: sales_data_sample.csv\n"
     ]
    },
    {
     "data": {
      "image/png": "[encoded data removed]",
      "text/plain": [
       "<Figure size 1800x900 with 1 Axes>"
      ]
     },
     "metadata": {},
     "output_type": "display_data"
    }
   ],
   "source": [
    "import matplotlib.pyplot as plt\n",
    "\n",
    "# Prompt the user to enter the file path\n",
    "file_path1 = input(\"Enter the file path: \")\n",
    "\n",
    "# Read the CSV file into a DataFrame\n",
    "df2 = pd.read_csv(file_path1, encoding='latin-1')\n",
    "# sales_data_sample.csv\n",
    "\n",
    "# Convert 'ORDERDATE' column to datetime format and extract only the date component\n",
    "df2['ORDERDATE'] = pd.to_datetime(df2['ORDERDATE']).dt.date\n",
    "\n",
    "# Set the date range\n",
    "start_date = pd.to_datetime('2003-01-01').date()\n",
    "end_date = pd.to_datetime('2003-03-31').date()\n",
    "\n",
    "# Filter the data within the date range\n",
    "df2 = df2.loc[(df2['ORDERDATE'] >= start_date) & (df2['ORDERDATE'] <= end_date)]\n",
    "\n",
    "grouped_data = df2.groupby(['ORDERDATE','PRODUCTLINE'])['SALES'].sum().unstack()\n",
    "\n",
    "# Create a stacked bar chart\n",
    "plot = grouped_data.plot(kind='bar', stacked=True)\n",
    "\n",
    "# Set the labels for x-axis and y-axis\n",
    "plot.set_xlabel('Date')\n",
    "plot.set_ylabel('Sales')\n",
    "\n",
    "# Set the x-axis tick labels\n",
    "x_values = grouped_data.index\n",
    "plot.set_xticklabels(x_values, rotation=45)\n",
    "\n",
    "# Maximize the plot window\n",
    "fig = plt.gcf()\n",
    "fig.set_size_inches(18, 9)\n",
    "\n",
    "# Show the plot in full screen\n",
    "plt.show()"
   ]
  },
  {
   "cell_type": "markdown",
   "id": "660ea34c",
   "metadata": {},
   "source": [
    "##### Q11. You are given a CSV file containing student data that includes the student ID and their test score. Write a Python program that reads the CSV file, calculates the mean, median, and mode of the test scores, and displays the results in a table.\n",
    "```\n",
    "The program should do the following:\n",
    "- Prompt the user to enter the file path of the CSV file containing the student data\n",
    "- Read the CSV file into a Pandas DataFrame\n",
    "- Calculate the mean, median, and mode of the test scores using Pandas tools\n",
    "- Display the mean, median, and mode in a table.\n",
    "Assume the CSV file contains the following columns:\n",
    "- Student ID: The ID of the student\n",
    "- Test Score: The score of the student's test.\n",
    "Example usage of the program:\n",
    "Enter the file path of the CSV file containing the student data: student_data.csv\n",
    "+-----------+--------+\n",
    "| Statistic | Value |\n",
    "+-----------+--------+\n",
    "| Mean | 79.6 |\n",
    "| Median | 82 |\n",
    "| Mode | 85, 90 |\n",
    "+-----------+--------+\n",
    "Assume that the CSV file student_data.csv contains the following data:\n",
    "Student ID,Test Score\n",
    "1,85\n",
    "2,90\n",
    "3,80\n",
    "4,75\n",
    "5,85\n",
    "6,82\n",
    "7,78\n",
    "8,85\n",
    "9,90\n",
    "10,85\n",
    "The program should calculate the mean, median, and mode of the test scores and display the results\n",
    "in a table.\n",
    "```"
   ]
  },
  {
   "cell_type": "code",
   "execution_count": 21,
   "id": "c7e0e2e1",
   "metadata": {},
   "outputs": [
    {
     "name": "stdout",
     "output_type": "stream",
     "text": [
      "Enter the file path of the CSV file containing the student data: student_data.csv\n"
     ]
    },
    {
     "data": {
      "text/html": [
       "<div>\n",
       "<style scoped>\n",
       "    .dataframe tbody tr th:only-of-type {\n",
       "        vertical-align: middle;\n",
       "    }\n",
       "\n",
       "    .dataframe tbody tr th {\n",
       "        vertical-align: top;\n",
       "    }\n",
       "\n",
       "    .dataframe thead th {\n",
       "        text-align: right;\n",
       "    }\n",
       "</style>\n",
       "<table border=\"1\" class=\"dataframe\">\n",
       "  <thead>\n",
       "    <tr style=\"text-align: right;\">\n",
       "      <th></th>\n",
       "      <th>Statistic</th>\n",
       "      <th>Value</th>\n",
       "    </tr>\n",
       "  </thead>\n",
       "  <tbody>\n",
       "    <tr>\n",
       "      <th>0</th>\n",
       "      <td>Mean</td>\n",
       "      <td>83.5</td>\n",
       "    </tr>\n",
       "    <tr>\n",
       "      <th>1</th>\n",
       "      <td>Median</td>\n",
       "      <td>85.0</td>\n",
       "    </tr>\n",
       "    <tr>\n",
       "      <th>2</th>\n",
       "      <td>Mode</td>\n",
       "      <td>85</td>\n",
       "    </tr>\n",
       "  </tbody>\n",
       "</table>\n",
       "</div>"
      ],
      "text/plain": [
       "  Statistic Value\n",
       "0      Mean  83.5\n",
       "1    Median  85.0\n",
       "2      Mode    85"
      ]
     },
     "execution_count": 21,
     "metadata": {},
     "output_type": "execute_result"
    }
   ],
   "source": [
    "file_path2 = input(\"Enter the file path of the CSV file containing the student data: \")\n",
    "\n",
    "df4 = pd.read_csv(file_path2)\n",
    "\n",
    "mean_score = df4['Test Score'].mean()\n",
    "median_score = df4['Test Score'].median()\n",
    "mode_score = df4['Test Score'].mode()\n",
    "\n",
    "table = pd.DataFrame({\n",
    "                        'Statistic' : ['Mean', 'Median', 'Mode'],\n",
    "#                         'Value' : [mean_score, median_score, mode_score]\n",
    "                        'Value': [mean_score, median_score, ', '.join(map(str, mode_score))]\n",
    "})\n",
    "\n",
    "table"
   ]
  }
 ],
 "metadata": {
  "kernelspec": {
   "display_name": "Python 3 (ipykernel)",
   "language": "python",
   "name": "python3"
  },
  "language_info": {
   "codemirror_mode": {
    "name": "ipython",
    "version": 3
   },
   "file_extension": ".py",
   "mimetype": "text/x-python",
   "name": "python",
   "nbconvert_exporter": "python",
   "pygments_lexer": "ipython3",
   "version": "3.10.8"
  }
 },
 "nbformat": 4,
 "nbformat_minor": 5
}

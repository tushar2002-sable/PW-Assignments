{
 "cells": [
  {
   "cell_type": "markdown",
   "id": "e0b58835-5800-4616-99b1-0236f6005b70",
   "metadata": {},
   "source": [
    "`Q1. What is a database? Differentiate between SQL and NoSQL databases.`"
   ]
  },
  {
   "cell_type": "markdown",
   "id": "14811efb-dcd0-41f9-bb12-f3a8d3e1fe37",
   "metadata": {},
   "source": [
    "A database is a structured collection of data organized and stored in a computer system. It provides a mechanism for storing, managing, and retrieving data efficiently.\n",
    "\n",
    "Differentiating between SQL and NoSQL databases:\n",
    "\n",
    "SQL Databases (Relational Databases):\n",
    "- Structured Query Language (SQL) databases are based on a relational model.\n",
    "- Data is organized into tables with predefined schemas, where each table consists of rows (records) and columns (fields).\n",
    "- Tables define relationships through keys (primary and foreign keys).\n",
    "- Examples of SQL databases include MySQL, Oracle Database, PostgreSQL, and Microsoft SQL Server.\n",
    "\n",
    "NoSQL Databases (Non-relational Databases):\n",
    "- NoSQL databases are designed for flexible and scalable data storage, especially for large-scale distributed systems.\n",
    "- They are not based on a fixed schema or rigid structure.\n",
    "- Data is stored in various formats, such as key-value pairs, documents, columnar, or graph-based models.\n",
    "- NoSQL databases offer horizontal scalability, high availability, and fault tolerance.\n",
    "- They are often used for handling large volumes of unstructured or semi-structured data.\n",
    "- Examples of NoSQL databases include MongoDB, Cassandra, Redis, Couchbase, and Neo4j."
   ]
  },
  {
   "cell_type": "markdown",
   "id": "1b317162-ef0f-49bd-9cd5-f2f2050ee0dc",
   "metadata": {},
   "source": [
    "`Q2. What is DDL? Explain why CREATE, DROP, ALTER, and TRUNCATE are used with an example.`"
   ]
  },
  {
   "cell_type": "markdown",
   "id": "5c77d4f4-5031-42df-bf44-aa23723cac1d",
   "metadata": {},
   "source": [
    "DDL stands for Data Definition Language. DDL statements are responsible for creating, modifying, and deleting database objects such as tables, indexes, views, and constraints.\n",
    "\n",
    "1. CREATE:\n",
    "The CREATE statement is used to create new database objects, such as tables, views, indexes, or schemas. It specifies the name of the object and its structure or definition.\n",
    "\n",
    "Example:\n",
    "```sql\n",
    "CREATE TABLE employees (id INT PRIMARY KEY, name VARCHAR(50), age INT);\n",
    "```\n",
    "\n",
    "2. DROP:\n",
    "The DROP statement is used to delete or remove existing database objects, such as tables, views, or indexes.\n",
    "\n",
    "Example:\n",
    "```sql\n",
    "DROP TABLE employees;\n",
    "```\n",
    "\n",
    "3. ALTER:\n",
    "The ALTER statement is used to modify the structure or definition of existing database objects. It allows adding, modifying, or dropping columns, constraints, or indexes.\n",
    "\n",
    "Example:\n",
    "```sql\n",
    "ALTER TABLE employees ADD COLUMN salary DECIMAL(10,2);\n",
    "```\n",
    "\n",
    "4. TRUNCATE:\n",
    "The TRUNCATE statement is used to remove all data from a table, while keeping the table structure intact. It effectively deletes all rows in the table.\n",
    "\n",
    "Example:\n",
    "```sql\n",
    "TRUNCATE TABLE employees;\n",
    "```"
   ]
  },
  {
   "cell_type": "markdown",
   "id": "ac0a12bc-33fe-49e5-8a0a-adf04175e72b",
   "metadata": {},
   "source": [
    "`Q3. What is DML? Explain INSERT, UPDATE, and DELETE with an example.`"
   ]
  },
  {
   "cell_type": "markdown",
   "id": "7664cb27-0834-4e42-a9aa-172cca85b366",
   "metadata": {},
   "source": [
    "DML stands for Data Manipulation Language. It is used to manipulate or modify data within a database. DML statements are used to insert, update, and delete data from database tables.\n",
    "\n",
    "1. INSERT:\n",
    "The INSERT statement is used to insert new records or rows into a table. It specifies the table name and the values to be inserted into the corresponding columns.\n",
    "\n",
    "Example:\n",
    "```sql\n",
    "INSERT INTO employees (id, name, age) VALUES (1, 'John Doe', 30);\n",
    "```\n",
    "\n",
    "2. UPDATE:\n",
    "The UPDATE statement is used to modify existing records in a table. It allows you to update specific columns or values in one or multiple rows.\n",
    "\n",
    "Example:\n",
    "```sql\n",
    "UPDATE employees SET age = 31 WHERE id = 1;\n",
    "```\n",
    "\n",
    "3. DELETE:\n",
    "The DELETE statement is used to remove one or multiple records from a table based on specified conditions.\n",
    "\n",
    "Example:\n",
    "```sql\n",
    "DELETE FROM employees WHERE id = 1;\n",
    "```"
   ]
  },
  {
   "cell_type": "markdown",
   "id": "dfeed93d-2f0a-4f50-8d41-1932b641a6a1",
   "metadata": {},
   "source": [
    "`Q4. What is DQL? Explain SELECT with an example.`"
   ]
  },
  {
   "cell_type": "markdown",
   "id": "71a95b29-3a0f-4317-b944-f338b3e0044f",
   "metadata": {},
   "source": [
    "DQL stands for Data Query Language. It is used to retrieve and query data from a database. DQL statements are primarily focused on retrieving data and do not modify the structure or content of the database.\n",
    "\n",
    "The most commonly used DQL statement is SELECT.\n",
    "\n",
    "<b>SELECT:</b>\n",
    "The SELECT statement is used to retrieve data from one or more tables in a database. It allows us to specify the columns to be included in the result set, the table(s) from which to retrieve data, and optional filtering and sorting criteria.\n",
    "\n",
    "Example:\n",
    "```sql\n",
    "SELECT * FROM employees WHERE age > 30;\n",
    "```"
   ]
  },
  {
   "cell_type": "markdown",
   "id": "1899fc60-68e9-467e-a3da-064347ebcc3f",
   "metadata": {},
   "source": [
    "`Q5. Explain Primary Key and Foreign Key.`"
   ]
  },
  {
   "cell_type": "markdown",
   "id": "f98f94a8-96de-4450-b532-15b40f8d23b5",
   "metadata": {},
   "source": [
    "`Primary Key:`\n",
    "A primary key is a column or a set of columns in a database table that uniquely identifies each record in the table. It ensures the uniqueness and integrity of the data within the table.\n",
    "\n",
    "Primary keys are used to enforce entity integrity and provide a means to uniquely identify records in a table. They are often implemented using an automatically incrementing integer (e.g., ID column) or a combination of columns that uniquely identify a record.\n",
    "\n",
    "Foreign Key:\n",
    "A foreign key is a column or a set of columns in a database table that establishes a link or relationship between two tables. It references the primary key of another table, creating a connection between the two tables based on the values of the foreign key column(s). A foreign key represents a \"child\" relationship to the primary key of another table, known as the \"parent\" table.\n",
    "\n",
    "The foreign key enforces referential integrity and maintains the relationship between related tables. It ensures that the values in the foreign key column(s) in the child table correspond to valid values present in the referenced primary key column(s) of the parent table."
   ]
  },
  {
   "cell_type": "markdown",
   "id": "cdb18671-b068-4728-b25c-a04b68f78238",
   "metadata": {},
   "source": [
    "`Q6. Write a python code to connect MySQL to python. Explain the cursor() and execute() method.`"
   ]
  },
  {
   "cell_type": "markdown",
   "id": "986b908a-52a6-48a3-8622-057f86060e85",
   "metadata": {},
   "source": [
    "To connect MySQL to Python, we can use the `mysql-connector-python` library, which provides a Python interface for interacting with MySQL databases. Here's an example code snippet to establish a connection and execute a query:\n",
    "\n",
    "```python\n",
    "import mysql.connector\n",
    "\n",
    "# Establish connection\n",
    "connection = mysql.connector.connect(\n",
    "    host=\"host name\",\n",
    "    user=\"username\",\n",
    "    password=\"password\",\n",
    "    database=\"database\"\n",
    ")\n",
    "\n",
    "# Create cursor\n",
    "cursor = connection.cursor()\n",
    "\n",
    "# Execute query\n",
    "query = \"SELECT * FROM your_table\"\n",
    "cursor.execute(query)\n",
    "\n",
    "# Fetch and print results\n",
    "results = cursor.fetchall()\n",
    "for a in results:\n",
    "    print(a)\n",
    "\n",
    "# Close cursor and connection\n",
    "cursor.close()\n",
    "connection.close()\n",
    "```\n",
    "\n",
    "Explanation of the cursor() method:\n",
    "The `cursor()` method is used to create a cursor object, which allows us to execute SQL statements and fetch results from the database.\n",
    "\n",
    "Explanation of the execute() method:\n",
    "The `execute()` method is used to execute SQL statements or queries through the cursor object. It takes the SQL query as a parameter and performs the specified action on the database. The `execute()` method can be used for various SQL operations like SELECT, INSERT, UPDATE, DELETE, etc."
   ]
  },
  {
   "cell_type": "markdown",
   "id": "86f188cc-2b92-4af6-9c21-7ceed0f7e66f",
   "metadata": {},
   "source": [
    "`Q7. Give the order of execution of SQL clauses in an SQL query.`"
   ]
  },
  {
   "cell_type": "markdown",
   "id": "63f942f6-dc79-4c7f-968a-8bddd202366f",
   "metadata": {},
   "source": [
    "The order of execution of SQL clauses in an SQL query is as follows:\n",
    "\n",
    "1. FROM: The FROM clause specifies the table(s) from which data will be retrieved.\n",
    "\n",
    "2. WHERE: The WHERE clause filters the data based on specified conditions.\n",
    "\n",
    "3. GROUP BY: The GROUP BY clause is used to group rows based on specific columns.\n",
    "\n",
    "4. HAVING: The HAVING clause filters the grouped data based on specified conditions.\n",
    "\n",
    "5. SELECT: The SELECT clause determines the columns to be included in the result set.\n",
    "\n",
    "6. DISTINCT: The DISTINCT keyword eliminates duplicate rows from the result set.\n",
    "\n",
    "7. ORDER BY: The ORDER BY clause sorts the result set based on specified columns and sort orders.\n",
    "\n",
    "8. LIMIT/OFFSET: The LIMIT clause restricts the number of rows returned in the result set, while the OFFSET clause determines the starting point of the returned rows."
   ]
  }
 ],
 "metadata": {
  "kernelspec": {
   "display_name": "Python 3 (ipykernel)",
   "language": "python",
   "name": "python3"
  },
  "language_info": {
   "codemirror_mode": {
    "name": "ipython",
    "version": 3
   },
   "file_extension": ".py",
   "mimetype": "text/x-python",
   "name": "python",
   "nbconvert_exporter": "python",
   "pygments_lexer": "ipython3",
   "version": "3.10.8"
  }
 },
 "nbformat": 4,
 "nbformat_minor": 5
}

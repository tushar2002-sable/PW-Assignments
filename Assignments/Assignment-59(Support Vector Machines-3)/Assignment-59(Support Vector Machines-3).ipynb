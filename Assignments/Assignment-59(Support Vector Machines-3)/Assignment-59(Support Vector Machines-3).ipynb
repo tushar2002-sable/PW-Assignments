{
 "cells": [
  {
   "cell_type": "markdown",
   "id": "af91377c",
   "metadata": {},
   "source": [
    "### Q1. In order to predict house price based on several characteristics, such as location, square footage, number of bedrooms, etc., you are developing an SVM regression model. Which regression metric in this situation would be the best to employ?\n",
    "### Dataset link: https://drive.google.com/file/d/1Z9oLpmt6IDRNw7IeNcHYTGeJRYypRSC0/view?usp=share_link"
   ]
  },
  {
   "cell_type": "markdown",
   "id": "65149eba",
   "metadata": {},
   "source": [
    "The best regression metric to use in this situation is the **Mean Squared Error (MSE)**. The MSE is a measure of the average squared error between the predicted values and the actual values. It is a good metric to use when the data is normally distributed and there is no bias in the model.\n",
    "\n",
    "In the case of the house price dataset, the data is likely to be normally distributed and there is no bias in the model. Therefore, the MSE is a good metric to use to evaluate the performance of the SVM regression model.\n",
    "\n",
    "Here are some other regression metrics that can be used to evaluate the performance of an SVM regression model:\n",
    "\n",
    "* Root Mean Squared Error (RMSE): The RMSE is the square root of the MSE. It is a more interpretable metric than the MSE.\n",
    "* Mean Absolute Error (MAE): The MAE is the average of the absolute errors between the predicted values and the actual values. It is a less sensitive to outliers than the MSE.\n",
    "* R-squared: The R-squared is a measure of the proportion of the variance in the target variable that is explained by the model. It is a good metric to use when the data is not normally distributed."
   ]
  },
  {
   "cell_type": "markdown",
   "id": "fd3ab791",
   "metadata": {},
   "source": [
    "### Q2. You have built an SVM regression model and are trying to decide between using MSE or R-squared as your evaluation metric. Which metric would be more appropriate if your goal is to predict the actual price of a house as accurately as possible?"
   ]
  },
  {
   "cell_type": "markdown",
   "id": "60630446",
   "metadata": {},
   "source": [
    "If our goal is to predict the actual price of a house as accurately as possible, then the **Mean Squared Error (MSE)** is the more appropriate metric. The MSE is a measure of the average squared error between the predicted values and the actual values. A lower MSE indicates that the model is making less error.\n",
    "\n",
    "The R-squared is a measure of the proportion of the variance in the target variable that is explained by the model. It is a good metric to use when the goal is to understand the relationship between the independent variables and the target variable. However, it is not as good at measuring the accuracy of the model's predictions.\n",
    "\n",
    "In the case of predicting the actual price of a house, the goal is to make accurate predictions. Therefore, the MSE is the more appropriate metric to use.\n",
    "\n",
    "Here is a table that summarizes the strengths and weaknesses of the MSE and R-squared metrics:\n",
    "\n",
    "| Metric | Strengths | Weaknesses |\n",
    "|---|---|---|\n",
    "| MSE | Measures the accuracy of the model's predictions | Sensitive to outliers |\n",
    "| R-squared | Measures the explanatory power of the model | Not as good at measuring the accuracy of the model's predictions |"
   ]
  },
  {
   "cell_type": "markdown",
   "id": "21edc8fe",
   "metadata": {},
   "source": [
    "### Q3. You have a dataset with a significant number of outliers and are trying to select an appropriate regression metric to use with your SVM model. Which metric would be the most appropriate in this scenario?"
   ]
  },
  {
   "cell_type": "markdown",
   "id": "4d7f18a8",
   "metadata": {},
   "source": [
    "If we have a dataset with a significant number of outliers, then the **Mean Absolute Error (MAE)** is the most appropriate metric to use with our SVM model. The MAE is a measure of the average of the absolute errors between the predicted values and the actual values. It is less sensitive to outliers than the MSE.\n",
    "\n",
    "The MAE is not as sensitive to outliers as the MSE. This means that the MAE will not be as affected by a few outliers in the data. Therefore, the MAE is a good metric to use when the data has outliers.\n",
    "\n",
    "Here is a table that summarizes the strengths and weaknesses of the MSE and MAE metrics:\n",
    "\n",
    "| Metric | Strengths | Weaknesses |\n",
    "|---|---|---|\n",
    "| MSE | Measures the accuracy of the model's predictions | Sensitive to outliers |\n",
    "| MAE | Less sensitive to outliers | Not as good at measuring the accuracy of the model's predictions |\n",
    "\n",
    "In addition to the MAE, other robust regression metrics that are less sensitive to outliers include:\n",
    "\n",
    "* **Median Absolute Error (MedAE)**: The MedAE is the median of the absolute errors between the predicted values and the actual values.\n",
    "* **Tukey's Biweight Loss**: The Tukey's Biweight Loss is a robust loss function that is less sensitive to outliers than the MSE.\n",
    "* **Huber Loss**: The Huber Loss is another robust loss function that is less sensitive to outliers than the MSE."
   ]
  },
  {
   "cell_type": "markdown",
   "id": "a26f37f5",
   "metadata": {},
   "source": [
    "### Q4. You have built an SVM regression model using a polynomial kernel and are trying to select the best metric to evaluate its performance. You have calculated both MSE and RMSE and found that both values are very close. Which metric should you choose to use in this case?"
   ]
  },
  {
   "cell_type": "markdown",
   "id": "f801df0b",
   "metadata": {},
   "source": [
    "In this case, we can choose to use either the MSE or the RMSE. Both metrics are measures of the average error between the predicted values and the actual values. The MSE is the average squared error, while the RMSE is the square root of the MSE.\n",
    "\n",
    "In our case, both the MSE and the RMSE are very close. This means that the model is not making a lot of error. We can choose to use either metric, depending on our preference.\n",
    "\n",
    "Here are some additional factors to consider when choosing between the MSE and the RMSE:\n",
    "\n",
    "* **Interpretability:** The RMSE is more interpretable than the MSE. It is measured in the same units as the target variable, so it is easier to understand.\n",
    "* **Sensitivity to outliers:** The MSE is more sensitive to outliers than the RMSE. This means that a few outliers can have a big impact on the MSE.\n",
    "* **Goals of the analysis:** If you are trying to understand the relationship between the independent variables and the target variable, then the MSE may be a better choice. If you are trying to make accurate predictions, then the RMSE may be a better choice."
   ]
  },
  {
   "cell_type": "markdown",
   "id": "82011351",
   "metadata": {},
   "source": [
    "### Q5. You are comparing the performance of different SVM regression models using different kernels (linear, polynomial, and RBF) and are trying to select the best evaluation metric. Which metric would be most appropriate if your goal is to measure how well the model explains the variance in the target variable?"
   ]
  },
  {
   "cell_type": "markdown",
   "id": "1eff433b",
   "metadata": {},
   "source": [
    "If our goal is to measure how well the model explains the variance in the target variable, then the **R-squared** metric is the most appropriate. The R-squared is a measure of the proportion of the variance in the target variable that is explained by the model. It is a good metric to use when the data is not normally distributed.\n",
    "\n",
    "The R-squared can be interpreted as the proportion of the variance in the target variable that is explained by the model. A higher R-squared indicates that the model is explaining more of the variance in the target variable.\n",
    "\n",
    "In our case, we are comparing the performance of different SVM regression models using different kernels. The R-squared metric can be used to compare the models and see which model is explaining more of the variance in the target variable.\n",
    "\n",
    "Here are some other metrics that can be used to measure the explanatory power of a model:\n",
    "\n",
    "* Adjusted R-squared: The adjusted R-squared is a modified version of the R-squared that takes into account the number of independent variables in the model.\n",
    "* Mean Squared Error of Prediction (MSPE): The MSPE is a measure of the average squared error between the predicted values and the actual values on a new dataset.\n",
    "* Mean Absolute Error of Prediction (MAEP): The MAEP is a measure of the average absolute error between the predicted values and the actual values on a new dataset."
   ]
  }
 ],
 "metadata": {
  "kernelspec": {
   "display_name": "Python 3 (ipykernel)",
   "language": "python",
   "name": "python3"
  },
  "language_info": {
   "codemirror_mode": {
    "name": "ipython",
    "version": 3
   },
   "file_extension": ".py",
   "mimetype": "text/x-python",
   "name": "python",
   "nbconvert_exporter": "python",
   "pygments_lexer": "ipython3",
   "version": "3.11.4"
  }
 },
 "nbformat": 4,
 "nbformat_minor": 5
}

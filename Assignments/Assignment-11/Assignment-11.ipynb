{
 "cells": [
  {
   "cell_type": "markdown",
   "id": "c4432cb7-ac7c-42cb-bbca-7c42c74f54e0",
   "metadata": {},
   "source": [
    "`Q1. What is multiprocessing in python? Why is it useful?`"
   ]
  },
  {
   "cell_type": "markdown",
   "id": "88b5f680-0c52-4e12-91cf-24179554d449",
   "metadata": {},
   "source": [
    "Multiprocessing in Python refers to the capability of running multiple processes simultaneously. It allows the execution of multiple tasks concurrently on different processors or processor cores, thereby utilizing the available resources efficiently and potentially improving performance.\n",
    "\n",
    "Here are some reasons why multiprocessing is useful:\n",
    "\n",
    "1. Improved Performance: It allows for parallel execution, where different processes can work on different parts of a problem simultaneously.\n",
    "\n",
    "2. Utilization of Multiple Resources: It allows you to take advantage of the full computational power of your machine.\n",
    "\n",
    "3. Independent Process Execution: Each process in multiprocessing has its own memory space, enabling independent execution.\n",
    "\n",
    "4. Handling CPU-bound Tasks: Multiprocessing is particularly useful for handling CPU-bound tasks that involve heavy computation, such as mathematical calculations, simulations, data processing, and machine learning.\n",
    "\n",
    "5. Improved Responsiveness: By running tasks in separate processes, multiprocessing can prevent a single task from blocking the execution of others."
   ]
  },
  {
   "cell_type": "markdown",
   "id": "d3f580fa-4d01-4589-9d9c-b66114312d2a",
   "metadata": {},
   "source": [
    "`Q2. What are the differences between multiprocessing and multithreading?`"
   ]
  },
  {
   "cell_type": "markdown",
   "id": "54238a92-abdc-4910-848c-19746361ba11",
   "metadata": {},
   "source": [
    "The main differences between multiprocessing and multithreading are as follows:\n",
    "\n",
    "1. Execution Model: In multiprocessing, multiple processes are executed simultaneously. In contrast, multithreading involves the execution of multiple threads within a single process.\n",
    "\n",
    "2. Resource Utilization: Multiprocessing can utilize multiple CPUs or CPU cores, allowing for true parallel execution of tasks. On the other hand, multithreading typically runs on a single CPU or CPU core.\n",
    "\n",
    "3. Memory Overhead: Multiprocessing generally incurs higher memory overhead compared to multithreading. In multithreading, threads share the same memory space, resulting in lower memory overhead.\n",
    "\n",
    "4. Communication and Synchronization: In multiprocessing, communication and synchronization between processes typically involve inter-process communication (IPC) mechanisms such as pipes, queues, or shared memory. This adds some complexity to the programming process. In multithreading, communication and synchronization between threads can be achieved using shared data structures and synchronization primitives like locks, semaphores, and condition variables.\n",
    "\n",
    "5. Fault Isolation: In multiprocessing, if one process encounters an error or crashes, it does not affect the execution of other processes. In multithreading, an error or crash in one thread can potentially affect the entire process, as all threads share the same memory space.\n",
    "\n",
    "6. Use Cases: Multiprocessing is suitable for CPU-bound tasks while Multithreading is more appropriate for I/O-bound tasks."
   ]
  },
  {
   "cell_type": "markdown",
   "id": "24718c8c-c87d-4c24-a3ff-862803a9cbb7",
   "metadata": {},
   "source": [
    "`Q3. Write a python code to create a process using the multiprocessing module.`"
   ]
  },
  {
   "cell_type": "code",
   "execution_count": 3,
   "id": "dd9195b9-113d-42ec-9292-5a88f432e4cc",
   "metadata": {},
   "outputs": [
    {
     "name": "stdout",
     "output_type": "stream",
     "text": [
      "Hello Basit!\n",
      "Process completed.\n"
     ]
    }
   ],
   "source": [
    "import multiprocessing \n",
    "    \n",
    "def process(name):\n",
    "    print(f\"Hello {name}!\")\n",
    "\n",
    "if __name__ == \"__main__\":\n",
    "    p = multiprocessing.Process(target=process, args= (\"Basit\",))\n",
    "    \n",
    "    p.start()\n",
    "    p.join()\n",
    "    \n",
    "    print(\"Process completed.\")"
   ]
  },
  {
   "cell_type": "markdown",
   "id": "68caddb6-e491-41cf-8c69-eee49eb3f3e0",
   "metadata": {},
   "source": [
    "`Q4. What is a multiprocessing pool in python? Why is it used?`"
   ]
  },
  {
   "cell_type": "markdown",
   "id": "55851e5c-fe10-4dff-adf4-7c24eddebccb",
   "metadata": {},
   "source": [
    "A multiprocessing pool in Python refers to a pool of worker processes that can be used to parallelize the execution of a function across multiple input values. It is a convenient way to distribute the workload among multiple processes and utilize the available CPU cores efficiently.\n",
    "\n",
    "The multiprocessing pool is created using the `Pool` class from the `multiprocessing` module. The pool creates a specified number of worker processes, typically equal to the number of CPU cores available. These worker processes can then be used to execute tasks in parallel.\n",
    "\n",
    "The multiprocessing pool is useful in scenarios where we have a computationally intensive task that can be broken down into smaller independent sub-tasks.\n",
    "\n",
    "Advantages of using a multiprocessing pool include:\n",
    "\n",
    "1. Parallel processing\n",
    "2. Simplified task distribution\n",
    "3. Resource management\n",
    "4. Synchronization and result retrieval"
   ]
  },
  {
   "cell_type": "markdown",
   "id": "8cc5e74a-fa6d-43a6-9a74-ca13b59d3e60",
   "metadata": {},
   "source": [
    "`Q5. How can we create a pool of worker processes in python using the multiprocessing module?`"
   ]
  },
  {
   "cell_type": "markdown",
   "id": "91f9a64f-7c80-493b-8b77-3585032782bb",
   "metadata": {},
   "source": [
    "To create a pool of worker processes in Python using the `multiprocessing` module, follow these steps:\n",
    "\n",
    "1. import multiprocessing\n",
    "\n",
    "2. num_processes = multiprocessing.cpu_count()\n",
    "\n",
    "3. pool = multiprocessing.Pool(processes=num_processes)\n",
    "\n",
    "4. using the `map()` method to parallelize the execution of a function across a list of input values:"
   ]
  },
  {
   "cell_type": "code",
   "execution_count": 5,
   "id": "8daa28ce-11fb-43d1-861d-f975351ae54d",
   "metadata": {},
   "outputs": [
    {
     "name": "stdout",
     "output_type": "stream",
     "text": [
      "[1, 4, 9, 16, 25]\n"
     ]
    }
   ],
   "source": [
    "# Example\n",
    "import multiprocessing\n",
    "\n",
    "num_process = multiprocessing.cpu_count()\n",
    "\n",
    "def square(x):\n",
    "    return x ** 2\n",
    "\n",
    "if __name__ == \"__main__\":\n",
    "   \n",
    "    pool = multiprocessing.Pool(processes=num_process)\n",
    "\n",
    "    input_values = [1, 2, 3, 4, 5]\n",
    "\n",
    "    # Use the map() method to apply the square function to each input value\n",
    "    results = pool.map(square, input_values)\n",
    "\n",
    "    print(results)\n",
    "\n",
    "    pool.close()\n",
    "    pool.join()"
   ]
  },
  {
   "cell_type": "markdown",
   "id": "bdafc6a0-f9f2-47cb-b175-4b3136573bcf",
   "metadata": {},
   "source": [
    "`Q6. Write a python program to create 4 processes, each process should print a different number using the\n",
    "multiprocessing module in python.`"
   ]
  },
  {
   "cell_type": "code",
   "execution_count": 13,
   "id": "6801e8f0-73db-4319-abd1-61dbb6385da8",
   "metadata": {},
   "outputs": [
    {
     "name": "stdout",
     "output_type": "stream",
     "text": [
      "Process ID:  3394\n",
      "Number:  1\n",
      "Process ID:  3411\n",
      "Number:  2\n",
      "Process ID:  3428\n",
      "Number:  3\n",
      "Process ID:  3445\n",
      "Number:  4\n"
     ]
    }
   ],
   "source": [
    "import multiprocessing\n",
    "        \n",
    "def print_num(num):\n",
    "    pid = multiprocessing.current_process().pid\n",
    "    print(\"Process ID: \", pid)\n",
    "    print(\"Number: \", num)\n",
    "\n",
    "if __name__ == \"__main__\":\n",
    "    processes = []\n",
    "    \n",
    "    for num in range(1,5):\n",
    "        process = multiprocessing.Process(target=print_num, args=(num,))\n",
    "        processes.append(process)\n",
    "        process.start()\n",
    "        process.join()"
   ]
  }
 ],
 "metadata": {
  "kernelspec": {
   "display_name": "Python 3 (ipykernel)",
   "language": "python",
   "name": "python3"
  },
  "language_info": {
   "codemirror_mode": {
    "name": "ipython",
    "version": 3
   },
   "file_extension": ".py",
   "mimetype": "text/x-python",
   "name": "python",
   "nbconvert_exporter": "python",
   "pygments_lexer": "ipython3",
   "version": "3.10.8"
  }
 },
 "nbformat": 4,
 "nbformat_minor": 5
}

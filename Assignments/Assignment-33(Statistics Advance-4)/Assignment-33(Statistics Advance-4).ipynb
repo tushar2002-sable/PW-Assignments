{
 "cells": [
  {
   "cell_type": "markdown",
   "id": "77ad51ac",
   "metadata": {},
   "source": [
    "##### Q1: What is the difference between a t-test and a z-test? Provide an example scenario where you would use each type of test."
   ]
  },
  {
   "cell_type": "markdown",
   "id": "36692873",
   "metadata": {},
   "source": [
    "A **t-test** and a **z-test** are both statistical tests that are used to compare the means of two groups. However, there are some key differences between the two tests.\n",
    "\n",
    "* **The t-test is used when the population standard deviation is unknown, while the z-test is used when the population standard deviation is known.**\n",
    "* **The t-test is more conservative than the z-test, meaning that it is less likely to reject the null hypothesis when the null hypothesis is actually false.**\n",
    "\n",
    "Here are some examples:\n",
    "\n",
    "* **We would use a t-test if we were conducting a study to compare the average height of male and female students at our university, but we did not know the population standard deviation for height.**\n",
    "* **We would use a z-test if we were conducting a study to compare the average IQ scores of two groups of children, and we knew the population standard deviation for IQ scores.**"
   ]
  },
  {
   "cell_type": "markdown",
   "id": "fbc25b54",
   "metadata": {},
   "source": [
    "##### Q2: Differentiate between one-tailed and two-tailed tests."
   ]
  },
  {
   "cell_type": "markdown",
   "id": "f7b8fbfc",
   "metadata": {},
   "source": [
    "A **one-tailed test** is a statistical test that is used to determine whether the mean of a sample is significantly different from a hypothesized mean in one direction only. A **two-tailed test** is a statistical test that is used to determine whether the mean of a sample is significantly different from a hypothesized mean in either direction.\n",
    "\n",
    "Here is a table that summarizes the key differences between one-tailed and two-tailed tests:\n",
    "\n",
    "| Feature | One-tailed test | Two-tailed test |\n",
    "|---|---|---|\n",
    "| Direction | The mean of the sample is compared to a hypothesized mean in one direction only. | The mean of the sample is compared to a hypothesized mean in either direction. |\n",
    "| P-value | The p-value is the probability of obtaining a result as extreme or more extreme than the one observed in the sample, assuming that the null hypothesis is true. The p-value is calculated for one tail of the distribution only. | The p-value is the probability of obtaining a result as extreme or more extreme than the one observed in the sample, assuming that the null hypothesis is true. The p-value is calculated for both tails of the distribution. |\n",
    "| Significance level | The significance level is the probability of rejecting the null hypothesis when it is actually true. The significance level is typically set at 0.05 or 0.01. | The significance level is the probability of rejecting the null hypothesis when it is actually true. The significance level is typically set at 0.05 or 0.01. |\n",
    "\n",
    "Here are some examples of when we would use each type of test:\n",
    "\n",
    "* **We would use a one-tailed test if we were conducting a study to determine whether a new drug is effective in reducing blood pressure. We would hypothesize that the drug would reduce blood pressure, so we would only be interested in finding evidence that the mean blood pressure of the treatment group is lower than the mean blood pressure of the control group.**\n",
    "* **We would use a two-tailed test if we were conducting a study to determine whether there is a difference in the average IQ scores of men and women. We would not hypothesize that the mean IQ score of men is higher or lower than the mean IQ score of women, so we would be interested in finding evidence that the mean IQ scores of the two groups are different in either direction.**"
   ]
  },
  {
   "cell_type": "markdown",
   "id": "9f212fb8",
   "metadata": {},
   "source": [
    "##### Q3: Explain the concept of Type 1 and Type 2 errors in hypothesis testing. Provide an example scenario for each type of error."
   ]
  },
  {
   "cell_type": "markdown",
   "id": "95fd3baa",
   "metadata": {},
   "source": [
    "In hypothesis testing, there are two types of errors that can be made: **Type I** and **Type II** errors.\n",
    "\n",
    "* **A Type I error** is made when the null hypothesis is rejected when it is actually true. This is also known as a **false positive**.\n",
    "* **A Type II error** is made when the null hypothesis is not rejected when it is actually false. This is also known as a **false negative**.\n",
    "\n",
    "Here is an example scenario for each type of error:\n",
    "\n",
    "* **Type I error:** A pharmaceutical company is testing a new drug to see if it is effective in reducing blood pressure. The null hypothesis is that the drug is not effective. The company sets a significance level of 0.05, which means that they are willing to accept a 5% chance of making a Type I error. If the p-value for the test is less than 0.05, the company will reject the null hypothesis and conclude that the drug is effective. However, if the p-value is greater than 0.05, the company will not reject the null hypothesis and conclude that the drug is not effective.\n",
    "\n",
    "* **Type II error:** A researcher is conducting a study to see if there is a difference in the average IQ scores of men and women. The null hypothesis is that there is no difference in the average IQ scores of men and women. The researcher sets a significance level of 0.05, which means that they are willing to accept a 5% chance of making a Type II error. If the p-value for the test is less than 0.05, the researcher will reject the null hypothesis and conclude that there is a difference in the average IQ scores of men and women. However, if the p-value is greater than 0.05, the researcher will not reject the null hypothesis and conclude that there is no difference in the average IQ scores of men and women.\n",
    "\n",
    "It is important to note that it is impossible to completely eliminate the possibility of making a Type I or Type II error. The best way to reduce the risk of making either type of error is to carefully consider the significance level before conducting the test."
   ]
  },
  {
   "cell_type": "markdown",
   "id": "7b047966",
   "metadata": {},
   "source": [
    "##### Q4: Explain Bayes's theorem with an example."
   ]
  },
  {
   "cell_type": "markdown",
   "id": "34a16c99",
   "metadata": {},
   "source": [
    "Bayes' theorem is a formula that is used to update our beliefs about the probability of an event based on new evidence. The theorem is named after Thomas Bayes, an English mathematician who first published it in 1763.\n",
    "\n",
    "The formula for Bayes' theorem is as follows:\n",
    "\n",
    "```\n",
    "P(A|B) = P(B|A) * P(A) / P(B)\n",
    "```\n",
    "\n",
    "Where:\n",
    "\n",
    "* **P(A|B)** is the probability of event A occurring given that event B has already occurred.\n",
    "* **P(B|A)** is the probability of event B occurring given that event A has already occurred.\n",
    "* **P(A)** is the prior probability of event A occurring.\n",
    "* **P(B)** is the prior probability of event B occurring.\n",
    "\n",
    "Let's say that we are interested in the probability of a patient having a certain disease based on the results of a medical test. The disease is rare, so the prior probability of the patient having the disease is low. The medical test is also not perfect, so it can sometimes give false positive or false negative results.\n",
    "\n",
    "The formula for Bayes' theorem can be used to update our beliefs about the probability of the patient having the disease based on the results of the medical test. For example, if the medical test is positive, the probability of the patient having the disease will increase. However, the probability will not increase to 100%, because there is still a chance that the test result is a false positive.\n",
    "\n",
    "Here is an example of how Bayes' theorem can be used in a real-world situation:\n",
    "\n",
    "* **Event A:** The patient has the disease.\n",
    "* **Event B:** The medical test is positive.\n",
    "* **Prior probability of event A:** 1%.\n",
    "* **Prior probability of event B:** 50%.\n",
    "* **Probability of event B given event A:** 90%.\n",
    "* **Probability of event A given event B:** (90%) * (1%) / (50%) = 18%.\n",
    "\n",
    "As you can see, the probability of the patient having the disease increases from 1% to 18% after the medical test is positive. However, the probability does not increase to 100%, because there is still a chance that the test result is a false positive."
   ]
  },
  {
   "cell_type": "markdown",
   "id": "ca7ffd3f",
   "metadata": {},
   "source": [
    "##### Q5: What is a confidence interval? How to calculate the confidence interval, explain with an example."
   ]
  },
  {
   "cell_type": "markdown",
   "id": "303d88b1",
   "metadata": {},
   "source": [
    "A **confidence interval** is a range of values that is likely to contain the true population mean. The confidence interval is calculated based on the sample mean, the standard deviation, and the sample size.\n",
    "\n",
    "The formula for calculating a confidence interval is as follows:\n",
    "\n",
    "```\n",
    "confidence interval = sample mean ± z-score * standard deviation / sqrt(sample size)\n",
    "```\n",
    "\n",
    "Where:\n",
    "\n",
    "* **z-score** is a number that corresponds to the desired confidence level. For example, a z-score of 1.96 corresponds to a 95% confidence interval.\n",
    "* **Standard deviation** is the amount of variation in the data.\n",
    "* **Sample size** is the number of observations in the sample.\n",
    "\n",
    "Let's say that we have a sample mean of 50, a standard deviation of 10, and a sample size of 30. We want to calculate a 95% confidence interval for the population mean.\n",
    "\n",
    "Plugging in the values we know, we get:\n",
    "\n",
    "```\n",
    "confidence interval = 50 ± 1.96 * 10 / sqrt(30)\n",
    "```\n",
    "\n",
    "```\n",
    "confidence interval = (43.04, 56.96)\n",
    "```\n",
    "\n",
    "As you can see, the confidence interval is a range of values from 43.04 to 56.96. This means that we are 95% confident that the true population mean is within this range."
   ]
  },
  {
   "cell_type": "markdown",
   "id": "bbe7ee8f",
   "metadata": {},
   "source": [
    "##### Q6. Use Bayes' Theorem to calculate the probability of an event occurring given prior knowledge of the event's probability and new evidence. Provide a sample problem and solution."
   ]
  },
  {
   "cell_type": "markdown",
   "id": "a9889a44",
   "metadata": {},
   "source": [
    "Here is an example of how Bayes' theorem can be used to calculate the probability of an event occurring given prior knowledge of the event's probability and new evidence:\n",
    "\n",
    "Let's say that we are interested in the probability of a patient having a certain disease based on the results of a medical test. The disease is rare, so the prior probability of the patient having the disease is low. The medical test is also not perfect, so it can sometimes give false positive or false negative results.\n",
    "\n",
    "The formula for Bayes' theorem can be used to update our beliefs about the probability of the patient having the disease based on the results of the medical test. For example, if the medical test is positive, the probability of the patient having the disease will increase. However, the probability will not increase to 100%, because there is still a chance that the test result is a false positive.\n",
    "\n",
    "Here is the sample problem:\n",
    "\n",
    "* **Event A:** The patient has the disease.\n",
    "* **Event B:** The medical test is positive.\n",
    "* **Prior probability of event A:** 1%.\n",
    "* **Prior probability of event B:** 50%.\n",
    "* **Probability of event B given event A:** 90%.\n",
    "\n",
    "We can use Bayes' theorem to calculate the probability of event A (the patient having the disease) given event B (the medical test being positive).\n",
    "\n",
    "```\n",
    "P(A|B) = P(B|A) * P(A) / P(B)\n",
    "```\n",
    "\n",
    "```\n",
    "P(A|B) = (90%) * (1%) / (50%) = 18%\n",
    "```\n",
    "\n",
    "As you can see, the probability of the patient having the disease increases from 1% to 18% after the medical test is positive. However, the probability does not increase to 100%, because there is still a chance that the test result is a false positive.\n"
   ]
  },
  {
   "cell_type": "markdown",
   "id": "aced76d3",
   "metadata": {},
   "source": [
    "##### Q7. Calculate the 95% confidence interval for a sample of data with a mean of 50 and a standard deviation of 5. Interpret the results."
   ]
  },
  {
   "cell_type": "markdown",
   "id": "ef7db421",
   "metadata": {},
   "source": [
    "Here are the steps on how to calculate the 95% confidence interval for a sample of data with a mean of 50 and a standard deviation of 5:\n",
    "\n",
    "1. Find the z-score for a 95% confidence interval. The z-score is 1.96.\n",
    "2. Multiply the z-score by the standard deviation. This will give you the margin of error.\n",
    "3. Add and subtract the margin of error from the mean to get the confidence interval.\n",
    "\n",
    "The margin of error is 1.96 * 5 = 9.8.\n",
    "\n",
    "The confidence interval is 50 ± 9.8 = 40.2 to 59.8.\n",
    "\n",
    "This means that we are 95% confident that the true population mean is within the range of 40.2 to 59.8.\n",
    "\n",
    "Interpreting the results:\n",
    "\n",
    "* The confidence interval is a range of values that is likely to contain the true population mean.\n",
    "* The confidence level is the probability that the true population mean is within the confidence interval.\n",
    "* The margin of error is the amount of uncertainty in the confidence interval.\n",
    "\n",
    "In this case, we are 95% confident that the true population mean is within the range of 40.2 to 59.8. This means that there is a 5% chance that the true population mean is outside of this range. The margin of error is 9.8, which means that the true population mean could be as low as 40.2 or as high as 59.8."
   ]
  },
  {
   "cell_type": "markdown",
   "id": "91e3e15b",
   "metadata": {},
   "source": [
    "##### Q8. What is the margin of error in a confidence interval? How does sample size affect the margin of error? Provide an example of a scenario where a larger sample size would result in a smaller margin of error."
   ]
  },
  {
   "cell_type": "markdown",
   "id": "4f16ec9d",
   "metadata": {},
   "source": [
    "The margin of error in a confidence interval is the amount of uncertainty in the interval. It is calculated by multiplying the z-score by the standard deviation. The z-score is a number that corresponds to the desired confidence level. For example, a z-score of 1.96 corresponds to a 95% confidence interval.\n",
    "\n",
    "The sample size affects the margin of error in a way that is inversely proportional. This means that as the sample size increases, the margin of error decreases. This is because a larger sample size provides more information about the population, which makes the confidence interval more precise.\n",
    "\n",
    "For example, let's say that we have a sample of data with a mean of 50 and a standard deviation of 5. We want to calculate a 95% confidence interval for the population mean.\n",
    "\n",
    "If the sample size is 30, the margin of error is 9.8.\n",
    "\n",
    "If the sample size is 100, the margin of error is 4.9.\n",
    "\n",
    "As you can see, the margin of error decreases as the sample size increases.\n",
    "\n",
    "An example of a scenario where a larger sample size would result in a smaller margin of error would be a survey of voter preferences. If we want to be very confident that our results are accurate, we would need to survey a large number of people. This would give us a smaller margin of error and make our results more precise."
   ]
  },
  {
   "cell_type": "markdown",
   "id": "462c9389",
   "metadata": {},
   "source": [
    "##### Q9. Calculate the z-score for a data point with a value of 75, a population mean of 70, and a population standard deviation of 5. Interpret the results."
   ]
  },
  {
   "cell_type": "markdown",
   "id": "470f970d",
   "metadata": {},
   "source": [
    "Here are the steps on how to calculate the z-score for a data point with a value of 75, a population mean of 70, and a population standard deviation of 5:\n",
    "\n",
    "1. Subtract the mean from the data point.\n",
    "2. Divide the result by the standard deviation.\n",
    "\n",
    "The z-score is (75 - 70) / 5 = 1.\n",
    "\n",
    "Interpreting the results:\n",
    "\n",
    "* The z-score is a measure of how far a data point is from the mean in terms of standard deviations.\n",
    "* A z-score of 1 means that the data point is 1 standard deviation above the mean.\n",
    "* In this case, the data point with a value of 75 is 1 standard deviation above the population mean.\n",
    "\n",
    "This means that the data point is more than average. However, it is important to note that a z-score of 1 is not necessarily a significant finding. It is possible that the data point is simply an outlier. To determine whether the data point is significant, we would need to conduct a statistical test."
   ]
  },
  {
   "cell_type": "markdown",
   "id": "8c4e82b2",
   "metadata": {},
   "source": [
    "##### Q10. In a study of the effectiveness of a new weight loss drug, a sample of 50 participants lost an average of 6 pounds with a standard deviation of 2.5 pounds. Conduct a hypothesis test to determine if the drug is significantly effective at a 95% confidence level using a t-test."
   ]
  },
  {
   "cell_type": "markdown",
   "id": "328178f3",
   "metadata": {},
   "source": [
    "Here are the steps on how to conduct a hypothesis test to determine if the drug is significantly effective at a 95% confidence level using a t-test:\n",
    "\n",
    "1. State the null hypothesis and the alternative hypothesis.\n",
    "2. Set the significance level.\n",
    "3. Calculate the t-statistic.\n",
    "4. Find the critical value.\n",
    "5. Make a decision.\n",
    "\n",
    "**State the null hypothesis and the alternative hypothesis.**\n",
    "\n",
    "The null hypothesis is that the drug is not effective, meaning that the average weight loss is the same as the average weight loss in the placebo group. The alternative hypothesis is that the drug is effective, meaning that the average weight loss is greater than the average weight loss in the placebo group.\n",
    "\n",
    "**Set the significance level.**\n",
    "\n",
    "The significance level is the probability of making a Type I error, which is rejecting the null hypothesis when it is actually true. In this case, we set the significance level at 0.05, which means that we are willing to accept a 5% chance of making a Type I error.\n",
    "\n",
    "**Calculate the t-statistic.**\n",
    "\n",
    "The t-statistic is a measure of how far the sample mean is from the hypothesized mean in terms of standard deviations. The t-statistic is calculated as follows:\n",
    "\n",
    "```\n",
    "t = (sample mean - hypothesized mean) / (standard deviation / sqrt(sample size))\n",
    "```\n",
    "\n",
    "In this case, the t-statistic is calculated as follows:\n",
    "\n",
    "```\n",
    "t = (6 - 0) / (2.5 / sqrt(50)) = 4\n",
    "```\n",
    "\n",
    "**Find the critical value.**\n",
    "\n",
    "The critical value is the value of the t-statistic that we need to exceed in order to reject the null hypothesis. The critical value is found in a t-table, which is a table that shows the t-statistic for different levels of significance and sample sizes.\n",
    "\n",
    "In this case, the critical value for a 95% confidence level and a sample size of 50 is 2.01.\n",
    "\n",
    "**Make a decision.**\n",
    "\n",
    "We compare the t-statistic to the critical value. Since the t-statistic (4) is greater than the critical value (2.01), we reject the null hypothesis. This means that we have enough evidence to conclude that the drug is significantly effective.\n",
    "\n",
    "In conclusion, the hypothesis test shows that the drug is significantly effective at a 95% confidence level. This means that the average weight loss in the drug group is greater than the average weight loss in the placebo group."
   ]
  },
  {
   "cell_type": "markdown",
   "id": "aaf2a03f",
   "metadata": {},
   "source": [
    "##### Q11. In a survey of 500 people, 65% reported being satisfied with their current job. Calculate the 95% confidence interval for the true proportion of people who are satisfied with their job."
   ]
  },
  {
   "cell_type": "markdown",
   "id": "d6248657",
   "metadata": {},
   "source": [
    "Here are the steps on how to calculate the 95% confidence interval for the true proportion of people who are satisfied with their job:\n",
    "\n",
    "1. Calculate the sample proportion.\n",
    "2. Find the z-score for a 95% confidence interval.\n",
    "3. Calculate the margin of error.\n",
    "4. Add and subtract the margin of error from the sample proportion to get the confidence interval.\n",
    "\n",
    "**Calculate the sample proportion.**\n",
    "\n",
    "The sample proportion is the number of people who are satisfied with their job divided by the total number of people surveyed. In this case, the sample proportion is 0.65, or 65%.\n",
    "\n",
    "**Find the z-score for a 95% confidence interval.**\n",
    "\n",
    "The z-score for a 95% confidence interval is 1.96.\n",
    "\n",
    "**Calculate the margin of error.**\n",
    "\n",
    "The margin of error is calculated as follows:\n",
    "\n",
    "```\n",
    "margin of error = z-score * sqrt(sample proportion * (1 - sample proportion) / sample size)\n",
    "```\n",
    "\n",
    "In this case, the margin of error is calculated as follows:\n",
    "\n",
    "```\n",
    "margin of error = 1.96 * sqrt(0.65 * (1 - 0.65) / 500) = 0.04\n",
    "```\n",
    "\n",
    "**Add and subtract the margin of error from the sample proportion to get the confidence interval.**\n",
    "\n",
    "The confidence interval is 0.65 ± 0.04 = 0.61 to 0.69.\n",
    "\n",
    "This means that we are 95% confident that the true proportion of people who are satisfied with their job is between 61% and 69%."
   ]
  },
  {
   "cell_type": "markdown",
   "id": "18de5838",
   "metadata": {},
   "source": [
    "##### Q12. A researcher is testing the effectiveness of two different teaching methods on student performance. Sample A has a mean score of 85 with a standard deviation of 6, while sample B has a mean score of 82 with a standard deviation of 5. Conduct a hypothesis test to determine if the two teaching methods have a significant difference in student performance using a t-test with a significance level of 0.01. "
   ]
  },
  {
   "cell_type": "markdown",
   "id": "d6afda87",
   "metadata": {},
   "source": [
    "Here are the steps on how to conduct a hypothesis test to determine if the two teaching methods have a significant difference in student performance using a t-test with a significance level of 0.01:\n",
    "\n",
    "\n",
    "1. State the null hypothesis and the alternative hypothesis.\n",
    "2. Set the significance level.\n",
    "3. Calculate the t-statistic.\n",
    "4. Find the critical value.\n",
    "5. Make a decision.\n",
    "\n",
    "**State the null hypothesis and the alternative hypothesis.**\n",
    "\n",
    "The null hypothesis is that the two teaching methods have the same effect on student performance, meaning that the average score in sample A is the same as the average score in sample B. The alternative hypothesis is that the two teaching methods have a different effect on student performance, meaning that the average score in sample A is different from the average score in sample B.\n",
    "\n",
    "**Set the significance level.**\n",
    "\n",
    "The significance level is the probability of making a Type I error, which is rejecting the null hypothesis when it is actually true. In this case, we set the significance level at 0.01, which means that we are willing to accept a 1% chance of making a Type I error.\n",
    "\n",
    "**Calculate the t-statistic.**\n",
    "\n",
    "The t-statistic is a measure of how far the two sample means are from each other in terms of standard deviations. The t-statistic is calculated as follows:\n",
    "\n",
    "\n",
    "t = (mean of sample A - mean of sample B) / (standard deviation of sample A / sqrt(sample size of A) + standard deviation of sample B / sqrt(sample size of B))\n",
    "\n",
    "\n",
    "In this case, the t-statistic is calculated as follows:\n",
    "\n",
    "```\n",
    "t = (85 - 82) / (6 / sqrt(50) + 5 / sqrt(50)) = 1.21\n",
    "```\n",
    "\n",
    "**Find the critical value.**\n",
    "\n",
    "The critical value is the value of the t-statistic that we need to exceed in order to reject the null hypothesis. The critical value is found in a t-table, which is a table that shows the t-statistic for different levels of significance and sample sizes.\n",
    "\n",
    "In this case, the critical value for a 0.01 significance level and two sample sizes of 50 is 3.182.\n",
    "\n",
    "**Make a decision.**\n",
    "\n",
    "We compare the t-statistic to the critical value. Since the t-statistic (1.21) is less than the critical value (3.182), we fail to reject the null hypothesis. This means that we do not have enough evidence to conclude that the two teaching methods have a significant difference in student performance.\n",
    "\n",
    "In conclusion, the hypothesis test shows that there is not enough evidence to conclude that the two teaching methods have a significant difference in student performance."
   ]
  },
  {
   "cell_type": "markdown",
   "id": "6d5bdc4e",
   "metadata": {},
   "source": [
    "##### Q13. A population has a mean of 60 and a standard deviaton of 8. A sample of 50 observations has a mean of 65. Calculate the 90% confidence interval for the true population mean."
   ]
  },
  {
   "cell_type": "markdown",
   "id": "e5ef7ca5",
   "metadata": {},
   "source": [
    "Here are the steps on how to calculate the 90% confidence interval for the true population mean:\n",
    "\n",
    "1. Calculate the z-score for a 90% confidence interval.\n",
    "2. Calculate the margin of error.\n",
    "3. Add and subtract the margin of error from the sample mean to get the confidence interval.\n",
    "\n",
    "**Calculate the z-score for a 90% confidence interval.**\n",
    "\n",
    "The z-score for a 90% confidence interval is 1.645.\n",
    "\n",
    "**Calculate the margin of error.**\n",
    "\n",
    "The margin of error is calculated as follows:\n",
    "\n",
    "```\n",
    "margin of error = z-score * standard deviation / sqrt(sample size)\n",
    "```\n",
    "\n",
    "In this case, the margin of error is calculated as follows:\n",
    "\n",
    "```\n",
    "margin of error = 1.645 * 8 / sqrt(50) = 2.12\n",
    "```\n",
    "\n",
    "**Add and subtract the margin of error from the sample mean to get the confidence interval.**\n",
    "\n",
    "The confidence interval is 65 ± 2.12 = 62.88 to 67.12.\n",
    "\n",
    "\n",
    "This means that we are 90% confident that the true population mean is between 62.88 and 67.12."
   ]
  },
  {
   "cell_type": "markdown",
   "id": "20db7c6e",
   "metadata": {},
   "source": [
    "##### Q14. In a study of the effects of caffeine on reaction time, a sample of 30 participants had an average reaction time of 0.25 seconds with a standard deviation of 0.05 seconds. Conduct a hypothesis test to determine if the caffeine has a significant effect on reaction time at a 90% confidence level using a t-test."
   ]
  },
  {
   "cell_type": "markdown",
   "id": "d0cc128d",
   "metadata": {},
   "source": [
    "Here are the steps on how to conduct a hypothesis test to determine if the caffeine has a significant effect on reaction time at a 90% confidence level using a t-test:\n",
    "\n",
    "**State the null hypothesis and the alternative hypothesis.**\n",
    "\n",
    "The null hypothesis is that caffeine does not have a significant effect on reaction time, meaning that the average reaction time in the caffeine group is the same as the average reaction time in the placebo group. The alternative hypothesis is that caffeine has a significant effect on reaction time, meaning that the average reaction time in the caffeine group is different from the average reaction time in the placebo group.\n",
    "\n",
    "**Set the significance level.**\n",
    "\n",
    "The significance level is the probability of making a Type I error, which is rejecting the null hypothesis when it is actually true. In this case, we set the significance level at 0.10, which means that we are willing to accept a 10% chance of making a Type I error.\n",
    "\n",
    "**Calculate the t-statistic.**\n",
    "\n",
    "The t-statistic is a measure of how far the sample mean is from the hypothesized mean in terms of standard deviations. The t-statistic is calculated as follows:\n",
    "\n",
    "```\n",
    "t = (sample mean - hypothesized mean) / (standard deviation / sqrt(sample size))\n",
    "```\n",
    "\n",
    "In this case, the hypothesized mean is 0.2 seconds, because the average reaction time in the placebo group is 0.2 seconds. The t-statistic is calculated as follows:\n",
    "\n",
    "```\n",
    "t = (0.25 - 0.2) / (0.05 / sqrt(30)) = 2\n",
    "```\n",
    "\n",
    "**Find the critical value.**\n",
    "\n",
    "The critical value is the value of the t-statistic that we need to exceed in order to reject the null hypothesis. The critical value is found in a t-table, which is a table that shows the t-statistic for different levels of significance and sample sizes.\n",
    "\n",
    "In this case, the critical value for a 90% confidence level and a sample size of 30 is 1.697.\n",
    "\n",
    "**Make a decision.**\n",
    "\n",
    "We compare the t-statistic to the critical value. Since the t-statistic (2) is greater than the critical value (1.697), we reject the null hypothesis. This means that we have enough evidence to conclude that caffeine has a significant effect on reaction time.\n",
    "\n",
    "In conclusion, the hypothesis test shows that caffeine has a significant effect on reaction time. This means that the average reaction time in the caffeine group is different from the average reaction time in the placebo group."
   ]
  }
 ],
 "metadata": {
  "kernelspec": {
   "display_name": "Python 3 (ipykernel)",
   "language": "python",
   "name": "python3"
  },
  "language_info": {
   "codemirror_mode": {
    "name": "ipython",
    "version": 3
   },
   "file_extension": ".py",
   "mimetype": "text/x-python",
   "name": "python",
   "nbconvert_exporter": "python",
   "pygments_lexer": "ipython3",
   "version": "3.11.4"
  }
 },
 "nbformat": 4,
 "nbformat_minor": 5
}

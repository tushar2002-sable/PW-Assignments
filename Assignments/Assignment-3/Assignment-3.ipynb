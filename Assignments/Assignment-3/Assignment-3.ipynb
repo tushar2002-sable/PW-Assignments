{
 "cells": [
  {
   "cell_type": "markdown",
   "id": "c7291fa5-3d2f-46e3-b6a3-4645e4043bde",
   "metadata": {},
   "source": [
    "Q1. Which keyword is used to create a function? Create a function to return a list of odd numbers in the range of 1 to 25."
   ]
  },
  {
   "cell_type": "markdown",
   "id": "653e468a-9100-4fb8-a2c2-30628e253633",
   "metadata": {},
   "source": [
    "keyword 'def' is used to create a function."
   ]
  },
  {
   "cell_type": "code",
   "execution_count": 11,
   "id": "26c61a03-b7ce-445c-a3f0-bb539f82e8aa",
   "metadata": {},
   "outputs": [
    {
     "data": {
      "text/plain": [
       "[1, 3, 5, 7, 9, 11, 13, 15, 17, 19, 21, 23]"
      ]
     },
     "execution_count": 11,
     "metadata": {},
     "output_type": "execute_result"
    }
   ],
   "source": [
    "def odds():\n",
    "    return[i for i in range(1,25) if i%2!=0]\n",
    "odds()"
   ]
  },
  {
   "cell_type": "markdown",
   "id": "996c4824-85af-4f05-a079-e0cb2677d201",
   "metadata": {},
   "source": [
    "Q2. Why *args and **kwargs is used in some functions? Create a function each for *args and **kwargs\n",
    "to demonstrate their use."
   ]
  },
  {
   "cell_type": "markdown",
   "id": "1100a2b9-2b9e-434c-931a-9c4df9e38daf",
   "metadata": {},
   "source": [
    "We use *args and **kwargs as an argument when we are unsure about the number of arguments to pass in the functions."
   ]
  },
  {
   "cell_type": "code",
   "execution_count": 12,
   "id": "5ddc8bb1-76a4-4fe2-8b1d-b56ec2c5df80",
   "metadata": {},
   "outputs": [],
   "source": [
    "# Example of *args\n",
    "\n",
    "def mul(*m):\n",
    "    multiply = 1\n",
    "    for i in m:\n",
    "        multiply = multiply * i\n",
    "    return multiply\n",
    "result = mul(4,5,6)"
   ]
  },
  {
   "cell_type": "code",
   "execution_count": 13,
   "id": "03914753-fe15-4425-a83e-8473eae858f1",
   "metadata": {},
   "outputs": [
    {
     "data": {
      "text/plain": [
       "120"
      ]
     },
     "execution_count": 13,
     "metadata": {},
     "output_type": "execute_result"
    }
   ],
   "source": [
    "mul(result)"
   ]
  },
  {
   "cell_type": "code",
   "execution_count": 14,
   "id": "56abace1-9939-405f-845b-e439352db206",
   "metadata": {},
   "outputs": [
    {
     "name": "stdout",
     "output_type": "stream",
     "text": [
      "name : Basit\n",
      "age : 32\n",
      "State : Punjab\n"
     ]
    }
   ],
   "source": [
    "# Example of **kwargs\n",
    "\n",
    "def data(**kwargs):\n",
    "    for key, value in kwargs.items():\n",
    "        print(key, \":\", value)\n",
    "\n",
    "data(name = \"Basit\", age = \"32\", State = \"Punjab\")"
   ]
  },
  {
   "cell_type": "markdown",
   "id": "9e805c3c-4f15-41ed-9171-720655aa0b69",
   "metadata": {},
   "source": [
    "Q3. What is an iterator in python? Name the method used to initialise the iterator object and the method used for iteration. Use these methods to print the first five elements of the given list [2, 4, 6, 8, 10, 12, 14,16, 18, 20]."
   ]
  },
  {
   "cell_type": "markdown",
   "id": "8004ee3e-bd38-4aa2-a58a-c25a06b12c4b",
   "metadata": {},
   "source": [
    "An iterator in Python is an object that is used to iterate over iterable objects like lists, tuples, dicts, and sets. The Python iterators object is initialized using the iter() method. It uses the next() method for iteration."
   ]
  },
  {
   "cell_type": "code",
   "execution_count": 15,
   "id": "33054c8d-bbf1-412f-857d-710e7d41fc05",
   "metadata": {},
   "outputs": [
    {
     "name": "stdout",
     "output_type": "stream",
     "text": [
      "2\n",
      "4\n",
      "6\n",
      "8\n",
      "10\n"
     ]
    }
   ],
   "source": [
    "l = [2, 4, 6, 8, 10, 12, 14, 16, 18, 20]\n",
    "\n",
    "myit = iter(l)\n",
    "\n",
    "for i in range(5):\n",
    "\tprint(next(myit))"
   ]
  },
  {
   "cell_type": "markdown",
   "id": "f99b7e98-cc79-4333-9825-6f3c63746b20",
   "metadata": {},
   "source": [
    "Q4. What is a generator function in python? Why yield keyword is used? Give an example of a generator function."
   ]
  },
  {
   "cell_type": "markdown",
   "id": "fe9c9c79-0b2c-4059-ac62-bbd99c120f59",
   "metadata": {},
   "source": [
    "In Python, a generator function is a special type of function that generates a sequence of values using the yield keyword. It allows you to create an iterator without the need to explicitly define the __iter__() and __next__() methods. Generator functions save memory and improves performance.\n",
    "\n",
    "The yield keyword is used within a generator function to yield a value from the function and temporarily suspend its execution."
   ]
  },
  {
   "cell_type": "code",
   "execution_count": 16,
   "id": "c03ff696-532f-4633-91c8-a552bf5fe1b3",
   "metadata": {},
   "outputs": [
    {
     "name": "stdout",
     "output_type": "stream",
     "text": [
      "0\n",
      "1\n",
      "4\n",
      "9\n",
      "16\n",
      "25\n",
      "36\n",
      "49\n",
      "64\n",
      "81\n"
     ]
    }
   ],
   "source": [
    "def number(n):\n",
    "    yield from (x**2 for x in range(n))\n",
    "    \n",
    "new = number(10)\n",
    "\n",
    "for num in new:\n",
    "    print(num)"
   ]
  },
  {
   "cell_type": "markdown",
   "id": "a8eadc03-ba4f-44b7-8009-28c3025af6cb",
   "metadata": {},
   "source": [
    "Q5. Create a generator function for prime numbers less than 1000. Use the next() method to print the first 20 prime numbers."
   ]
  },
  {
   "cell_type": "code",
   "execution_count": 60,
   "id": "943ff181-373b-4917-a7f7-9dfab16b7542",
   "metadata": {},
   "outputs": [
    {
     "name": "stdout",
     "output_type": "stream",
     "text": [
      "2 3 5 7 11 13 17 19 23 29 31 37 41 43 47 53 59 61 67 71 "
     ]
    }
   ],
   "source": [
    "def generate_primes():\n",
    "    number = 2\n",
    "    while number < 1000:\n",
    "        if is_prime(number):\n",
    "            yield number\n",
    "        number += 1\n",
    "\n",
    "def is_prime(number):\n",
    "    if number < 2:\n",
    "        return False\n",
    "    for i in range(2, int(number ** 0.5) + 1):\n",
    "        if number % i == 0:\n",
    "            return False\n",
    "    return True\n",
    "\n",
    "prime_generator = generate_primes()\n",
    "\n",
    "for _ in range(20):\n",
    "    prime = next(prime_generator)\n",
    "    print(prime, end=' ')"
   ]
  },
  {
   "cell_type": "markdown",
   "id": "0534539b-a611-4c92-b597-dfef308b2669",
   "metadata": {},
   "source": [
    "Q6. Write a python program to print the first 10 Fibonacci numbers using a while loop."
   ]
  },
  {
   "cell_type": "code",
   "execution_count": 17,
   "id": "722b6300-d7f7-4c67-a87a-4ac167186430",
   "metadata": {},
   "outputs": [
    {
     "name": "stdout",
     "output_type": "stream",
     "text": [
      "0\n",
      "1\n",
      "1\n",
      "2\n",
      "3\n",
      "5\n",
      "8\n",
      "13\n",
      "21\n",
      "34\n"
     ]
    }
   ],
   "source": [
    "def fib_num():\n",
    "    counter = 0\n",
    "    a = 0\n",
    "    b = 1\n",
    "    \n",
    "    while counter < 10:\n",
    "        print(a)\n",
    "        a, b = b, a + b\n",
    "        counter += 1\n",
    "fib_num()    "
   ]
  },
  {
   "cell_type": "markdown",
   "id": "2e4c7d56-2a86-420b-9e1b-2058f141001a",
   "metadata": {},
   "source": [
    "Q7. Write a List Comprehension to iterate through the given string: ‘pwskills’.\n",
    "Expected output: ['p', 'w', 's', 'k', 'i', 'l', 'l', 's']"
   ]
  },
  {
   "cell_type": "code",
   "execution_count": 18,
   "id": "c3cc6a61-3cdd-4ac4-b1b3-39bb59a8d361",
   "metadata": {},
   "outputs": [
    {
     "name": "stdout",
     "output_type": "stream",
     "text": [
      "['p', 'w', 's', 'k', 'i', 'l', 'l', 's']\n"
     ]
    }
   ],
   "source": [
    "s = \"pwskills\"\n",
    "output = [i for i in s]\n",
    "\n",
    "print(output)"
   ]
  },
  {
   "cell_type": "markdown",
   "id": "78dd1f66-795f-4b4e-921e-644f340870c0",
   "metadata": {},
   "source": [
    "Q8. Write a python program to check whether a given number is Palindrome or not using a while loop."
   ]
  },
  {
   "cell_type": "code",
   "execution_count": 20,
   "id": "28df72b4-ab47-4da5-9d91-9271e98434a8",
   "metadata": {},
   "outputs": [
    {
     "name": "stdin",
     "output_type": "stream",
     "text": [
      "Enter a string:  civic\n"
     ]
    },
    {
     "name": "stdout",
     "output_type": "stream",
     "text": [
      "The string is a palindrome\n"
     ]
    }
   ],
   "source": [
    "def palindrome(s):\n",
    "    i = 0\n",
    "    while i <= len(s) / 2:\n",
    "        if s[i] != s[-i - 1]:\n",
    "            return False\n",
    "        i += 1\n",
    "    return True\n",
    "s = input(\"Enter a string: \")\n",
    "\n",
    "if palindrome(s):\n",
    "    print(\"The string is a palindrome\")\n",
    "else:\n",
    "    print(\"Not a palindrome\")"
   ]
  },
  {
   "cell_type": "markdown",
   "id": "91ccbabd-e8d4-4108-83d6-5e70b0e8c56a",
   "metadata": {},
   "source": [
    "Q9. Write a code to print odd numbers from 1 to 100 using list comprehension.\n",
    "Note: Use a list comprehension to create a list from 1 to 100 and use another List comprehension to filter out odd numbers."
   ]
  },
  {
   "cell_type": "code",
   "execution_count": 36,
   "id": "2e33221d-457e-4710-a399-804dff7b8c01",
   "metadata": {},
   "outputs": [],
   "source": [
    "numbers = [num for num in range(1,101)]"
   ]
  },
  {
   "cell_type": "code",
   "execution_count": 37,
   "id": "44320f5e-146d-4c79-a320-e83d37e21fb7",
   "metadata": {},
   "outputs": [],
   "source": [
    "# odd_nums = [num for num in numbers if num % 2!= 0]"
   ]
  },
  {
   "cell_type": "code",
   "execution_count": 42,
   "id": "68799187-f03c-42b0-aca5-64ba0104e12c",
   "metadata": {},
   "outputs": [],
   "source": [
    "onums = list(filter(lambda x:x % 2!= 0, numbers))"
   ]
  },
  {
   "cell_type": "code",
   "execution_count": 43,
   "id": "1d2cddbc-a8a0-4614-9647-5db6efef48a6",
   "metadata": {},
   "outputs": [
    {
     "name": "stdout",
     "output_type": "stream",
     "text": [
      "[1, 3, 5, 7, 9, 11, 13, 15, 17, 19, 21, 23, 25, 27, 29, 31, 33, 35, 37, 39, 41, 43, 45, 47, 49, 51, 53, 55, 57, 59, 61, 63, 65, 67, 69, 71, 73, 75, 77, 79, 81, 83, 85, 87, 89, 91, 93, 95, 97, 99]\n"
     ]
    }
   ],
   "source": [
    "print(onums)"
   ]
  }
 ],
 "metadata": {
  "kernelspec": {
   "display_name": "Python 3 (ipykernel)",
   "language": "python",
   "name": "python3"
  },
  "language_info": {
   "codemirror_mode": {
    "name": "ipython",
    "version": 3
   },
   "file_extension": ".py",
   "mimetype": "text/x-python",
   "name": "python",
   "nbconvert_exporter": "python",
   "pygments_lexer": "ipython3",
   "version": "3.10.8"
  }
 },
 "nbformat": 4,
 "nbformat_minor": 5
}

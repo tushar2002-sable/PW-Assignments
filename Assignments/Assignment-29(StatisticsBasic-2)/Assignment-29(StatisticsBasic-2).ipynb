{
 "cells": [
  {
   "cell_type": "markdown",
   "id": "ca8fc249",
   "metadata": {},
   "source": [
    "##### Q1. What are the three measures of central tendency?"
   ]
  },
  {
   "cell_type": "markdown",
   "id": "3c0596af",
   "metadata": {},
   "source": [
    "The three measures of central tendency are:\n",
    "\n",
    "1. Mean: The mean is the most common measure of central tendency and is calculated by summing up all the values in a dataset and then dividing by the number of data points. It represents the average value of the data.\n",
    "\n",
    "2. Median: The median is the middle value in a dataset when the data is arranged in ascending or descending order. If there is an even number of data points, the median is the average of the two middle values. The median is less affected by extreme values and outliers than the mean.\n",
    "\n",
    "3. Mode: The mode is the value that appears most frequently in a dataset. Unlike the mean and median, the mode does not rely on numerical calculations and can be applied to both numerical and categorical data. A dataset can have one mode (unimodal), two modes (bimodal), or more than two modes (multimodal). If all values in the dataset appear with equal frequency, the dataset is considered to have no mode."
   ]
  },
  {
   "cell_type": "markdown",
   "id": "34f6a390",
   "metadata": {},
   "source": [
    "##### Q2. What is the difference between the mean, median, and mode? How are they used to measure the central tendency of a dataset?"
   ]
  },
  {
   "cell_type": "markdown",
   "id": "c803baae",
   "metadata": {},
   "source": [
    "The mean, median, and mode have distinct characteristics and are used to measure central tendency in different ways:\n",
    "\n",
    "1. Mean:\n",
    "- The mean is calculated by adding up all the values in the dataset and then dividing by the total number of data points.\n",
    "- The mean is most suitable for datasets with a symmetric distribution, where values are evenly distributed around a central value.\n",
    "- It is commonly used when dealing with interval or ratio data, where arithmetic operations are meaningful.\n",
    "\n",
    "2. Median:\n",
    "- The median is the middle value in a dataset when the data is ordered either in ascending or descending order.\n",
    "- If the dataset contains an odd number of values, the median is the middle value. If there is an even number of values, the median is the average of the two middle values.\n",
    "- It is often used when the dataset has a skewed distribution or contains outliers, as it provides a better representation of the central value.\n",
    "\n",
    "3. Mode:\n",
    "- The mode is the value that appears most frequently in a dataset.\n",
    "- Unlike the mean and median, the mode is not affected by extreme values since it only considers the frequency of values.\n",
    "- The mode is useful for categorical data and can also be used for numerical data when looking for the most commonly occurring value.\n",
    "- In datasets with multiple modes, the presence of several peaks in the distribution may indicate interesting patterns or subgroups."
   ]
  },
  {
   "cell_type": "markdown",
   "id": "768fb6c3",
   "metadata": {},
   "source": [
    "##### Q3. Measure the three measures of central tendency for the given height data:\n",
    "``` [178,177,176,177,178.2,178,175,179,180,175,178.9,176.2,177,172.5,178,176.5] ```"
   ]
  },
  {
   "cell_type": "markdown",
   "id": "cfd4b2e2",
   "metadata": {},
   "source": [
    "Sure, let's calculate the three measures of central tendency (mean, median, and mode) for the given height data:\n",
    "\n",
    "Dataset: [178, 177, 176, 177, 178.2, 178, 175, 179, 180, 175, 178.9, 176.2, 177, 172.5, 178, 176.5]\n",
    "\n",
    "Step 1: Calculate the Mean:\n",
    "To find the mean, add up all the values in the dataset and then divide by the total number of data points.\n",
    "\n",
    "Mean = (178 + 177 + 176 + 177 + 178.2 + 178 + 175 + 179 + 180 + 175 + 178.9 + 176.2 + 177 + 172.5 + 178 + 176.5) / 16\n",
    "\n",
    "Mean = 2835.3 / 16\n",
    "\n",
    "Mean ≈ 177.20625 (rounded to 5 decimal places)\n",
    "\n",
    "Step 2: Calculate the Median:\n",
    "To find the median, first, we need to sort the data in ascending order:\n",
    "\n",
    "Sorted Dataset: [172.5, 175, 175, 176, 176, 176.2, 176.5, 177, 177, 177, 178, 178, 178, 178, 178.2, 178.9, 179, 180]\n",
    "\n",
    "Since there are 16 data points (an even number), the median will be the average of the two middle values: (176 + 178) / 2 = 177\n",
    "\n",
    "Step 3: Calculate the Mode:\n",
    "The mode is the value that appears most frequently in the dataset.\n",
    "\n",
    "In the given dataset, the value 178 appears three times, which is more frequent than any other value. Therefore, the mode is 178.\n",
    "\n",
    "Summary of the three measures of central tendency:\n",
    "Mean ≈ 177.20625 (rounded to 5 decimal places)\n",
    "Median = 177\n",
    "Mode = 178"
   ]
  },
  {
   "cell_type": "markdown",
   "id": "00504b0b",
   "metadata": {},
   "source": [
    "##### Q4. Find the standard deviation for the given data:\n",
    "```[178,177,176,177,178.2,178,175,179,180,175,178.9,176.2,177,172.5,178,176.5]```"
   ]
  },
  {
   "cell_type": "markdown",
   "id": "ebbd452d",
   "metadata": {},
   "source": [
    "To find the standard deviation for the given data, we can use the following formula:\n",
    "\n",
    "Standard Deviation (σ) = √(Σ (xi - μ)² / N)\n",
    "\n",
    "Where:\n",
    "- xi is each data point in the dataset.\n",
    "- μ is the mean of the dataset.\n",
    "- N is the total number of data points.\n",
    "\n",
    "Here's how you can calculate it step-by-step:\n",
    "\n",
    "Step 1: Calculate the mean (μ) of the dataset:\n",
    "\n",
    "Mean (μ) = (178 + 177 + 176 + 177 + 178.2 + 178 + 175 + 179 + 180 + 175 + 178.9 + 176.2 + 177 + 172.5 + 178 + 176.5) / 16\n",
    "\n",
    "Mean (μ) = 2835.3 / 16\n",
    "\n",
    "Mean (μ) ≈ 177.20625 (rounded to 5 decimal places)\n",
    "\n",
    "Step 2: Calculate the squared difference from the mean (xi - μ)² for each data point:\n",
    "\n",
    "(xi - μ)² = (178 - 177.20625)² ≈ 0.6391506\n",
    "(xi - μ)² = (177 - 177.20625)² ≈ 0.0425807\n",
    "(xi - μ)² = (176 - 177.20625)² ≈ 1.4589391\n",
    "... (Calculate for all the data points)\n",
    "\n",
    "Step 3: Sum up all the squared differences:\n",
    "\n",
    "Σ (xi - μ)² ≈ 13.1141266\n",
    "\n",
    "Step 4: Calculate the variance (σ²):\n",
    "\n",
    "Variance (σ²) = Σ (xi - μ)² / N ≈ 13.1141266 / 16 ≈ 0.8196329 (rounded to 7 decimal places)\n",
    "\n",
    "Step 5: Finally, calculate the standard deviation (σ) by taking the square root of the variance:\n",
    "\n",
    "Standard Deviation (σ) = √0.8196329 ≈ 0.905851 (rounded to 6 decimal places)\n",
    "\n",
    "So, the standard deviation of the given height data is approximately 0.905851 (rounded to 6 decimal places)."
   ]
  },
  {
   "cell_type": "markdown",
   "id": "7ac3cf6a",
   "metadata": {},
   "source": [
    "##### Q5. How are measures of dispersion such as range, variance, and standard deviation used to describe the spread of a dataset? Provide an example."
   ]
  },
  {
   "cell_type": "markdown",
   "id": "3ddbb6ba",
   "metadata": {},
   "source": [
    "Measures of dispersion, such as range, variance, and standard deviation, are used to describe the spread or variability of a dataset. They provide information about how the data points are spread out around the central tendency (mean, median, or mode).\n",
    "\n",
    "1. Range:\n",
    "The range is the simplest measure of dispersion and is calculated as the difference between the maximum and minimum values in the dataset. It provides an idea of the total spread in the data.\n",
    "\n",
    "Example:\n",
    "Consider the following dataset of test scores: [70, 75, 82, 88, 92, 98]\n",
    "Range = Maximum value - Minimum value = 98 - 70 = 28\n",
    "The range is 28, indicating that the test scores are spread over a range of 28 points.\n",
    "\n",
    "2. Variance:\n",
    "Variance measures how far each data point in the dataset is from the mean. It is the average of the squared differences between each data point and the mean. A larger variance indicates a more scattered distribution of data points.\n",
    "\n",
    "Example:\n",
    "Consider the following dataset of exam scores: [75, 80, 85, 90, 95]\n",
    "Step 1: Calculate the mean: (75 + 80 + 85 + 90 + 95) / 5 = 85\n",
    "Step 2: Calculate the squared differences from the mean: (75-85)², (80-85)², (85-85)², (90-85)², (95-85)²\n",
    "Step 3: Calculate the variance: (10² + 5² + 0² + 5² + 10²) / 5 = 100 / 5 = 20\n",
    "The variance is 20, indicating that the exam scores vary from the mean by an average of 20 points.\n",
    "\n",
    "3. Standard Deviation:\n",
    "Standard deviation is the square root of the variance. It measures the average deviation of data points from the mean and is widely used as a more interpretable measure of dispersion. A larger standard deviation indicates a greater spread of data points around the mean.\n",
    "\n",
    "Example:\n",
    "Continuing from the previous example, the variance was calculated as 20. To find the standard deviation:\n",
    "Standard Deviation (σ) = √20 ≈ 4.47 (rounded to 2 decimal places)\n",
    "The standard deviation is approximately 4.47, indicating that the exam scores deviate from the mean by an average of 4.47 points."
   ]
  },
  {
   "cell_type": "markdown",
   "id": "f8111a19",
   "metadata": {},
   "source": [
    "##### Q6. What is a Venn diagram?"
   ]
  },
  {
   "cell_type": "markdown",
   "id": "4b6b87aa",
   "metadata": {},
   "source": [
    "A Venn diagram is a visual representation of the relationships between different sets or groups of data. It uses overlapping circles or other shapes to show the common and unique elements among the sets. Venn diagrams are widely used in various fields, such as mathematics, logic, statistics, and data analysis, to illustrate set operations and relationships.\n",
    "\n",
    "The main components of a Venn diagram include:\n",
    "\n",
    "1. Sets: Each circle in the Venn diagram represents a set. A set is a collection of elements or objects that share common characteristics.\n",
    "\n",
    "2. Overlapping regions: The overlapping parts between the circles indicate the elements that are common to the sets involved. The size of the overlapping area represents the degree of intersection or overlap between the sets.\n",
    "\n",
    "3. Non-overlapping regions: The portions of the circles that do not overlap represent the elements unique to each individual set."
   ]
  },
  {
   "cell_type": "markdown",
   "id": "f53db65d",
   "metadata": {},
   "source": [
    "##### Q7. For the two given sets A = (2,3,4,5,6,7) & B = (0,2,6,8,10). Find:\n",
    "```\n",
    "(i) A ∩ B\n",
    "(ii) A ∪ B\n",
    "```"
   ]
  },
  {
   "cell_type": "markdown",
   "id": "d1d99b73",
   "metadata": {},
   "source": [
    "To find the union and intersection of the two given sets A and B:\n",
    "\n",
    "Given sets:\n",
    "A = {2, 3, 4, 5, 6, 7}\n",
    "B = {0, 2, 6, 8, 10}\n",
    "\n",
    "(i) A ∩ B (Intersection of A and B):\n",
    "The intersection of two sets A and B is the set of elements that are common to both sets.\n",
    "\n",
    "A ∩ B = {2, 6}\n",
    "\n",
    "The intersection of sets A and B is {2, 6}.\n",
    "\n",
    "(ii) A ∪ B (Union of A and B):\n",
    "The union of two sets A and B is the set of all elements that belong to either set A or set B or both.\n",
    "\n",
    "A ∪ B = {0, 2, 3, 4, 5, 6, 7, 8, 10}\n",
    "\n",
    "The union of sets A and B is {0, 2, 3, 4, 5, 6, 7, 8, 10}."
   ]
  },
  {
   "cell_type": "markdown",
   "id": "0a14b740",
   "metadata": {},
   "source": [
    "##### Q8. What do you understand about skewness in data?"
   ]
  },
  {
   "cell_type": "markdown",
   "id": "baf3c860",
   "metadata": {},
   "source": [
    "Skewness in data refers to the measure of the asymmetry of the probability distribution of a dataset around its mean. It helps to identify the extent to which the data is stretched or biased towards one tail of the distribution. Skewness is an essential statistical concept as it provides valuable insights into the shape and characteristics of the dataset, particularly in terms of its departure from normality.\n",
    "\n",
    "Key points about skewness in data:\n",
    "\n",
    "1. Positive Skewness (Right Skewness):\n",
    "   - In a positively skewed distribution, the tail on the right side is longer than the left side.\n",
    "   - This indicates that the majority of data points are concentrated towards the lower values, with a few larger values stretching the tail to the right.\n",
    "   - The mean is typically greater than the median in a positively skewed distribution, as the larger values in the right tail pull the mean towards them.\n",
    "\n",
    "2. Negative Skewness (Left Skewness):\n",
    "   - In a negatively skewed distribution, the tail on the left side is longer than the right side.\n",
    "   - This means that the majority of data points are concentrated towards the higher values, with a few smaller values stretching the tail to the left.\n",
    "   - The mean is typically less than the median in a negatively skewed distribution, as the smaller values in the left tail pull the mean towards them.\n",
    "\n",
    "3. Zero Skewness:\n",
    "   - A dataset is considered to have zero skewness when it is perfectly symmetrical around the mean.\n",
    "   - This indicates that the left and right tails of the distribution are of equal length, and the data is evenly distributed."
   ]
  },
  {
   "cell_type": "markdown",
   "id": "383cffc0",
   "metadata": {},
   "source": [
    "##### Q9. If a data is right skewed then what will be the position of median with respect to mean?"
   ]
  },
  {
   "cell_type": "markdown",
   "id": "b81c3544",
   "metadata": {},
   "source": [
    "If a dataset is right-skewed, the position of the median with respect to the mean will be shifted to the right.\n",
    "\n",
    "In a right-skewed distribution:\n",
    "- The tail of the distribution is stretched towards the right side, indicating that there are relatively few extreme high values compared to the larger concentration of lower values.\n",
    "- The mean is typically greater than the median because the larger values in the right tail have a greater influence on the mean, pulling it towards the right.\n",
    "\n",
    "Visually, a right-skewed distribution will have a longer right tail and a cluster of data points on the left side.\n",
    "\n",
    "Here's a summary of the position of the median and mean in different types of distributions:\n",
    "\n",
    "1. Symmetric (Zero Skewness):\n",
    "   - Median = Mean\n",
    "   - The distribution is centered, and the mean and median are at the same position.\n",
    "\n",
    "2. Positively Skewed (Right Skewness):\n",
    "   - Median < Mean\n",
    "   - The median is smaller than the mean because it is pulled to the left by the larger number of lower values.\n",
    "\n",
    "3. Negatively Skewed (Left Skewness):\n",
    "   - Median > Mean\n",
    "   - The median is larger than the mean because it is pulled to the right by the larger number of higher values.\n",
    "\n",
    "In summary, if a dataset is right-skewed, the median will be to the left of the mean. Conversely, in a left-skewed distribution, the median will be to the right of the mean. Understanding the relationship between the median and mean can provide insights into the shape and characteristics of the dataset."
   ]
  },
  {
   "cell_type": "markdown",
   "id": "e5127c70",
   "metadata": {},
   "source": [
    "##### Q10. Explain the difference between covariance and correlation. How are these measures used in statistical analysis?"
   ]
  },
  {
   "cell_type": "markdown",
   "id": "41b8befd",
   "metadata": {},
   "source": [
    "Covariance and correlation are both measures used in statistical analysis to describe the relationship between two variables. While they are related, they have distinct differences in their interpretation and magnitude.\n",
    "\n",
    "1. Covariance:\n",
    "Covariance is a measure of the degree to which two variables change together. It indicates the direction of the relationship (positive or negative) and whether the variables tend to increase or decrease simultaneously. A positive covariance indicates that when one variable increases, the other tends to increase as well. Conversely, a negative covariance indicates that when one variable increases, the other tends to decrease.\n",
    "\n",
    "2. Correlation:\n",
    "Correlation is a standardized measure that quantifies the strength and direction of the linear relationship between two variables. It is more interpretable than covariance because it normalizes the covariance values to a range between -1 and 1. A correlation coefficient of +1 indicates a perfect positive linear relationship, -1 indicates a perfect negative linear relationship, and 0 indicates no linear relationship.\n",
    "\n",
    "`Usage in Statistical Analysis:`\n",
    "Both covariance and correlation are used to analyze the relationships between variables in a dataset. They play a vital role in many areas of statistics, including:\n",
    "\n",
    "- `Data exploration:` Covariance and correlation help identify the direction and strength of relationships between variables, providing initial insights into data patterns.\n",
    "- `Feature selection:` In machine learning and feature engineering, correlation is used to select relevant features and avoid multicollinearity.\n",
    "- `Risk assessment:` In finance and economics, covariance and correlation help analyze the relationship between asset returns and risk diversification.\n",
    "- `Experimental design:` In scientific research, covariance and correlation assist in understanding the effect of independent variables on the dependent variable."
   ]
  },
  {
   "cell_type": "markdown",
   "id": "7762a357",
   "metadata": {},
   "source": [
    "##### Q11. What is the formula for calculating the sample mean? Provide an example calculation for a dataset."
   ]
  },
  {
   "cell_type": "markdown",
   "id": "dea4abf1",
   "metadata": {},
   "source": [
    "The formula for calculating the sample mean (also known as the sample average) is as follows:\n",
    "\n",
    "Sample Mean (x̄) = Σ(xi) / n\n",
    "\n",
    "Where:\n",
    "- x̄ is the sample mean.\n",
    "- Σ(xi) is the sum of all individual data points (xi) in the sample.\n",
    "- n is the total number of data points in the sample.\n",
    "\n",
    "Example calculation for a dataset:\n",
    "Let's say we have the following dataset of exam scores for a sample of students: [85, 78, 90, 92, 88]\n",
    "\n",
    "Step 1: Add up all the individual data points (Σ(xi)):\n",
    "\n",
    "Σ(xi) = 85 + 78 + 90 + 92 + 88 = 433\n",
    "\n",
    "Step 2: Count the number of data points (n):\n",
    "\n",
    "n = 5\n",
    "\n",
    "Step 3: Calculate the sample mean (x̄):\n",
    "\n",
    "Sample Mean (x̄) = Σ(xi) / n = 433 / 5 = 86.6\n",
    "\n",
    "The sample mean for the given dataset is 86.6. This means that the average exam score for the sample of students is 86.6."
   ]
  },
  {
   "cell_type": "markdown",
   "id": "fe2c3e6b",
   "metadata": {},
   "source": [
    "##### Q12. For a normal distribution data what is the relationship between its measure of central tendency?"
   ]
  },
  {
   "cell_type": "markdown",
   "id": "aa668865",
   "metadata": {},
   "source": [
    "For a normal distribution, the three measures of central tendency, namely the mean, median, and mode, are all equal and located at the center of the distribution. This is one of the defining characteristics of a normal distribution.\n",
    "\n",
    "In a normal distribution:\n",
    "1. Mean (μ): The mean of the distribution is the arithmetic average of all the data points. It is located at the center of the symmetric bell-shaped curve.\n",
    "\n",
    "2. Median: The median is the middle value of the dataset when the data is arranged in ascending order. In a normal distribution, the median is also located at the center of the distribution, coinciding with the mean.\n",
    "\n",
    "3. Mode: The mode is the value that appears most frequently in the dataset. In a normal distribution, every data point has the same frequency, resulting in multiple modes with the same maximum frequency. Therefore, the mode(s) are also located at the center of the distribution."
   ]
  },
  {
   "cell_type": "markdown",
   "id": "a8848611",
   "metadata": {},
   "source": [
    "##### Q13. How is covariance different from correlation?"
   ]
  },
  {
   "cell_type": "markdown",
   "id": "925d4def",
   "metadata": {},
   "source": [
    "Covariance and correlation are both measures used to describe the relationship between two variables, but they have some key differences:\n",
    "\n",
    "`1. Definition:`\n",
    "- `Covariance:` Covariance measures the degree to which two variables change together. It indicates the direction of the relationship (positive or negative) and whether the variables tend to increase or decrease simultaneously. A positive covariance means that when one variable increases, the other tends to increase as well, and vice versa for a negative covariance.\n",
    "- `Correlation:` Correlation is a standardized measure that quantifies the strength and direction of the linear relationship between two variables. It normalizes the covariance values to a range between -1 and 1. A correlation coefficient of +1 indicates a perfect positive linear relationship, -1 indicates a perfect negative linear relationship, and 0 indicates no linear relationship.\n",
    "\n",
    "`2. Scale:`\n",
    "- `Covariance:` Covariance is not standardized and depends on the scale of the variables. Consequently, it is challenging to interpret the magnitude of covariance, especially when comparing relationships across different datasets.\n",
    "- `Correlation:` Correlation is standardized, and its values are bounded between -1 and 1. This makes correlation coefficients more interpretable and allows for easy comparison of the strength of relationships across different datasets.\n",
    "\n",
    "`3. Interpretation:`\n",
    "- `Covariance:` The magnitude of covariance does not provide a clear indication of the strength of the relationship. It only shows whether the variables move together (positive covariance) or in opposite directions (negative covariance).\n",
    "- `Correlation:` The magnitude of the correlation coefficient directly indicates the strength of the linear relationship between the variables. Values closer to +1 or -1 indicate stronger relationships, while values closer to 0 indicate a weaker or no linear relationship.\n",
    "\n",
    "`4. Standardization:`\n",
    "- `Covariance:` Covariance is not standardized, so its magnitude is affected by the scale of the variables. This makes comparing covariances across datasets with different units challenging.\n",
    "- `Correlation:` Correlation is standardized, making it unitless. It can be used to compare relationships between variables with different scales."
   ]
  },
  {
   "cell_type": "markdown",
   "id": "16fe37fb",
   "metadata": {},
   "source": [
    "##### Q14. How do outliers affect measures of central tendency and dispersion? Provide an example."
   ]
  },
  {
   "cell_type": "markdown",
   "id": "f60b1e3b",
   "metadata": {},
   "source": [
    "Outliers are data points that deviate significantly from the rest of the data in a dataset. These extreme values can have a substantial impact on measures of central tendency and dispersion. Let's explore how outliers affect these measures using an example:\n",
    "\n",
    "`Example:`\n",
    "Consider the following dataset representing the heights (in centimeters) of a group of people:\n",
    "\n",
    "[160, 165, 168, 170, 172, 175, 176, 178, 180, 185, 195]\n",
    "\n",
    "The mean, median, and standard deviation for this dataset are:\n",
    "\n",
    "Mean (x̄) = (160 + 165 + 168 + 170 + 172 + 175 + 176 + 178 + 180 + 185 + 195) / 11 ≈ 175.36 (rounded to 2 decimal places)\n",
    "\n",
    "Median = 175 (since there are 11 data points, the middle value is the 6th value, which is 175)\n",
    "\n",
    "Standard Deviation (σ) ≈ 9.29 (rounded to 2 decimal places)\n",
    "\n",
    "Now, let's introduce an outlier to the dataset:\n",
    "\n",
    "[160, 165, 168, 170, 172, 175, 176, 178, 180, 185, 195, 230]\n",
    "\n",
    "The mean, median, and standard deviation for the updated dataset are:\n",
    "\n",
    "Mean (x̄) = (160 + 165 + 168 + 170 + 172 + 175 + 176 + 178 + 180 + 185 + 195 + 230) / 12 ≈ 184.83 (rounded to 2 decimal places)\n",
    "\n",
    "Median = 176.5 (since there are 12 data points, the middle values are the 6th and 7th values, which are 175 and 176, so the median is the average of these two: (175 + 176) / 2 = 175.5)\n",
    "\n",
    "Standard Deviation (σ) ≈ 22.91 (rounded to 2 decimal places)\n",
    "\n",
    "Effects of Outliers on Measures of Central Tendency and Dispersion:\n",
    "\n",
    "`1. Mean:`\n",
    "The mean is sensitive to outliers because it considers all data points. When an outlier is present, it can significantly pull the mean towards itself. In the first dataset, the mean was around 175.36, but after adding the outlier 230, the mean increased to 184.83. The outlier has a substantial impact on the mean.\n",
    "\n",
    "`2. Median:`\n",
    "The median is less affected by outliers since it only considers the middle value(s) and is not influenced by extreme values. In the first dataset, the median was 175, and after adding the outlier, it changed to 175.5. The change is relatively small compared to the mean.\n",
    "\n",
    "`3. Standard Deviation:`\n",
    "The standard deviation is also sensitive to outliers because it takes into account the squared differences between each data point and the mean. Outliers that are far from the mean can increase the dispersion and cause the standard deviation to increase. In the first dataset, the standard deviation was around 9.29, and after adding the outlier, it increased to 22.91."
   ]
  }
 ],
 "metadata": {
  "kernelspec": {
   "display_name": "Python 3 (ipykernel)",
   "language": "python",
   "name": "python3"
  },
  "language_info": {
   "codemirror_mode": {
    "name": "ipython",
    "version": 3
   },
   "file_extension": ".py",
   "mimetype": "text/x-python",
   "name": "python",
   "nbconvert_exporter": "python",
   "pygments_lexer": "ipython3",
   "version": "3.11.4"
  }
 },
 "nbformat": 4,
 "nbformat_minor": 5
}

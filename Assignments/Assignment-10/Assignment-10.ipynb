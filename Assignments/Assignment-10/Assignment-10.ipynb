{
 "cells": [
  {
   "cell_type": "markdown",
   "id": "9090d4b3-5a56-4b4c-a7e5-dfa1f8673bcc",
   "metadata": {},
   "source": [
    "`Q1). What is multithreading in python? Why is it used? Name the module used to handle threads in python`"
   ]
  },
  {
   "cell_type": "markdown",
   "id": "85ed4c96-2e6b-4486-8d55-3128fc738ad7",
   "metadata": {},
   "source": [
    "Multithreading in Python refers to the concurrent execution of multiple threads within a single process, allowing different parts of the program to run simultaneously. Multithreading is used to achieve parallelism, improve responsiveness, and efficiently utilize system resources in certain scenarios.\n",
    "\n",
    "The `threading` module is used to handle threads in Python. It provides a high-level interface for creating, managing, and synchronizing threads."
   ]
  },
  {
   "cell_type": "markdown",
   "id": "925b0172-3f92-4dcb-8b1b-6d78e964b525",
   "metadata": {},
   "source": [
    "`Q2). Why threading module used? Write the use of the following functions:`\n",
    "\n",
    "<b>1. activeCount\n",
    "2. currentThread\n",
    "3. enumerate </b>"
   ]
  },
  {
   "cell_type": "markdown",
   "id": "4e15250a-9bd6-45b9-9828-4e5a674e121c",
   "metadata": {},
   "source": [
    "The threading module in Python is used to handle threads and provides a high-level interface for creating, managing, and synchronizing threads. Here's the use of the mentioned functions:\n",
    "\n",
    "1. `activeCount():` This function returns the number of Thread objects currently alive. It provides the count of active threads running in the program."
   ]
  },
  {
   "cell_type": "code",
   "execution_count": 13,
   "id": "e7162d0d-673f-4ff0-9c63-7d001513b9c2",
   "metadata": {},
   "outputs": [
    {
     "name": "stdout",
     "output_type": "stream",
     "text": [
      "my thread function\n",
      "my thread function\n",
      "my thread function\n",
      "my thread function\n",
      "my thread function\n",
      "Active threads count:  8\n"
     ]
    }
   ],
   "source": [
    "# Example\n",
    "\n",
    "import threading\n",
    "\n",
    "def func():\n",
    "    print(\"my thread function\")\n",
    "\n",
    "threads = []\n",
    "\n",
    "for i in range(5):\n",
    "    thread = threading.Thread(target=func)\n",
    "    threads.append(thread)\n",
    "    thread.start()\n",
    "    \n",
    "count = threading.active_count()\n",
    "print(\"Active threads count: \", count)"
   ]
  },
  {
   "cell_type": "markdown",
   "id": "65a09e82-83e0-47f7-8d2f-51c9aefafa06",
   "metadata": {},
   "source": [
    "2. `currentThread():` This function returns the currently executing Thread object. It provides access to the Thread object representing the current thread."
   ]
  },
  {
   "cell_type": "code",
   "execution_count": 11,
   "id": "b9a70a20-1072-436e-8e15-291906d08910",
   "metadata": {},
   "outputs": [
    {
     "name": "stdout",
     "output_type": "stream",
     "text": [
      "Current Thread: MyThread\n"
     ]
    }
   ],
   "source": [
    "# Example\n",
    "\n",
    "import threading\n",
    "\n",
    "def current():\n",
    "    current_thread = threading.current_thread()\n",
    "    print(\"Current Thread:\", current_thread.name)\n",
    "\n",
    "thread = threading.Thread(target=current, name=\"MyThread\")\n",
    "thread.start()"
   ]
  },
  {
   "cell_type": "markdown",
   "id": "7f3ae0f1-3d71-46cc-a809-16b956d957ef",
   "metadata": {},
   "source": [
    "3. `enumerate():` This function returns a list of all Thread objects currently alive. It provides a way to get a list of all active threads in the program."
   ]
  },
  {
   "cell_type": "code",
   "execution_count": 15,
   "id": "dce7a944-3aea-4d58-bc72-3685079e5ecf",
   "metadata": {},
   "outputs": [
    {
     "name": "stdout",
     "output_type": "stream",
     "text": [
      "This is my thread function.\n",
      "This is my thread function.\n",
      "This is my thread function.\n",
      "This is my thread function.\n",
      "This is my thread function.\n",
      "All Threads:\n",
      "MainThread\n",
      "IOPub\n",
      "Heartbeat\n",
      "Thread-3 (_watch_pipe_fd)\n",
      "Thread-4 (_watch_pipe_fd)\n",
      "Control\n",
      "IPythonHistorySavingThread\n",
      "Thread-2\n"
     ]
    }
   ],
   "source": [
    "# Example\n",
    "\n",
    "import threading\n",
    "\n",
    "def thread_enum():\n",
    "    print(\"This is my thread function.\")\n",
    "\n",
    "threads = []\n",
    "for _ in range(5):\n",
    "    thread = threading.Thread(target=thread_enum)\n",
    "    threads.append(thread)\n",
    "    thread.start()\n",
    "\n",
    "# Enumerate all active threads\n",
    "all_threads = threading.enumerate()\n",
    "print(\"All Threads:\")\n",
    "for i in all_threads:\n",
    "    print(i.name)"
   ]
  },
  {
   "cell_type": "markdown",
   "id": "5f631c6d-0fae-4015-9667-dc08cd84ae1f",
   "metadata": {},
   "source": [
    "3. `Explain the following functions:`\n",
    "<b>\n",
    "run()\n",
    "start()\n",
    "join()\n",
    "isAlive() </b>"
   ]
  },
  {
   "cell_type": "markdown",
   "id": "b3a3f99b-a4fa-4119-8a65-803c4591c48c",
   "metadata": {},
   "source": [
    "1. `run()`: This method is the entry point for a thread. When the `run()` method is called, it executes the code defined within it. It is important to note that calling `run()` directly does not create a new thread; it simply executes the code within the current thread.\n",
    "\n",
    "2. `start()`: This method is used to start a thread by creating a new thread of execution. When the `start()` method is called, a new thread is created and the `run()` method of the thread is invoked in that separate thread. It allows for concurrent execution of multiple threads.\n",
    "\n",
    "3. `join()`: This method is used to wait for the completion of a thread. When `join()` is called on a thread, the program waits until that thread finishes its execution before proceeding further.\n",
    "\n",
    "4. `isAlive()`: This method is used to check whether a thread is currently executing or not. It returns `True` if the thread is alive and executing, and `False` otherwise. It is commonly used to check the status of a thread and take appropriate actions based on its state."
   ]
  },
  {
   "cell_type": "code",
   "execution_count": 5,
   "id": "10220ed4-6c8c-4c4a-841b-44c7a5eea221",
   "metadata": {},
   "outputs": [
    {
     "name": "stdout",
     "output_type": "stream",
     "text": [
      "2.00274296104908\n"
     ]
    }
   ],
   "source": [
    "import threading\n",
    "import time\n",
    "import logging\n",
    "\n",
    "def th():\n",
    "    logging.basicConfig(filename = \"thread.log\", level = logging.INFO)\n",
    "    logging.info(\"Thread started\")\n",
    "    time.sleep(2)\n",
    "    logging.info(\"Thread ended\")\n",
    "    \n",
    "t1 = time.perf_counter()\n",
    "    \n",
    "thread = threading.Thread(target=th)\n",
    "thread.start()\n",
    "\n",
    "thread.join()\n",
    "\n",
    "if thread.is_alive():\n",
    "    logging.info(\"Thread is running\")\n",
    "else:\n",
    "    logging.info(\"Thread has been finished\")\n",
    "logging.info(\"program completed\")\n",
    "\n",
    "t2 = time.perf_counter()\n",
    "\n",
    "print(t2-t1) # calculate total time in seconds to complete the task"
   ]
  },
  {
   "cell_type": "markdown",
   "id": "c095f6a8-eca4-4714-b288-b7dbcc9a6256",
   "metadata": {},
   "source": [
    "`Q4. Write a python program to create two threads. Thread one must print the list of squares and thread\n",
    "two must print the list of cubes`"
   ]
  },
  {
   "cell_type": "code",
   "execution_count": 12,
   "id": "f2d60287-c436-46d4-af09-3bd039186060",
   "metadata": {},
   "outputs": [
    {
     "name": "stdout",
     "output_type": "stream",
     "text": [
      "squares of 1 is 1\n",
      "squares of 2 is 4\n",
      "squares of 3 is 9\n",
      "squares of 4 is 16\n",
      "cubes of 1 is 1\n",
      "cubes of 2 is 8\n",
      "cubes of 3 is 27\n",
      "cubes of 4 is 64\n",
      "Threads process completed\n"
     ]
    }
   ],
   "source": [
    "def squares():\n",
    "    for i in range(1,5):\n",
    "        print(f\"squares of {i} is {i**2}\")\n",
    "\n",
    "def cubes():\n",
    "    for i in range(1,5):\n",
    "        print(f\"cubes of {i} is {i**3}\")\n",
    "        \n",
    "thr1 = threading.Thread(target=squares)\n",
    "\n",
    "thr2 = threading.Thread(target=cubes)\n",
    "\n",
    "thr1.start()\n",
    "thr2.start()\n",
    "thr1.join()\n",
    "thr2.join()\n",
    "\n",
    "print(\"Threads process completed\")    "
   ]
  },
  {
   "cell_type": "markdown",
   "id": "21a685c6-8574-4141-8dc7-344f91bb3b2f",
   "metadata": {},
   "source": [
    "`Q5. State advantages and disadvantages of multithreading`"
   ]
  },
  {
   "cell_type": "markdown",
   "id": "0e0b9e43-95ee-44db-a1c1-e4861274fd0c",
   "metadata": {},
   "source": [
    "Advantages of Multithreading:\n",
    "1. Improved Performance\n",
    "2. Responsiveness\n",
    "3. Resource Sharing\n",
    "4. Simplified Design: Multithreading can simplify the design of certain types of applications. For example, in GUI applications, multithreading can separate the UI responsiveness from time-consuming operations, providing a smoother user experience.\n",
    "\n",
    "Disadvantages of Multithreading:\n",
    "1. Complexity: Multithreading introduces complexity to the code. Handling synchronization, shared data access, and potential race conditions can be challenging.\n",
    "\n",
    "2. Debugging: Debugging multithreaded applications can be difficult. As threads can run concurrently, tracking down and reproducing issues can be more complex than in single-threaded programs.\n",
    "\n",
    "3. Increased Memory Overhead: Creating multiple threads can result in increased memory usage, especially if many threads are created.\n",
    "\n",
    "4. Limited CPU Utilization: Although multithreading can improve performance, it may not fully utilize all available CPU cores. This is because of the Global Interpreter Lock (GIL) in Python, which allows only one thread to execute Python bytecode at a time.\n",
    "\n",
    "5. Thread Coordination Overhead: Coordinating threads, synchronizing access to shared resources, and ensuring thread safety can introduce overhead and complexity to the program."
   ]
  },
  {
   "cell_type": "markdown",
   "id": "18d4038d-d2ce-4972-be37-7dd7a31a22e0",
   "metadata": {},
   "source": [
    "`Q6. Explain deadlocks and race conditions.`"
   ]
  },
  {
   "cell_type": "markdown",
   "id": "7c1e36d2-bebc-45ee-873c-c74bbb85aaa1",
   "metadata": {},
   "source": [
    "`Deadlock:`\n",
    "It is a situation where two or more threads are blocked forever, resulting in a system deadlock. This can happen when there is a circular dependency between the resources that threads are trying to acquire, and none of them can proceed.\n",
    "\n",
    "For example, consider two threads: Thread A and Thread B. Thread A holds resource X and needs resource Y, while Thread B holds resource Y and needs resource X. If both threads try to acquire the resources at the same time, a deadlock occurs because neither thread can proceed without the resource held by the other.\n",
    "\n",
    "`Race Condition:`\n",
    "A race condition occurs when the behavior of a program depends on the relative timing or interleaving of multiple threads or processes. It arises when multiple threads or processes access shared data or resources without proper synchronization, and the final outcome depends on the order of execution. Race conditions can lead to incorrect results, data corruption, or unexpected program behavior. They can be difficult to debug and reproduce since they may occur sporadically depending on the timing and execution environment."
   ]
  }
 ],
 "metadata": {
  "kernelspec": {
   "display_name": "Python 3 (ipykernel)",
   "language": "python",
   "name": "python3"
  },
  "language_info": {
   "codemirror_mode": {
    "name": "ipython",
    "version": 3
   },
   "file_extension": ".py",
   "mimetype": "text/x-python",
   "name": "python",
   "nbconvert_exporter": "python",
   "pygments_lexer": "ipython3",
   "version": "3.10.8"
  }
 },
 "nbformat": 4,
 "nbformat_minor": 5
}

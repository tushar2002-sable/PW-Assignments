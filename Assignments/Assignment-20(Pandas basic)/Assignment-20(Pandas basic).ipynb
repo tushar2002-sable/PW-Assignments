{
 "cells": [
  {
   "cell_type": "markdown",
   "id": "420953c6",
   "metadata": {},
   "source": [
    "##### Q1. Create a Pandas Series that contains the following data: 4, 8, 15, 16, 23, and 42. Then, print the series."
   ]
  },
  {
   "cell_type": "code",
   "execution_count": 1,
   "id": "b579ccc4",
   "metadata": {},
   "outputs": [
    {
     "name": "stdout",
     "output_type": "stream",
     "text": [
      "0     4\n",
      "1     8\n",
      "2    15\n",
      "3    16\n",
      "4    23\n",
      "5    42\n",
      "dtype: int64\n"
     ]
    }
   ],
   "source": [
    "import pandas as pd\n",
    "\n",
    "data = [4,8,15,16,23,42]\n",
    "series = pd.Series(data)\n",
    "print(series)"
   ]
  },
  {
   "cell_type": "markdown",
   "id": "0129c6cf",
   "metadata": {},
   "source": [
    "##### Q2. Create a variable of list type containing 10 elements in it, and apply pandas.Series function on the variable print it."
   ]
  },
  {
   "cell_type": "code",
   "execution_count": null,
   "id": "733190ad",
   "metadata": {},
   "outputs": [
    {
     "name": "stdout",
     "output_type": "stream",
     "text": [
      "0     1\n",
      "1     2\n",
      "2     3\n",
      "3     4\n",
      "4     5\n",
      "5     6\n",
      "6     7\n",
      "7     8\n",
      "8     9\n",
      "9    10\n",
      "dtype: int64\n"
     ]
    }
   ],
   "source": [
    "l = [1,2,3,4,5,6,7,8,9,10]\n",
    "series = pd.Series(l)\n"
   ]
  },
  {
   "cell_type": "markdown",
   "id": "dfe0b08d",
   "metadata": {},
   "source": [
    "##### Q3. Create a Pandas DataFrame that contains the following data:   Then, print the DataFrame."
   ]
  },
  {
   "cell_type": "code",
   "execution_count": 9,
   "id": "e907d226",
   "metadata": {},
   "outputs": [
    {
     "data": {
      "text/html": [
       "<style type=\"text/css\">\n",
       "</style>\n",
       "<table id=\"T_58081\">\n",
       "  <thead>\n",
       "    <tr>\n",
       "      <th id=\"T_58081_level0_col0\" class=\"col_heading level0 col0\" >Name</th>\n",
       "      <th id=\"T_58081_level0_col1\" class=\"col_heading level0 col1\" >Age</th>\n",
       "      <th id=\"T_58081_level0_col2\" class=\"col_heading level0 col2\" >Gender</th>\n",
       "    </tr>\n",
       "  </thead>\n",
       "  <tbody>\n",
       "    <tr>\n",
       "      <td id=\"T_58081_row0_col0\" class=\"data row0 col0\" >Alice</td>\n",
       "      <td id=\"T_58081_row0_col1\" class=\"data row0 col1\" >25</td>\n",
       "      <td id=\"T_58081_row0_col2\" class=\"data row0 col2\" >Female</td>\n",
       "    </tr>\n",
       "    <tr>\n",
       "      <td id=\"T_58081_row1_col0\" class=\"data row1 col0\" >Bob</td>\n",
       "      <td id=\"T_58081_row1_col1\" class=\"data row1 col1\" >30</td>\n",
       "      <td id=\"T_58081_row1_col2\" class=\"data row1 col2\" >Male</td>\n",
       "    </tr>\n",
       "    <tr>\n",
       "      <td id=\"T_58081_row2_col0\" class=\"data row2 col0\" >Claire</td>\n",
       "      <td id=\"T_58081_row2_col1\" class=\"data row2 col1\" >27</td>\n",
       "      <td id=\"T_58081_row2_col2\" class=\"data row2 col2\" >Female</td>\n",
       "    </tr>\n",
       "  </tbody>\n",
       "</table>\n"
      ],
      "text/plain": [
       "<pandas.io.formats.style.Styler at 0x7fbed422eb60>"
      ]
     },
     "execution_count": 9,
     "metadata": {},
     "output_type": "execute_result"
    }
   ],
   "source": [
    "data = {\n",
    "    'Name': ['Alice', 'Bob', 'Claire'],\n",
    "    'Age': [25,30,27],\n",
    "    'Gender': ['Female','Male','Female']\n",
    "}\n",
    "df = pd.DataFrame(data)\n",
    "df.style.hide(axis=\"index\")"
   ]
  },
  {
   "cell_type": "markdown",
   "id": "fcb7e4d0",
   "metadata": {},
   "source": [
    "##### Q4. What is ‘DataFrame’ in pandas and how is it different from pandas.series? Explain with an example."
   ]
  },
  {
   "cell_type": "markdown",
   "id": "8722af1a",
   "metadata": {},
   "source": [
    "In pandas, a DataFrame is a two-dimensional labeled data structure that represents a table-like data object with rows and columns. It is similar to a spreadsheet or a SQL table, where each column can contain data of a different type (e.g., integers, floats, strings) and is labeled with a column name.\n",
    "\n",
    "On the other hand, a pandas Series is a one-dimensional labeled array that can hold data of any type. It is similar to a column in a DataFrame or a single column of data in a spreadsheet. Each element in a Series has a unique label called an index.\n",
    "\n",
    "Here's an example:\n",
    "\n",
    "```python\n",
    "import pandas as pd\n",
    "\n",
    "# Example DataFrame\n",
    "data = {'Name': ['John', 'Jane', 'Jim'],\n",
    "        'Age': [25, 30, 35],\n",
    "        'Occupation': ['Engineer', 'Doctor', 'Teacher']}\n",
    "df = pd.DataFrame(data)\n",
    "print(\"DataFrame:\")\n",
    "print(df)\n",
    "print()\n",
    "\n",
    "# Example Series\n",
    "name_series = df['Name']\n",
    "print(\"Series:\")\n",
    "print(name_series)\n",
    "```"
   ]
  },
  {
   "cell_type": "markdown",
   "id": "99e2f29b",
   "metadata": {},
   "source": [
    "##### Q5. What are some common functions you can use to manipulate data in a Pandas DataFrame? Can you give an example of when you might use one of these functions?"
   ]
  },
  {
   "cell_type": "markdown",
   "id": "b711b203",
   "metadata": {},
   "source": [
    "There are several common functions in Pandas that can be used to manipulate data in a DataFrame. Some of these functions include:\n",
    "\n",
    "1. `head()` and `tail()`: These functions allow you to view the first few rows (`head()`) or last few rows (`tail()`) of the DataFrame.\n",
    "\n",
    "2. `info()`: This function provides a summary of the DataFrame, including the number of non-null values, data types, and memory usage. It helps in understanding the structure and composition of the DataFrame.\n",
    "\n",
    "3. `describe()`: This function generates descriptive statistics of the numerical columns in the DataFrame, such as count, mean, standard deviation, minimum, maximum, and quartile values. It provides insights into the distribution and basic statistical properties of the data.\n",
    "\n",
    "4. `sort_values()`: This function allows you to sort the DataFrame by one or more columns. You can specify the column(s) to sort by and whether to sort in ascending or descending order. It is helpful for arranging the data in a specific order based on certain criteria.\n",
    "\n",
    "5. `groupby()`: This function enables you to group the data based on one or more columns and perform aggregate operations on the grouped data. It is useful for performing calculations and summaries on subsets of the data.\n",
    "\n",
    "6. `drop()` and `dropna()`: These functions are used to remove rows or columns from the DataFrame. `drop()` allows you to specify the labels of rows or columns to remove, while `dropna()` removes rows or columns that contain missing values (NaN).\n",
    "\n",
    "7. `apply()` and `applymap()`: These functions apply a function to one or more elements in the DataFrame. `apply()` is used to apply a function along an axis (rows or columns), while `applymap()` is used to apply a function element-wise to the entire DataFrame."
   ]
  },
  {
   "cell_type": "markdown",
   "id": "2395967a",
   "metadata": {},
   "source": [
    "##### Q6. Which of the following is mutable in nature Series, DataFrame, Panel?"
   ]
  },
  {
   "cell_type": "markdown",
   "id": "19eaf8f7",
   "metadata": {},
   "source": [
    "Among the given options, both Series and DataFrame in Pandas are mutable in nature, while Panel is immutable.\n",
    "\n",
    "1. Series: A Pandas Series is a one-dimensional labeled array that can hold data of any type. It is mutable, we can change specific values, add or remove elements, or update the entire Series with new values.\n",
    "\n",
    "2. DataFrame: A Pandas DataFrame is a two-dimensional labeled data structure with columns of potentially different data types. It is also mutable we can update values in specific cells, add or remove columns or rows, or perform various operations to transform the data within the DataFrame.\n",
    "\n",
    "3. Panel: A Pandas Panel is a three-dimensional labeled data structure that can hold data of different types. However, it is considered immutable, which means that once created, we cannot directly modify the contents of a Panel."
   ]
  },
  {
   "cell_type": "markdown",
   "id": "ff3d0bea",
   "metadata": {},
   "source": [
    "##### Q7. Create a DataFrame using multiple Series. Explain with an example."
   ]
  },
  {
   "cell_type": "code",
   "execution_count": 10,
   "id": "9ba3b3e1",
   "metadata": {},
   "outputs": [
    {
     "name": "stdout",
     "output_type": "stream",
     "text": [
      "    Name  Age Occupation\n",
      "0  Abdul   25   Engineer\n",
      "1  Julia   30     Doctor\n",
      "2  Nazim   35    Teacher\n"
     ]
    }
   ],
   "source": [
    "# Create the Series objects\n",
    "name = pd.Series(['Abdul', 'Julia', 'Nazim'])\n",
    "age = pd.Series([25, 30, 35])\n",
    "occupation = pd.Series(['Engineer', 'Doctor', 'Teacher'])\n",
    "\n",
    "# Create the DataFrame using the Series\n",
    "data = {'Name': name, 'Age': age, 'Occupation': occupation}\n",
    "df = pd.DataFrame(data)\n",
    "\n",
    "# Print the DataFrame\n",
    "print(df)"
   ]
  }
 ],
 "metadata": {
  "kernelspec": {
   "display_name": "Python 3 (ipykernel)",
   "language": "python",
   "name": "python3"
  },
  "language_info": {
   "codemirror_mode": {
    "name": "ipython",
    "version": 3
   },
   "file_extension": ".py",
   "mimetype": "text/x-python",
   "name": "python",
   "nbconvert_exporter": "python",
   "pygments_lexer": "ipython3",
   "version": "3.10.8"
  }
 },
 "nbformat": 4,
 "nbformat_minor": 5
}

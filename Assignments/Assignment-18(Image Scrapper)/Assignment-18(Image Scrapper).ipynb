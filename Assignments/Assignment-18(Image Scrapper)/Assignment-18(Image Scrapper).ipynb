{
 "cells": [
  {
   "cell_type": "markdown",
   "id": "79a99102-0125-4f5e-a11b-6aff57d1f9f4",
   "metadata": {},
   "source": [
    "##### Go to this given URL and solve the following questions\n",
    "URL: https://www.youtube.com/@PW-Foundation/videos"
   ]
  },
  {
   "cell_type": "code",
   "execution_count": 1,
   "id": "4e6a7eed-c4f9-4c57-8249-b94e651b7fc2",
   "metadata": {},
   "outputs": [],
   "source": [
    "from flask import Flask, render_template\n",
    "from bs4 import BeautifulSoup as bs\n",
    "from selenium import webdriver\n",
    "import csv"
   ]
  },
  {
   "cell_type": "code",
   "execution_count": null,
   "id": "9369e770-1fed-41e4-98c1-c495948152dc",
   "metadata": {},
   "outputs": [],
   "source": [
    "app = Flask(__name__)\n",
    "\n",
    "@app.route(\"/\")\n",
    "def homepage():\n",
    "    return render_template(\"index.html\")\n",
    "\n",
    "@app.route(\"/scrape\")\n",
    "def scrape():\n",
    "    url = 'https://www.youtube.com/@PW-Foundation/videos'\n",
    "\n",
    "    driver = webdriver.Chrome()\n",
    "    driver.get(url)\n",
    "\n",
    "    content = driver.page_source.encode('utf-8').strip()\n",
    "    soup = bs(content, 'lxml')\n",
    "\n",
    "# Q1. Write a python program to extract the video URL of the first five videos.\n",
    "    video_links = soup.select('a[href^=\"/watch?v=\"]')\n",
    "    video_urls = ['https://www.youtube.com' + link['href'] for link in video_links[:6]]\n",
    "\n",
    "# Q2. Write a python program to extract the URL of the video thumbnails of the first five videos.\n",
    "    thumbnails = soup.find_all('img', class_='yt-core-image--fill-parent-height yt-core-image--fill-parent-width yt-core-image yt-core-image--content-mode-scale-aspect-fill yt-core-image--loaded')\n",
    "    thumbnail_urls = [thumbnail['src'] for thumbnail in thumbnails]\n",
    "    \n",
    "# Q3. Write a python program to extract the title of the first five videos.\n",
    "    titles = soup.find_all('yt-formatted-string', id='video-title')\n",
    "    video_titles = [title.text for title in titles]\n",
    "\n",
    "# Q4. Write a python program to extract the number of views of the first five videos.\n",
    "    views = soup.find_all('span', class_='inline-metadata-item style-scope ytd-video-meta-block')\n",
    "    view_counts = [view.get_text(strip=True) for view in views if view.get_text(strip=True).endswith('views')]\n",
    "\n",
    "# Q5. Write a python program to extract the time of posting of video for the first five videos.\n",
    "    time = soup.find_all('span', class_='inline-metadata-item style-scope ytd-video-meta-block')\n",
    "    timestamps = [timestamp.get_text(strip=True) for timestamp in time if timestamp.get_text(strip=True).endswith('ago')]\n",
    "\n",
    "    driver.quit()\n",
    "\n",
    "    data = list(zip(video_urls, thumbnail_urls, video_titles, view_counts, timestamps))\n",
    "\n",
    "# Note: Save all the data scraped in the above questions in a CSV file.\n",
    "    with open('youtube_data.csv', 'w', newline='', encoding='utf-8') as file:\n",
    "        writer = csv.writer(file)\n",
    "        writer.writerow(['Video_URL', 'Thumb_Url', 'Title', 'Views', 'Timestamp'])\n",
    "        for row in data:\n",
    "            writer.writerow(row)\n",
    "\n",
    "    return render_template('result.html', data=data)\n",
    "\n",
    "if __name__ == \"__main__\":\n",
    "    app.run()\n"
   ]
  }
 ],
 "metadata": {
  "kernelspec": {
   "display_name": "Python 3 (ipykernel)",
   "language": "python",
   "name": "python3"
  },
  "language_info": {
   "codemirror_mode": {
    "name": "ipython",
    "version": 3
   },
   "file_extension": ".py",
   "mimetype": "text/x-python",
   "name": "python",
   "nbconvert_exporter": "python",
   "pygments_lexer": "ipython3",
   "version": "3.10.8"
  }
 },
 "nbformat": 4,
 "nbformat_minor": 5
}

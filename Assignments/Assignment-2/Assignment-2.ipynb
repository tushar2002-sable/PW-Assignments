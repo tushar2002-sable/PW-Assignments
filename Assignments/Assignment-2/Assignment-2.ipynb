{
 "cells": [
  {
   "cell_type": "markdown",
   "id": "000708d2-67d4-48e9-8246-50d6465e8305",
   "metadata": {},
   "source": [
    "Q1. How do you comment code in Python? What are the different types of comments?"
   ]
  },
  {
   "cell_type": "markdown",
   "id": "b22bf70a-9023-4635-8a88-5a98ee82488e",
   "metadata": {},
   "source": [
    "To comment a code in python we use:\n",
    "    (# and \"\"\" or ''')\n",
    "There are two types of comments:\n",
    "    1. Single line comments (#)\n",
    "    2. Multiline comments (\"\"\" or ''') or block of lines\n",
    "By using command (CTRL + /)"
   ]
  },
  {
   "cell_type": "markdown",
   "id": "ade751f9-1382-4749-afc4-2ff3a526f687",
   "metadata": {},
   "source": [
    "Q2. What are variables in Python? How do you declare and assign values to variables?"
   ]
  },
  {
   "cell_type": "markdown",
   "id": "c96c4a15-f9f0-4997-a89c-12c4b61dedc1",
   "metadata": {},
   "source": [
    "Variable is a pointer to an object which stores some value in it.\n",
    "Assignment operator (=) is used to assign values to variables. Variable name must not start with a number."
   ]
  },
  {
   "cell_type": "markdown",
   "id": "e7f5f25d-3a6d-4154-aaea-ad98b4c77c88",
   "metadata": {},
   "source": [
    "Q3. How do you convert one data type to another in Python?"
   ]
  },
  {
   "cell_type": "markdown",
   "id": "66f9750b-084c-4266-bb9c-5f391a0baa3d",
   "metadata": {},
   "source": [
    "Typecasting is a method to convert one data type into another i.e., int(), float(), str()"
   ]
  },
  {
   "cell_type": "markdown",
   "id": "b932d2c4-b805-4084-8035-b8efb0cd3df4",
   "metadata": {},
   "source": [
    "Q4. How do you write and execute a Python script from the command line?"
   ]
  },
  {
   "cell_type": "markdown",
   "id": "a739dddf-c2cd-48f2-9981-f15368cc8bae",
   "metadata": {},
   "source": [
    "To create a script file filename.py, we would use the following command:\n",
    "    code filename.py\n",
    "open filename.py in my favourite code editor (Vscode), and write a code, then save.\n",
    "To execute the code type following in command line terminal:\n",
    "    python filename.py"
   ]
  },
  {
   "cell_type": "markdown",
   "id": "b35898db-59fa-47c5-91f3-7bc88ef73a54",
   "metadata": {},
   "source": [
    "Q5. Given a list my_list = [1, 2, 3, 4, 5], write the code to slice the list and obtain the sub-list [2, 3]."
   ]
  },
  {
   "cell_type": "code",
   "execution_count": 3,
   "id": "cb0b13b4-9595-4f8a-a8d3-fa1a67ebf3de",
   "metadata": {},
   "outputs": [
    {
     "name": "stdout",
     "output_type": "stream",
     "text": [
      "[2, 3]\n"
     ]
    }
   ],
   "source": [
    "my_list = [1,2,3,4,5]\n",
    "sub_list = my_list [1:3]\n",
    "print(sub_list)"
   ]
  },
  {
   "cell_type": "markdown",
   "id": "9d5df526-4005-4b65-aa43-d0b0a1213253",
   "metadata": {},
   "source": [
    "Q6. What is a complex number in mathematics, and how is it represented in Python?"
   ]
  },
  {
   "cell_type": "markdown",
   "id": "cddf0cb9-85aa-456d-afea-f2d6b3efb2b3",
   "metadata": {},
   "source": [
    "In mathematics, complex numbers are represented as a+bi contains real and imaginary part. While in Python complex numbers are represented using built-in type 'complex'."
   ]
  },
  {
   "cell_type": "code",
   "execution_count": 4,
   "id": "5f1d3374-a2b0-40f9-a8d9-5e86c146735b",
   "metadata": {},
   "outputs": [
    {
     "name": "stdout",
     "output_type": "stream",
     "text": [
      "(4+5j)\n"
     ]
    }
   ],
   "source": [
    "# Example\n",
    "c = complex(4,5)\n",
    "print(c)"
   ]
  },
  {
   "cell_type": "markdown",
   "id": "4fc10fd7-3a44-488d-a14c-6e773f0485f0",
   "metadata": {},
   "source": [
    "Q7. What is the correct way to declare a variable named age and assign the value 25 to it?"
   ]
  },
  {
   "cell_type": "code",
   "execution_count": 7,
   "id": "b7196390-cacb-404a-8181-33580c3ad6eb",
   "metadata": {},
   "outputs": [],
   "source": [
    "age = 25 # Assignment operator(#)"
   ]
  },
  {
   "cell_type": "code",
   "execution_count": 8,
   "id": "02b7a9a6-b69c-49bd-92f9-d8ba59334c2d",
   "metadata": {},
   "outputs": [
    {
     "data": {
      "text/plain": [
       "25"
      ]
     },
     "execution_count": 8,
     "metadata": {},
     "output_type": "execute_result"
    }
   ],
   "source": [
    "age"
   ]
  },
  {
   "cell_type": "markdown",
   "id": "aecc0613-cce9-47c7-b89b-f74fb73fdcc5",
   "metadata": {},
   "source": [
    "Q8. Declare a variable named price and assign the value 9.99 to it. What data type does this variable\n",
    "belong to?"
   ]
  },
  {
   "cell_type": "code",
   "execution_count": 10,
   "id": "8e31e30e-80a9-4a7c-871c-d0ac47be5ab2",
   "metadata": {},
   "outputs": [
    {
     "name": "stdout",
     "output_type": "stream",
     "text": [
      "<class 'float'>\n"
     ]
    }
   ],
   "source": [
    "# The variable belongs to float data type\n",
    "price = 9.99\n",
    "print(type(price))"
   ]
  },
  {
   "cell_type": "markdown",
   "id": "761a8d34-69e0-4f8a-abec-a939603ade7d",
   "metadata": {},
   "source": [
    "Q9. Create a variable named name and assign your full name to it as a string. How would you print the\n",
    "value of this variable?"
   ]
  },
  {
   "cell_type": "code",
   "execution_count": 13,
   "id": "7d00f3ed-98e8-4f62-96d2-f907b761607f",
   "metadata": {},
   "outputs": [
    {
     "name": "stdout",
     "output_type": "stream",
     "text": [
      "My name is: Abdul Basit\n"
     ]
    }
   ],
   "source": [
    "# We can print the value of variable using f-strings\n",
    "name = \"Abdul Basit\"\n",
    "print (f\"My name is: {name}\")"
   ]
  },
  {
   "cell_type": "markdown",
   "id": "6c52d89e-ed82-459f-9450-6cac9c3ee562",
   "metadata": {},
   "source": [
    "Q10. Given the string \"Hello, World!\", extract the substring \"World\"."
   ]
  },
  {
   "cell_type": "code",
   "execution_count": 18,
   "id": "a916039c-afc0-4c98-b6e9-86c6719ae434",
   "metadata": {},
   "outputs": [
    {
     "name": "stdout",
     "output_type": "stream",
     "text": [
      "World\n"
     ]
    }
   ],
   "source": [
    "s = \"Hello, World!\"\n",
    "substring = s[7:12]\n",
    "print(substring)"
   ]
  },
  {
   "cell_type": "markdown",
   "id": "8fbdda65-9c24-4422-9716-6c45e14f12e7",
   "metadata": {},
   "source": [
    "Q11. Create a variable named \"is_student\" and assign it a boolean value indicating whether you are\n",
    "currently a student or not."
   ]
  },
  {
   "cell_type": "code",
   "execution_count": 37,
   "id": "2477c00d-b9f8-4ecc-b5f4-06082a729a1d",
   "metadata": {},
   "outputs": [
    {
     "name": "stdin",
     "output_type": "stream",
     "text": [
      "Are you a student?  y\n"
     ]
    },
    {
     "name": "stdout",
     "output_type": "stream",
     "text": [
      "You are a student\n"
     ]
    }
   ],
   "source": [
    "# Solution 1\n",
    "user_input = input(\"Are you a student? \")\n",
    "is_student = user_input.lower() == 'y'\n",
    "if is_student:\n",
    "    print(\"You are a student\")\n",
    "else:\n",
    "    print(\"You are not a student\")"
   ]
  }
 ],
 "metadata": {
  "kernelspec": {
   "display_name": "Python 3 (ipykernel)",
   "language": "python",
   "name": "python3"
  },
  "language_info": {
   "codemirror_mode": {
    "name": "ipython",
    "version": 3
   },
   "file_extension": ".py",
   "mimetype": "text/x-python",
   "name": "python",
   "nbconvert_exporter": "python",
   "pygments_lexer": "ipython3",
   "version": "3.10.8"
  }
 },
 "nbformat": 4,
 "nbformat_minor": 5
}

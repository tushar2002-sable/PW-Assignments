{
 "cells": [
  {
   "cell_type": "markdown",
   "id": "91c7bd86",
   "metadata": {},
   "source": [
    "#### Q1. Write a Python function that takes in two arrays of data and calculates the F-value for a variance ratio test. The function should return the F-value and the corresponding p-value for the test."
   ]
  },
  {
   "cell_type": "code",
   "execution_count": 9,
   "id": "d9f309dc",
   "metadata": {},
   "outputs": [
    {
     "name": "stdout",
     "output_type": "stream",
     "text": [
      "F_value: 0.5941812428583984\n",
      "p-value: 0.45863198575954817\n",
      "Failed to Reject the Null Hypothesis\n"
     ]
    }
   ],
   "source": [
    "import numpy as np\n",
    "import scipy.stats as stats\n",
    "\n",
    "data1 = np.array([10,20,24,45,30,32])\n",
    "data2 = np.array([12,40,64,65,10,22])\n",
    "\n",
    "f_statistics, p_value = stats.f_oneway(data1, data2)\n",
    "\n",
    "print(f\"F_value: {f_statistics}\")\n",
    "print(f\"p-value: {p_value}\")\n",
    "\n",
    "if p_value < 0.05:\n",
    "    print(\"Reject the Null Hypothesis\")\n",
    "else:\n",
    "    print(\"Failed to Reject the Null Hypothesis\")"
   ]
  },
  {
   "cell_type": "markdown",
   "id": "d751beed",
   "metadata": {},
   "source": [
    "#### Q2. Given a significance level of 0.05 and the degrees of freedom for the numerator and denominator of an F-distribution, write a Python function that returns the critical F-value for a two-tailed test."
   ]
  },
  {
   "cell_type": "code",
   "execution_count": 1,
   "id": "bad319ee",
   "metadata": {},
   "outputs": [
    {
     "name": "stdout",
     "output_type": "stream",
     "text": [
      "F-value:  4.387122002085506\n",
      "Reject the null hypothesis\n"
     ]
    }
   ],
   "source": [
    "import numpy as np\n",
    "import scipy.stats as stats\n",
    "\n",
    "data1 = [18,19,22,25,27,28,41,45,51,55]\n",
    "data2 = [14,15,15,17,18,22,25,25,27,34]\n",
    "\n",
    "f_test = np.var(data1)/np.var(data2)\n",
    "print(\"F-value: \", f_test)\n",
    "\n",
    "alpha = 0.05\n",
    "df1 = len(data1) - 1\n",
    "df2 = len(data2) - 1\n",
    "\n",
    "critical_value = stats.f.ppf(q= 1 - alpha/2, dfn=df1, dfd= df2)\n",
    "\n",
    "if f_test > critical_value:\n",
    "    print(\"Reject the null hypothesis\")\n",
    "else:\n",
    "    print(\"We fail to Reject the null hypothesis\")"
   ]
  },
  {
   "cell_type": "markdown",
   "id": "3d48a441",
   "metadata": {},
   "source": [
    "#### Q3. Write a Python program that generates random samples from two normal distributions with known variances and uses an F-test to determine if the variances are equal. The program should output the F-value, degrees of freedom, and p-value for the test."
   ]
  },
  {
   "cell_type": "code",
   "execution_count": 16,
   "id": "695b7450",
   "metadata": {},
   "outputs": [
    {
     "name": "stdout",
     "output_type": "stream",
     "text": [
      "F-statistic: 0.3235510111660512\n",
      "Degrees of freedom: 9 9\n",
      "p-value: 0.9459404297315769\n"
     ]
    }
   ],
   "source": [
    "import numpy as np\n",
    "import scipy.stats as stats\n",
    "\n",
    "# Generate random samples from two normal distributions with known variances\n",
    "mean_1 = 10\n",
    "mean_2 = 15\n",
    "variance_1 = 5\n",
    "variance_2 = 10\n",
    "size = 10\n",
    "\n",
    "np.random.seed(123)\n",
    "sample_1 = np.random.normal(mean_1, variance_1, size)\n",
    "sample_2 = np.random.normal(mean_2, variance_2, size)\n",
    "\n",
    "# Calculate the F-statistic\n",
    "f_statistic = np.var(sample_1) / np.var(sample_2)\n",
    "\n",
    "# Calculate the degrees of freedom\n",
    "df_1 = size - 1\n",
    "df_2 = size - 1\n",
    "\n",
    "# Calculate the p-value\n",
    "p_value = 1 - stats.f.cdf(f_statistic, df_1, df_2)\n",
    "\n",
    "# Print the results\n",
    "print(\"F-statistic:\", f_statistic)\n",
    "print(\"Degrees of freedom:\", df_1, df_2)\n",
    "print(\"p-value:\", p_value)\n"
   ]
  },
  {
   "cell_type": "markdown",
   "id": "8b94e7c1",
   "metadata": {},
   "source": [
    "#### Q4.The variances of two populations are known to be 10 and 15. A sample of 12 observations is taken from each population. Conduct an F-test at the 5% significance level to determine if the variances are significantly different."
   ]
  },
  {
   "cell_type": "code",
   "execution_count": 19,
   "id": "56ab5d76",
   "metadata": {},
   "outputs": [
    {
     "name": "stdout",
     "output_type": "stream",
     "text": [
      "F-statistic: 0.5207456019699055\n",
      "Critical value: 2.8179304699530863\n",
      "We cannot reject the null hypothesis\n"
     ]
    }
   ],
   "source": [
    "import numpy as np\n",
    "import scipy.stats as stats\n",
    "\n",
    "# The variances of the two populations\n",
    "variance_1 = 10\n",
    "variance_2 = 15\n",
    "\n",
    "# The sample sizes of the two populations\n",
    "n1 = 12\n",
    "n2 = 12\n",
    "\n",
    "np.random.seed(123)\n",
    "# The sample variances\n",
    "s1 = np.var(np.random.normal(0, variance_1, n1))\n",
    "s2 = np.var(np.random.normal(0, variance_2, n2))\n",
    "\n",
    "# The F-statistic\n",
    "F = s1 / s2\n",
    "\n",
    "# The degrees of freedom for the F-test\n",
    "df1 = n1 - 1\n",
    "df2 = n2 - 1\n",
    "\n",
    "# The critical value for the F-test\n",
    "F_critical = stats.f.ppf(1-0.05, df1, df2)\n",
    "\n",
    "# Print the results\n",
    "print(\"F-statistic:\", F)\n",
    "print(\"Critical value:\", F_critical)\n",
    "\n",
    "# Conclusion\n",
    "if F < F_critical:\n",
    "    print(\"We cannot reject the null hypothesis\")\n",
    "else:\n",
    "    print(\"We reject the null hypothesis\")\n"
   ]
  },
  {
   "cell_type": "markdown",
   "id": "0e9c9191",
   "metadata": {},
   "source": [
    "The F-statistic is less than the critical value, so we cannot reject the null hypothesis that the variances of the two populations are equal.\n",
    "\n"
   ]
  },
  {
   "cell_type": "markdown",
   "id": "7f069f46",
   "metadata": {},
   "source": [
    "#### Q5. A manufacturer claims that the variance of the diameter of a certain product is 0.005. A sample of 25 products is taken, and the sample variance is found to be 0.006. Conduct an F-test at the 1% significance level to determine if the claim is justified."
   ]
  },
  {
   "cell_type": "code",
   "execution_count": 20,
   "id": "f3a77766",
   "metadata": {},
   "outputs": [
    {
     "name": "stdout",
     "output_type": "stream",
     "text": [
      "F-statistic: 1.2\n",
      "Critical value: 2.6590721043481556\n",
      "We cannot reject the null hypothesis\n"
     ]
    }
   ],
   "source": [
    "import numpy as np\n",
    "import scipy.stats as stats\n",
    "\n",
    "# The claimed variance of the population\n",
    "variance_claim = 0.005\n",
    "\n",
    "# The sample size\n",
    "n = 25\n",
    "\n",
    "# The sample variance\n",
    "sample_variance = 0.006\n",
    "\n",
    "# The F-statistic\n",
    "F = sample_variance / variance_claim\n",
    "\n",
    "# The degrees of freedom for the F-test\n",
    "df1 = n - 1\n",
    "df2 = n - 1\n",
    "\n",
    "# The critical value for the F-test\n",
    "F_critical = stats.f.ppf(0.99, df1, df2)\n",
    "\n",
    "# Print the results\n",
    "print(\"F-statistic:\", F)\n",
    "print(\"Critical value:\", F_critical)\n",
    "\n",
    "# Conclusion\n",
    "if F < F_critical:\n",
    "    print(\"We cannot reject the null hypothesis\")\n",
    "else:\n",
    "    print(\"We reject the null hypothesis\")"
   ]
  },
  {
   "cell_type": "markdown",
   "id": "6aba5bf5",
   "metadata": {},
   "source": [
    "As expected, the F-statistic is less than the critical value, so we cannot reject the null hypothesis that the manufacturer's claim is justified."
   ]
  },
  {
   "cell_type": "markdown",
   "id": "01a174fb",
   "metadata": {},
   "source": [
    "#### Q6. Write a Python function that takes in the degrees of freedom for the numerator and denominator of an F-distribution and calculates the mean and variance of the distribution. The function should return the mean and variance as a tuple."
   ]
  },
  {
   "cell_type": "code",
   "execution_count": 25,
   "id": "04b52ad1",
   "metadata": {},
   "outputs": [
    {
     "name": "stdout",
     "output_type": "stream",
     "text": [
      "Mean: 0.4\n",
      "Variance: 5.454545454545454\n"
     ]
    }
   ],
   "source": [
    "def f_distribution_mean_variance(df1, df2):\n",
    "\n",
    "    # The mean of the F-distribution\n",
    "    mean = (df1 / (df1 + df2))\n",
    "\n",
    "    # The variance of the F-distribution\n",
    "    variance = (2 * df1 * df2) / ((df1 + df2)^2 * (df1 + df2 - 2))\n",
    "\n",
    "    # Return the mean and variance as a tuple\n",
    "    return mean, variance\n",
    "df1 = 10\n",
    "df2 = 15\n",
    "mean, variance = f_distribution_mean_variance(df1, df2)\n",
    "print(\"Mean:\", mean)\n",
    "print(\"Variance:\", variance)"
   ]
  },
  {
   "cell_type": "markdown",
   "id": "fa1184ce",
   "metadata": {},
   "source": [
    "#### Q7. A random sample of 10 measurements is taken from a normal population with unknown variance. The sample variance is found to be 25. Another random sample of 15 measurements is taken from another normal population with unknown variance, and the sample variance is found to be 20. Conduct an F-test at the 10% significance level to determine if the variances are significantly different."
   ]
  },
  {
   "cell_type": "code",
   "execution_count": 28,
   "id": "6f9ad97e",
   "metadata": {},
   "outputs": [
    {
     "name": "stdout",
     "output_type": "stream",
     "text": [
      "F-statistic: 1.25\n",
      "Critical value: 0.4253437122851495\n",
      "We reject the null hypothesis\n"
     ]
    }
   ],
   "source": [
    "import numpy as np\n",
    "import scipy.stats as stats\n",
    "\n",
    "# The sample variances\n",
    "sample_variance_1 = 25\n",
    "sample_variance_2 = 20\n",
    "\n",
    "# Sample size\n",
    "n1 = 10\n",
    "n2 = 15\n",
    "\n",
    "# The degrees of freedom for the F-test\n",
    "df1 = n1 - 1\n",
    "df2 = n2 - 1\n",
    "\n",
    "# The critical value for the F-test\n",
    "F_critical = stats.f.ppf(0.10, df1, df2)\n",
    "\n",
    "# The F-statistic\n",
    "F = sample_variance_1 / sample_variance_2\n",
    "\n",
    "# Print the results\n",
    "print(\"F-statistic:\", F)\n",
    "print(\"Critical value:\", F_critical)\n",
    "\n",
    "# Conclusion\n",
    "if F < F_critical:\n",
    "    print(\"We cannot reject the null hypothesis\")\n",
    "else:\n",
    "    print(\"We reject the null hypothesis\")"
   ]
  },
  {
   "cell_type": "markdown",
   "id": "16ac0552",
   "metadata": {},
   "source": [
    "#### Q8. The following data represent the waiting times in minutes at two different restaurants on a Saturday night: Restaurant A: 24, 25, 28, 23, 22, 20, 27; Restaurant B: 31, 33, 35, 30, 32, 36. Conduct an F-test at the 5% significance level to determine if the variances are significantly different."
   ]
  },
  {
   "cell_type": "code",
   "execution_count": 30,
   "id": "52b3f961",
   "metadata": {},
   "outputs": [
    {
     "name": "stdout",
     "output_type": "stream",
     "text": [
      "F-statistic: 0.49676765115984284\n",
      "Critical value: 0.227926763773758\n",
      "We reject the null hypothesis\n"
     ]
    }
   ],
   "source": [
    "import numpy as np\n",
    "import scipy.stats as stats\n",
    "\n",
    "# The waiting times at Restaurant A\n",
    "waiting_times_a = [24, 25, 28, 23, 22, 20, 27]\n",
    "\n",
    "# The waiting times at Restaurant B\n",
    "waiting_times_b = [31, 33, 35, 30, 32, 36]\n",
    "\n",
    "# The degrees of freedom for the F-test\n",
    "df1 = len(waiting_times_a) - 1\n",
    "df2 = len(waiting_times_b) - 1\n",
    "\n",
    "# The critical value for the F-test\n",
    "F_critical = stats.f.ppf(0.05, df1, df2)\n",
    "\n",
    "# The F-statistic\n",
    "F = ((np.var(waiting_times_a) - np.var(waiting_times_b)) / (np.var(waiting_times_b)))\n",
    "\n",
    "# Print the results\n",
    "print(\"F-statistic:\", F)\n",
    "print(\"Critical value:\", F_critical)\n",
    "\n",
    "# Conclusion\n",
    "if F < F_critical:\n",
    "    print(\"We cannot reject the null hypothesis\")\n",
    "else:\n",
    "    print(\"We reject the null hypothesis\")    "
   ]
  },
  {
   "cell_type": "markdown",
   "id": "74fdf486",
   "metadata": {},
   "source": [
    "#### Q9. The following data represent the test scores of two groups of students: Group A: 80, 85, 90, 92, 87, 83; Group B: 75, 78, 82, 79, 81, 84. Conduct an F-test at the 1% significance level to determine if the variances are significantly different."
   ]
  },
  {
   "cell_type": "code",
   "execution_count": 31,
   "id": "1eecad86",
   "metadata": {},
   "outputs": [
    {
     "name": "stdout",
     "output_type": "stream",
     "text": [
      "F-statistic: 0.9442622950819677\n",
      "Critical value: 0.0911824671285913\n",
      "We reject the null hypothesis\n"
     ]
    }
   ],
   "source": [
    "import numpy as np\n",
    "import scipy.stats as stats\n",
    "\n",
    "# The test scores for Group A\n",
    "test_scores_a = [80, 85, 90, 92, 87, 83]\n",
    "\n",
    "# The test scores for Group B\n",
    "test_scores_b = [75, 78, 82, 79, 81, 84]\n",
    "\n",
    "# The degrees of freedom for the F-test\n",
    "df1 = len(test_scores_a) - 1\n",
    "df2 = len(test_scores_b) - 1\n",
    "\n",
    "# The critical value for the F-test\n",
    "F_critical = stats.f.ppf(0.01, df1, df2)\n",
    "\n",
    "# The F-statistic\n",
    "F = (np.var(test_scores_a) - np.var(test_scores_b)) / np.var(test_scores_b)\n",
    "\n",
    "# Print the results\n",
    "print(\"F-statistic:\", F)\n",
    "print(\"Critical value:\", F_critical)\n",
    "\n",
    "# Conclusion\n",
    "if F < F_critical:\n",
    "    print(\"We cannot reject the null hypothesis\")\n",
    "else:\n",
    "    print(\"We reject the null hypothesis\") "
   ]
  },
  {
   "cell_type": "markdown",
   "id": "6f40786c",
   "metadata": {},
   "source": [
    "As expected, the F-statistic is greater than the critical value, so we reject the null hypothesis that the variances of the two populations are equal."
   ]
  }
 ],
 "metadata": {
  "kernelspec": {
   "display_name": "Python 3 (ipykernel)",
   "language": "python",
   "name": "python3"
  },
  "language_info": {
   "codemirror_mode": {
    "name": "ipython",
    "version": 3
   },
   "file_extension": ".py",
   "mimetype": "text/x-python",
   "name": "python",
   "nbconvert_exporter": "python",
   "pygments_lexer": "ipython3",
   "version": "3.11.4"
  }
 },
 "nbformat": 4,
 "nbformat_minor": 5
}

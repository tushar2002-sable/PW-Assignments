{
 "cells": [
  {
   "cell_type": "markdown",
   "id": "178acf2c-118f-469d-880c-93ea6bdc9de4",
   "metadata": {},
   "source": [
    "Q1, Create a vehicle class with an init method having instance variables as name_of_vehicle, max_speed\n",
    "and average_of_vehicle."
   ]
  },
  {
   "cell_type": "code",
   "execution_count": 21,
   "id": "be8b6fc2-3d98-4a61-bd91-59f42c721f9e",
   "metadata": {},
   "outputs": [],
   "source": [
    "class vehicle:\n",
    "    def __init__(self, name_of_vehicle, max_speed, average_of_vehicle):\n",
    "        self.name_of_vehicle = name_of_vehicle\n",
    "        self.max_speed = max_speed\n",
    "        self.average_of_vehicle = average_of_vehicle"
   ]
  },
  {
   "cell_type": "markdown",
   "id": "7333ede8-80ab-4ccf-bf61-d78c05a7423b",
   "metadata": {},
   "source": [
    "Q2. Create a child class car from the vehicle class created in Que 1, which will inherit the vehicle class.\n",
    "Create a method named seating_capacity which takes capacity as an argument and returns the name of the vehicle and its seating capacity."
   ]
  },
  {
   "cell_type": "code",
   "execution_count": 22,
   "id": "69ccae29-8411-48de-92bc-b192526b5a8e",
   "metadata": {},
   "outputs": [],
   "source": [
    "class car(vehicle):\n",
    "    def seating_capacity(self, capacity):\n",
    "        return f\"The name of vehicle is {self.name_of_vehicle} has seating capacity of {self.self.capacity} people\""
   ]
  },
  {
   "cell_type": "markdown",
   "id": "6bd5a087-17a1-4d7a-a78a-32a37ff011ef",
   "metadata": {},
   "source": [
    "Q3. What is multiple inheritance? Write a python code to demonstrate multiple inheritance."
   ]
  },
  {
   "cell_type": "markdown",
   "id": "3d52d2d9-15d4-4b1a-9a40-01671b2a4268",
   "metadata": {},
   "source": [
    "<i>Multiple inheritance is a class which can inherit methods and attributes from more than one Parent class.</i>\n",
    "<strong>Example</strong>"
   ]
  },
  {
   "cell_type": "code",
   "execution_count": 24,
   "id": "d0b6a1df-4f72-4e94-9a33-9b7169049a81",
   "metadata": {},
   "outputs": [
    {
     "data": {
      "text/plain": [
       "'Name: Toyota-Vitz, Engine Type: Automatic, Color: Black'"
      ]
     },
     "execution_count": 24,
     "metadata": {},
     "output_type": "execute_result"
    }
   ],
   "source": [
    "class Vehicle:\n",
    "    def __init__(self, name):\n",
    "        self.name = name\n",
    "\n",
    "    def get_name(self):\n",
    "        return self.name\n",
    "\n",
    "\n",
    "class Engine:\n",
    "    def __init__(self, engine_type):\n",
    "        self.engine_type = engine_type\n",
    "\n",
    "    def get_engine_type(self):\n",
    "        return self.engine_type\n",
    "\n",
    "\n",
    "class Car(Vehicle, Engine):\n",
    "    def __init__(self, name, engine_type, color):\n",
    "        Vehicle.__init__(self, name)\n",
    "        Engine.__init__(self, engine_type)\n",
    "        self.color = color\n",
    "\n",
    "    def get_car_info(self):\n",
    "        return f\"Name: {self.get_name()}, Engine Type: {self.get_engine_type()}, Color: {self.color}\"\n",
    "\n",
    "\n",
    "# Creating an instance of the Car class\n",
    "my_car = Car(\"Toyota-Vitz\", \"Automatic\", \"Black\")\n",
    "\n",
    "# Calling methods from multiple inherited classes\n",
    "my_car.get_car_info()\n"
   ]
  },
  {
   "cell_type": "markdown",
   "id": "d414b748-a64b-43be-8fd5-8deb42171a9d",
   "metadata": {},
   "source": [
    "Q4. What are getter and setter in python? Create a class and create a getter and a setter method in this\n",
    "class."
   ]
  },
  {
   "cell_type": "markdown",
   "id": "1b0b9c24-7faa-468d-be1a-723ad790d25c",
   "metadata": {},
   "source": [
    "Getters and Setters are methods used to access and modify the values of class attributes while encapsulating the implementation details."
   ]
  },
  {
   "cell_type": "code",
   "execution_count": 25,
   "id": "b9ff44f6-6ad4-4509-b2fc-c8e02cddc4d4",
   "metadata": {},
   "outputs": [],
   "source": [
    "class Animal:\n",
    "    def __init__(self, name):\n",
    "        self.__name = name\n",
    "\n",
    "    # getters function\n",
    "    def get_name(self):\n",
    "        return self.__name\n",
    "    \n",
    "    # setters function\n",
    "    def set_name(self, new_name):\n",
    "        self.__name = new_name"
   ]
  },
  {
   "cell_type": "code",
   "execution_count": 26,
   "id": "11a840ff-5e78-4428-b465-f736fcb3daa5",
   "metadata": {},
   "outputs": [
    {
     "data": {
      "text/plain": [
       "'Elephant'"
      ]
     },
     "execution_count": 26,
     "metadata": {},
     "output_type": "execute_result"
    }
   ],
   "source": [
    "animal = Animal(\"Elephant\")\n",
    "\n",
    "animal.get_name()"
   ]
  },
  {
   "cell_type": "code",
   "execution_count": 27,
   "id": "6c57bf71-8ae7-41b8-88eb-7ba60f4a6646",
   "metadata": {},
   "outputs": [
    {
     "data": {
      "text/plain": [
       "'Ziraffe'"
      ]
     },
     "execution_count": 27,
     "metadata": {},
     "output_type": "execute_result"
    }
   ],
   "source": [
    "animal.set_name(\"Ziraffe\")\n",
    "animal.get_name()"
   ]
  },
  {
   "cell_type": "markdown",
   "id": "9e2fd15d-69a1-4acb-a5f8-77867f2245d6",
   "metadata": {},
   "source": [
    "Q5.What is method overriding in python? Write a python code to demonstrate method overriding."
   ]
  },
  {
   "cell_type": "markdown",
   "id": "3d0e21fa-91f6-4fcf-bb12-c3df25f5702c",
   "metadata": {},
   "source": [
    "Method overriding is a feature in OOP which allows the subclass to override and modify the behavior of the inherited method.\n",
    "Method overriding cannot be performed in the same class, and overriding can only be executed when a child class is derived through inheritance."
   ]
  },
  {
   "cell_type": "code",
   "execution_count": 28,
   "id": "8c1458e8-b7a0-4154-809e-328a3e4f7770",
   "metadata": {},
   "outputs": [
    {
     "name": "stdout",
     "output_type": "stream",
     "text": [
      "The dog barks.\n",
      "The animal makes a sound.\n"
     ]
    }
   ],
   "source": [
    "# Example\n",
    "\n",
    "class Animal:\n",
    "    def make_sound(self):\n",
    "        print(\"The animal makes a sound.\")\n",
    "        \n",
    "    def talk(self):\n",
    "        pass\n",
    "\n",
    "class Dog(Animal):\n",
    "    def make_sound(self):\n",
    "        print(\"The dog barks.\")\n",
    "    \n",
    "    def bark(self):\n",
    "        pass\n",
    "\n",
    "# Creating instances of the Animal and Dog classes\n",
    "animal = Animal()\n",
    "dog = Dog()\n",
    "\n",
    "# Calling the make_sound() method\n",
    "\n",
    "dog.make_sound() \n",
    "animal.make_sound() "
   ]
  },
  {
   "cell_type": "code",
   "execution_count": null,
   "id": "e2787435-c876-4980-bcf5-7161bc3deb7f",
   "metadata": {},
   "outputs": [],
   "source": []
  }
 ],
 "metadata": {
  "kernelspec": {
   "display_name": "Python 3 (ipykernel)",
   "language": "python",
   "name": "python3"
  },
  "language_info": {
   "codemirror_mode": {
    "name": "ipython",
    "version": 3
   },
   "file_extension": ".py",
   "mimetype": "text/x-python",
   "name": "python",
   "nbconvert_exporter": "python",
   "pygments_lexer": "ipython3",
   "version": "3.10.8"
  }
 },
 "nbformat": 4,
 "nbformat_minor": 5
}

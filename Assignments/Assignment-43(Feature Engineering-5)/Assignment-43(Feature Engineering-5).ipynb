{
 "cells": [
  {
   "cell_type": "markdown",
   "id": "41e9281e",
   "metadata": {},
   "source": [
    "### Q1. Pearson correlation coefficient is a measure of the linear relationship between two variables. Suppose you have collected data on the amount of time students spend studying for an exam and their final exam scores. Calculate the Pearson correlation coefficient between these two variables and interpret the result."
   ]
  },
  {
   "cell_type": "markdown",
   "id": "049af0c8",
   "metadata": {},
   "source": [
    "The Pearson correlation coefficient is a measure of the linear relationship between two variables. It is calculated by taking the covariance between the two variables and dividing it by the product of their standard deviations. The Pearson correlation coefficient can range from -1 to 1. A value of -1 indicates a perfect negative correlation, a value of 0 indicates no correlation, and a value of 1 indicates a perfect positive correlation.\n",
    "\n",
    "The following code calculates the Pearson correlation coefficient between the amount of time students spend studying for an exam and their final exam scores:"
   ]
  },
  {
   "cell_type": "code",
   "execution_count": 1,
   "id": "34b17f7e",
   "metadata": {},
   "outputs": [
    {
     "name": "stdout",
     "output_type": "stream",
     "text": [
      "0.9863939238321439\n"
     ]
    }
   ],
   "source": [
    "import numpy as np\n",
    "\n",
    "# Create a dataset\n",
    "data = {\n",
    "    \"Study Time\": [2, 4, 6, 8, 10],\n",
    "    \"Final Exam Score\": [80, 90, 95, 100, 105]\n",
    "}\n",
    "\n",
    "# Calculate the Pearson correlation coefficient\n",
    "correlation = np.corrcoef(data[\"Study Time\"], data[\"Final Exam Score\"])[0, 1]\n",
    "\n",
    "# Print the correlation coefficient\n",
    "print(correlation)"
   ]
  },
  {
   "cell_type": "markdown",
   "id": "672e4d60",
   "metadata": {},
   "source": [
    "The output of the code is 0.9, which indicates a strong positive correlation between the amount of time students spend studying for an exam and their final exam scores. This means that students who study for longer tend to get higher exam scores.\n",
    "\n",
    "It is important to note that the Pearson correlation coefficient only measures linear relationships between variables. It is possible for two variables to have a strong non-linear relationship, even if their Pearson correlation coefficient is zero."
   ]
  },
  {
   "cell_type": "markdown",
   "id": "0e7d29b6",
   "metadata": {},
   "source": [
    "### Q2. Spearman's rank correlation is a measure of the monotonic relationship between two variables. Suppose you have collected data on the amount of sleep individuals get each night and their overall job satisfaction level on a scale of 1 to 10. Calculate the Spearman's rank correlation between these two variables and interpret the result."
   ]
  },
  {
   "cell_type": "markdown",
   "id": "cf5e6735",
   "metadata": {},
   "source": [
    "Spearman's rank correlation is a measure of the monotonic relationship between two variables. It is calculated by taking the Pearson correlation coefficient between the ranks of the two variables and dividing it by the product of their standard deviations. The Spearman's rank correlation coefficient can range from -1 to 1. A value of -1 indicates a perfect negative correlation, a value of 0 indicates no correlation, and a value of 1 indicates a perfect positive correlation.\n",
    "\n",
    "The following code calculates the Spearman's rank correlation coefficient between the amount of sleep individuals get each night and their overall job satisfaction level on a scale of 1 to 10:"
   ]
  },
  {
   "cell_type": "code",
   "execution_count": 4,
   "id": "93ab0fa1",
   "metadata": {},
   "outputs": [
    {
     "name": "stdout",
     "output_type": "stream",
     "text": [
      "0.9999999999999999\n"
     ]
    }
   ],
   "source": [
    "import numpy as np\n",
    "import scipy.stats as stats\n",
    "\n",
    "# Create a dataset\n",
    "data = {\n",
    "    \"Sleep Hours\": [5, 6, 7, 8, 9],\n",
    "    \"Job Satisfaction\": [3, 7, 8, 9, 10]\n",
    "}\n",
    "\n",
    "# Calculate the Spearman's rank correlation coefficient\n",
    "correlation = stats.spearmanr(data[\"Sleep Hours\"], data[\"Job Satisfaction\"])[0]\n",
    "\n",
    "# Print the correlation coefficient\n",
    "print(correlation)"
   ]
  },
  {
   "cell_type": "markdown",
   "id": "7a261df2",
   "metadata": {},
   "source": [
    "The output of the code is 0.9, which indicates a strong positive correlation between the amount of sleep individuals get each night and their overall job satisfaction level. This means that individuals who get more sleep tend to be more satisfied with their jobs.\n",
    "\n",
    "It is important to note that Spearman's rank correlation only measures monotonic relationships between variables. A monotonic relationship is a relationship where the variables always tend to move in the same direction, even if they are not perfectly correlated. It is possible for two variables to have a strong non-monotonic relationship, even if their Spearman's rank correlation coefficient is zero."
   ]
  },
  {
   "cell_type": "markdown",
   "id": "c5f44f55",
   "metadata": {},
   "source": [
    "### Q3. Suppose you are conducting a study to examine the relationship between the number of hours of exercise per week and body mass index (BMI) in a sample of adults. You collected data on both variables for 50 participants. Calculate the Pearson correlation coefficient and the Spearman's rank correlation between these two variables and compare the results."
   ]
  },
  {
   "cell_type": "code",
   "execution_count": 8,
   "id": "4cf86c18",
   "metadata": {},
   "outputs": [
    {
     "name": "stdout",
     "output_type": "stream",
     "text": [
      "-0.9863939238321437\n",
      "-0.9999999999999999\n"
     ]
    }
   ],
   "source": [
    "import numpy as np\n",
    "import scipy.stats as stats\n",
    "\n",
    "# Create a dataset\n",
    "data = {\n",
    "    \"Hours Exercised\": [2, 3, 4, 5, 6],\n",
    "    \"BMI\": [25, 23, 22, 21, 20]\n",
    "}\n",
    "\n",
    "# Calculate the Pearson correlation coefficient\n",
    "correlation_pearson = np.corrcoef(data[\"Hours Exercised\"], data[\"BMI\"])[0, 1]\n",
    "\n",
    "# Calculate the Spearman's rank correlation coefficient\n",
    "correlation_spearman = stats.spearmanr(data[\"Hours Exercised\"], data[\"BMI\"])[0]\n",
    "\n",
    "# Print the correlation coefficients\n",
    "print(correlation_pearson)\n",
    "print(correlation_spearman)"
   ]
  },
  {
   "cell_type": "markdown",
   "id": "66b8bfd8",
   "metadata": {},
   "source": [
    "The Pearson correlation coefficient is -0.986, which indicates a very strong negative correlation between the number of hours of exercise per week and BMI. This means that there is a very strong tendency for people who exercise more to have lower BMIs. The Spearman's rank correlation coefficient is -0.999, which also indicates a very strong negative correlation between the two variables.\n",
    "\n",
    "The reason for the difference in the results is that the dataset contains an outlier. The participant who exercises for 6 hours per week and has a BMI of 20 is an outlier, as their BMI is much lower than the BMIs of the other participants. This outlier is pulling down the Pearson correlation coefficient, but it does not affect the Spearman's rank correlation coefficient.\n",
    "\n",
    "In this case, the Pearson correlation coefficient and the Spearman's rank correlation coefficient both indicate a very strong negative correlation between the number of hours of exercise per week and BMI. This means that there is a very strong tendency for people who exercise more to have lower BMIs. However, the outlier in the dataset makes it difficult to say for sure whether there is a causal relationship between the two variables.\n",
    "\n",
    "It is important to note that the Pearson correlation coefficient and the Spearman's rank correlation coefficient are both measures of linear correlation. This means that they only measure correlations that are linear in nature. The relationship between the number of hours of exercise per week and BMI is not perfectly linear, but it is close enough to be considered linear for the purposes of this analysis."
   ]
  },
  {
   "cell_type": "markdown",
   "id": "9359c687",
   "metadata": {},
   "source": [
    "### Q4. A researcher is interested in examining the relationship between the number of hours individuals spend watching television per day and their level of physical activity. The researcher collected data on both variables from a sample of 50 participants. Calculate the Pearson correlation coefficient between these two variables."
   ]
  },
  {
   "cell_type": "code",
   "execution_count": 13,
   "id": "4a5e5ef0",
   "metadata": {},
   "outputs": [
    {
     "name": "stdout",
     "output_type": "stream",
     "text": [
      "Pearson Correlation Coefficient: -0.9450080789997253\n"
     ]
    }
   ],
   "source": [
    "import numpy as np\n",
    "\n",
    "# Example data: Number of hours watching TV and level of physical activity\n",
    "hours_watching_tv = [3, 2, 4, 5, 1, 3, 2, 2, 4, 6, 5, 3, 1, 2, 3, 4, 5, 1, 2, 3,\n",
    "                     4, 5, 6, 1, 2, 3, 4, 5, 6, 1, 2, 3, 4, 5, 6, 1, 2, 3, 4, 5,\n",
    "                     6, 1, 2, 3, 4, 5, 6, 2, 3, 4, 5]\n",
    "\n",
    "physical_activity = [120, 135, 110, 90, 160, 120, 130, 140, 110, 85, 95, 115, 165,\n",
    "                     150, 125, 110, 90, 150, 140, 120, 105, 95, 85, 150, 140, 130,\n",
    "                     120, 110, 100, 150, 140, 130, 120, 110, 100, 150, 140, 130,\n",
    "                     120, 110, 100, 150, 140, 130, 120, 110, 100, 135, 125, 115, 105]\n",
    "\n",
    "# Calculate Pearson correlation coefficient\n",
    "pearson_corr = np.corrcoef(hours_watching_tv, physical_activity)[0, 1]\n",
    "\n",
    "# Print the Pearson correlation coefficient\n",
    "print(\"Pearson Correlation Coefficient:\", pearson_corr)"
   ]
  },
  {
   "cell_type": "markdown",
   "id": "1dad898c",
   "metadata": {},
   "source": [
    "The Pearson correlation coefficient of approximately -0.945 suggests a strong negative linear correlation between the number of hours individuals spend watching television per day and their level of physical activity. This indicates that as the number of hours spent watching TV increases, the level of physical activity tends to decrease. The negative sign of the correlation coefficient indicates that this relationship is inverse: when one variable goes up, the other tends to go down.\n",
    "\n",
    "In simpler terms, the more time individuals spend watching TV, the less physically active they tend to be. This result aligns with the expectation that sedentary behaviors, such as watching TV, can be associated with reduced physical activity levels. However, correlation does not imply causation, so further analysis would be needed to determine the underlying reasons for this relationship."
   ]
  },
  {
   "cell_type": "markdown",
   "id": "b0b281a7",
   "metadata": {},
   "source": [
    "### Q5. A survey was conducted to examine the relationship between age and preference for a particular brand of soft drink. The survey results are shown below:\n",
    "\n",
    "| Age (Years) | Drink |\n",
    "|---|---|\n",
    "| 25 | Coke |\n",
    "| 42 | Pepsi |\n",
    "| 37 | Mountain Dew |\n",
    "| 19 | Pepsi |\n",
    "| 31 | Coke |\n",
    "| 28 | Coke |"
   ]
  },
  {
   "cell_type": "markdown",
   "id": "e0508d9c",
   "metadata": {},
   "source": [
    "To analyze the relationship between age and preference for a particular brand of soft drink, we can calculate the Spearman rank correlation coefficient. This coefficient will help us assess the monotonic relationship between the two variables."
   ]
  },
  {
   "cell_type": "code",
   "execution_count": 14,
   "id": "f7343757",
   "metadata": {},
   "outputs": [
    {
     "name": "stdout",
     "output_type": "stream",
     "text": [
      "Spearman Rank Correlation Coefficient: 0.18516401995451032\n"
     ]
    }
   ],
   "source": [
    "import pandas as pd\n",
    "from scipy.stats import spearmanr\n",
    "\n",
    "# Create a DataFrame from the survey data\n",
    "data = {\n",
    "    \"Age\": [25, 42, 37, 19, 31, 28],\n",
    "    \"Drink\": [\"Coke\", \"Pepsi\", \"Mountain Dew\", \"Pepsi\", \"Coke\", \"Coke\"]\n",
    "}\n",
    "\n",
    "df = pd.DataFrame(data)\n",
    "\n",
    "# Encode the categorical variable \"Drink\" using label encoding\n",
    "df[\"Drink_Code\"] = df[\"Drink\"].astype(\"category\").cat.codes\n",
    "\n",
    "# Calculate the Spearman rank correlation coefficient\n",
    "spearman_corr, _ = spearmanr(df[\"Age\"], df[\"Drink_Code\"])\n",
    "\n",
    "# Print the Spearman rank correlation coefficient\n",
    "print(\"Spearman Rank Correlation Coefficient:\", spearman_corr)"
   ]
  },
  {
   "cell_type": "markdown",
   "id": "25b32bb0",
   "metadata": {},
   "source": [
    "The Spearman rank correlation coefficient of approximately 0.185 suggests a very weak positive monotonic relationship between age and preference for the particular brand of soft drink.\n",
    "\n",
    "This positive coefficient indicates that, on average, as age increases, there is a slight tendency for preference for the brand of soft drink to also increase. However, the magnitude of the coefficient (0.185) suggests that the relationship is very weak and not strongly pronounced.\n",
    "\n",
    "In practical terms, this means that there might be a subtle trend that older individuals, on average, may have a slightly higher preference for the brand of soft drink compared to younger individuals. However, the correlation is not strong enough to make a definitive statement about the relationship between age and drink preference.\n",
    "\n",
    "It's important to note that a coefficient of 0.185 indicates only a very small degree of association. Other factors beyond age may play a more significant role in determining drink preference."
   ]
  },
  {
   "cell_type": "markdown",
   "id": "903f6d22",
   "metadata": {},
   "source": [
    "### Q6. A company is interested in examining the relationship between the number of sales calls made per day and the number of sales made per week. The company collected data on both variables from a sample of 30 sales representatives. Calculate the Pearson correlation coefficient between these two variables."
   ]
  },
  {
   "cell_type": "code",
   "execution_count": 17,
   "id": "36aeaceb",
   "metadata": {},
   "outputs": [
    {
     "name": "stdout",
     "output_type": "stream",
     "text": [
      "Pearson Correlation Coefficient: 0.9851222346318333\n"
     ]
    }
   ],
   "source": [
    "import numpy as np\n",
    "\n",
    "# Example data: Number of sales calls per day and number of sales per week\n",
    "sales_calls_per_day = [20, 15, 25, 30, 18, 22, 24, 28, 15, 32, 19, 17, 23, 26, 21, 29, 31, 27, 14, 16,\n",
    "                       23, 28, 20, 17, 25, 22, 19, 30, 24, 21, 26]\n",
    "\n",
    "sales_per_week = [120, 100, 130, 150, 110, 125, 135, 140, 95, 155, 115, 105, 130, 140, 120, 145, 150,\n",
    "                  135, 90, 100, 130, 145, 120, 105, 135, 125, 115, 150, 130, 115, 140]\n",
    "\n",
    "# Calculate the Pearson correlation coefficient\n",
    "pearson_corr = np.corrcoef(sales_calls_per_day, sales_per_week)[0, 1]\n",
    "\n",
    "# Print the Pearson correlation coefficient\n",
    "print(\"Pearson Correlation Coefficient:\", pearson_corr)\n"
   ]
  },
  {
   "cell_type": "markdown",
   "id": "aad91256",
   "metadata": {},
   "source": [
    "The Pearson correlation coefficient of approximately 0.985 suggests a very strong positive linear correlation between the number of sales calls made per day and the number of sales made per week for the sales representatives.\n",
    "\n",
    "This high positive correlation coefficient indicates that there is a strong tendency for the number of sales calls made per day to increase in conjunction with the number of sales made per week. In other words, as the sales representatives make more sales calls on a daily basis, they tend to achieve a higher number of sales over the course of a week.\n",
    "\n",
    "The close-to-1 value of the Pearson correlation coefficient implies a nearly perfect positive linear relationship. This could suggest that the sales representatives who make more sales calls are generally more successful in achieving higher weekly sales numbers.\n",
    "\n",
    "It's important to note that correlation does not imply causation, so while a strong correlation exists, other factors may also contribute to the relationship between the two variables. Further analysis would be needed to determine the underlying reasons for this strong correlation."
   ]
  }
 ],
 "metadata": {
  "kernelspec": {
   "display_name": "Python 3 (ipykernel)",
   "language": "python",
   "name": "python3"
  },
  "language_info": {
   "codemirror_mode": {
    "name": "ipython",
    "version": 3
   },
   "file_extension": ".py",
   "mimetype": "text/x-python",
   "name": "python",
   "nbconvert_exporter": "python",
   "pygments_lexer": "ipython3",
   "version": "3.11.4"
  }
 },
 "nbformat": 4,
 "nbformat_minor": 5
}

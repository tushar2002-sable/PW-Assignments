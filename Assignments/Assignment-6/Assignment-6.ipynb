{
 "cells": [
  {
   "cell_type": "markdown",
   "id": "2d71063b-c079-4572-9c82-e5e95037f8bf",
   "metadata": {},
   "source": [
    "Q1. Explain Class and Object with respect to Object-Oriented Programming. Give a suitable example."
   ]
  },
  {
   "cell_type": "markdown",
   "id": "1ddbf454-f2f6-40df-b1a3-8215fa1ebd8e",
   "metadata": {},
   "source": [
    "In OOP, a class is a blueprint or template that defines the structure and behavior of objects. While individual instances of class are referred to as objects. "
   ]
  },
  {
   "cell_type": "code",
   "execution_count": 2,
   "id": "1ca4f736-1653-4f54-b59e-a541dc46652f",
   "metadata": {},
   "outputs": [
    {
     "name": "stdout",
     "output_type": "stream",
     "text": [
      "Engine started!\n"
     ]
    },
    {
     "data": {
      "text/plain": [
       "'Honda'"
      ]
     },
     "execution_count": 2,
     "metadata": {},
     "output_type": "execute_result"
    }
   ],
   "source": [
    "class Car:   # Class Name\n",
    "    def __init__(self, color, brand, model, year):\n",
    "        self.color = color\n",
    "        self.brand = brand\n",
    "        self.model = model\n",
    "        self.year = year\n",
    "\n",
    "    def start_engine(self):\n",
    "        print(\"Engine started!\")\n",
    "    \n",
    "car1 = Car(\"Green\", \"Honda\", \"Prius\", \"2023\")  # Object - > Instance of the Class\n",
    "car1.start_engine()\n",
    "car1.brand"
   ]
  },
  {
   "cell_type": "markdown",
   "id": "2dadb0a3-bee7-48b0-a100-1e02806376ee",
   "metadata": {},
   "source": [
    "Q2. Name the four pillars of OOPs."
   ]
  },
  {
   "cell_type": "markdown",
   "id": "b932bcf6-fd2a-4842-8951-b8e53a8ce3d1",
   "metadata": {},
   "source": [
    "1)   Abstraction      2)    Encapsulation     3)    Inheritance     4)    Polymorphism"
   ]
  },
  {
   "cell_type": "markdown",
   "id": "66cfa429-60b7-43ea-8985-b903ec934f47",
   "metadata": {},
   "source": [
    "Q3. Explain why the __init__() function is used. Give a suitable example."
   ]
  },
  {
   "cell_type": "markdown",
   "id": "663f709f-53f1-4186-aabc-59b4fcc2fa1d",
   "metadata": {},
   "source": [
    "The __init__() function in Python is used as a constructor. The primary purpose of the __init__() method is to initialize the attributes of an object with specific values."
   ]
  },
  {
   "cell_type": "code",
   "execution_count": 4,
   "id": "b087cacc-d11c-4835-bd1e-9c216d54b300",
   "metadata": {},
   "outputs": [
    {
     "name": "stdout",
     "output_type": "stream",
     "text": [
      "Deosai located at Skardu\n",
      "Sharan Forest located at Kaghan Valley\n"
     ]
    }
   ],
   "source": [
    "class Valleys:\n",
    "    def __init__(self, place, area):\n",
    "        self.place = place \n",
    "        self.area = area\n",
    "\n",
    "    def introduce(self):\n",
    "        print(f\"{self.place} located at {self.area}\")\n",
    "\n",
    "location1 = Valleys(\"Deosai\", \"Skardu\")\n",
    "location2 = Valleys(\"Sharan Forest\", \"Kaghan Valley\")\n",
    "\n",
    "location1.introduce()\n",
    "location2.introduce()"
   ]
  },
  {
   "cell_type": "markdown",
   "id": "2b8fba1d-bef8-4b68-baff-b3fed3995f5e",
   "metadata": {},
   "source": [
    "Q4. Why self is used in OOPs?"
   ]
  },
  {
   "cell_type": "markdown",
   "id": "93658944-63f1-4d6c-9970-15d22d91cdd3",
   "metadata": {},
   "source": [
    "The self is used to represent the instance of the class. It binds the attributes with the given arguments. The reason why we use self is that Python does not use the ‘@’ syntax to refer to instance attributes."
   ]
  },
  {
   "cell_type": "markdown",
   "id": "1398b7b2-a645-4cf9-9069-2e08b6e64293",
   "metadata": {},
   "source": [
    "Q5. What is inheritance? Give an example for each type of inheritance."
   ]
  },
  {
   "cell_type": "markdown",
   "id": "d5957015-1dd8-4a18-991c-f827a9a4938b",
   "metadata": {},
   "source": [
    "Inheritance is a fundamental concept in OOP that allows classes to inherit attributes and methods from other classes. It enables code reuseability and promotes the creation of a hierarchical structure among classes.\n",
    "\n",
    "There are several types of inheritance, including:\n",
    "\n",
    "Single Inheritance, Multiple Inheritance, Multilevel Inheritance, Hierarchical Inheritance"
   ]
  },
  {
   "cell_type": "markdown",
   "id": "ddd79272-bf81-48de-acb5-d788aae9c876",
   "metadata": {},
   "source": [
    "<b>Single inheritance</b> involves a class inheriting from a single base class.Here's an example:"
   ]
  },
  {
   "cell_type": "code",
   "execution_count": 6,
   "id": "54507092-1362-4bd6-af79-3f82d2304438",
   "metadata": {},
   "outputs": [
    {
     "name": "stdout",
     "output_type": "stream",
     "text": [
      "Eating...\n",
      "Barking...\n"
     ]
    }
   ],
   "source": [
    "class Animal:\n",
    "    def eat(self):\n",
    "        print(\"Eating...\")\n",
    "\n",
    "class Dog(Animal):\n",
    "    def bark(self):\n",
    "        print(\"Barking...\")\n",
    "\n",
    "dog = Dog()\n",
    "dog.eat() \n",
    "dog.bark()"
   ]
  },
  {
   "cell_type": "markdown",
   "id": "5e45e5b8-ea02-414b-b9c2-6f04a3ee4e00",
   "metadata": {},
   "source": [
    "<b>Multiple inheritance</b> allows a class to inherit from multiple base classes. The derived class inherits attributes and methods from all the base classes. Here's an example:"
   ]
  },
  {
   "cell_type": "code",
   "execution_count": 7,
   "id": "ff74d21f-7bf3-471c-b841-92de392e287e",
   "metadata": {},
   "outputs": [
    {
     "name": "stdout",
     "output_type": "stream",
     "text": [
      "Giving birth...\n",
      "Hunting...\n",
      "Roaring...\n"
     ]
    }
   ],
   "source": [
    "class Mammal:\n",
    "    def give_birth(self):\n",
    "        print(\"Giving birth...\")\n",
    "\n",
    "class Carnivore:\n",
    "    def hunt(self):\n",
    "        print(\"Hunting...\")\n",
    "\n",
    "class Lion(Mammal, Carnivore):\n",
    "    def roar(self):\n",
    "        print(\"Roaring...\")\n",
    "\n",
    "lion = Lion()\n",
    "lion.give_birth()\n",
    "lion.hunt()      \n",
    "lion.roar()      "
   ]
  },
  {
   "cell_type": "markdown",
   "id": "d8b56895-2cdb-45c7-a803-a27e43c9f5d9",
   "metadata": {},
   "source": [
    "<b>Multilevel inheritance</b> involves deriving a class from a derived class, forming a hierarchy of classes. Each derived class inherits attributes and methods from its immediate base class. Here's an example:"
   ]
  },
  {
   "cell_type": "code",
   "execution_count": 8,
   "id": "fad9b3a4-1778-4ef7-874f-1c98cdfec125",
   "metadata": {},
   "outputs": [
    {
     "name": "stdout",
     "output_type": "stream",
     "text": [
      "Moving...\n",
      "Engine started...\n",
      "Trunk opened...\n"
     ]
    }
   ],
   "source": [
    "class Vehicle:\n",
    "    def move(self):\n",
    "        print(\"Moving...\")\n",
    "\n",
    "class Car(Vehicle):\n",
    "    def start_engine(self):\n",
    "        print(\"Engine started...\")\n",
    "\n",
    "class Sedan(Car):\n",
    "    def open_trunk(self):\n",
    "        print(\"Trunk opened...\")\n",
    "\n",
    "sedan = Sedan()\n",
    "sedan.move()        \n",
    "sedan.start_engine()\n",
    "sedan.open_trunk() "
   ]
  },
  {
   "cell_type": "markdown",
   "id": "7cd565ce-1fa1-43d6-b46f-3311fcf01f5e",
   "metadata": {},
   "source": [
    "<b>Hierarchical inheritance</b> involves multiple derived classes inheriting from a single base class. Each derived class inherits attributes and methods from the base class. Here's an example:"
   ]
  },
  {
   "cell_type": "code",
   "execution_count": 9,
   "id": "486bc1fe-0b62-4714-a406-21268255c444",
   "metadata": {},
   "outputs": [
    {
     "name": "stdout",
     "output_type": "stream",
     "text": [
      "Drawing shape...\n",
      "Calculating area of circle...\n",
      "Drawing shape...\n"
     ]
    }
   ],
   "source": [
    "class Shape:\n",
    "    def draw(self):\n",
    "        print(\"Drawing shape...\")\n",
    "\n",
    "class Circle(Shape):\n",
    "    def calculate_area(self):\n",
    "        print(\"Calculating area of circle...\")\n",
    "\n",
    "class Square(Shape):\n",
    "    def calculate_area(self):\n",
    "        print(\"Calculating area of square...\")\n",
    "\n",
    "circle = Circle()\n",
    "square = Square()\n",
    "\n",
    "circle.draw()          \n",
    "circle.calculate_area()\n",
    "square.draw()      "
   ]
  }
 ],
 "metadata": {
  "kernelspec": {
   "display_name": "Python 3 (ipykernel)",
   "language": "python",
   "name": "python3"
  },
  "language_info": {
   "codemirror_mode": {
    "name": "ipython",
    "version": 3
   },
   "file_extension": ".py",
   "mimetype": "text/x-python",
   "name": "python",
   "nbconvert_exporter": "python",
   "pygments_lexer": "ipython3",
   "version": "3.10.8"
  }
 },
 "nbformat": 4,
 "nbformat_minor": 5
}

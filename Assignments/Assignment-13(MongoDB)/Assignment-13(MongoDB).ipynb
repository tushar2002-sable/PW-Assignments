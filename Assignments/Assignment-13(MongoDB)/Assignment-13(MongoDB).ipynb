{
 "cells": [
  {
   "cell_type": "markdown",
   "id": "40c8ed8a-ce58-476e-af66-0abb2fc7b01a",
   "metadata": {},
   "source": [
    "`Q1. What is MongoDB? Explain non-relational databases in short. In which scenarios it is preferred to use\n",
    "MongoDB over SQL databases?`"
   ]
  },
  {
   "cell_type": "markdown",
   "id": "1df23e44-f46a-4cd9-a391-a2ee8d81802d",
   "metadata": {},
   "source": [
    "Q1. What is MongoDB?\n",
    "\n",
    "MongoDB is a popular open-source NoSQL document database that provides high scalability, flexibility, and performance for managing and storing large volumes of unstructured or semi-structured data. It belongs to the family of non-relational databases, also known as NoSQL databases.\n",
    "\n",
    "Explanation of Non-Relational Databases:\n",
    "\n",
    "Non-relational databases, or NoSQL databases, are databases that differ from traditional SQL databases in their data model and storage mechanisms. They are designed to handle large amounts of unstructured or semi-structured data, providing flexibility and scalability.\n",
    "\n",
    "MongoDB is often preferred over SQL databases in the following scenarios:\n",
    "\n",
    "1. Flexible Data Model: When dealing with dynamic or evolving data structures where the schema may change frequently, MongoDB's flexible schema allows for easier data modeling and schema modifications without the need for expensive database migrations.\n",
    "\n",
    "2. Scalability and High Volume Data: MongoDB excels in handling large-scale applications and high-volume data scenarios.\n",
    "\n",
    "3. Unstructured or Semi-Structured Data: If our data is unstructured or semi-structured, such as JSON documents, MongoDB's document-based model provides a natural fit. It allows us to store and query complex, nested data structures without sacrificing performance.\n",
    "\n",
    "4. Rapid Development: MongoDB's flexible schema and document-oriented nature make it well-suited for agile development and rapid iterations.\n",
    "\n",
    "5. Real-Time Analytics and Personalization: MongoDB's rich query capabilities, indexing options, and support for aggregations make it suitable for real-time analytics and personalized experiences, where fast data retrieval and complex querying are crucial."
   ]
  },
  {
   "cell_type": "markdown",
   "id": "10b290fc-fd33-4dc8-b7f6-63dcab8e87e3",
   "metadata": {},
   "source": [
    "`Q2. State and Explain the features of MongoDB.`"
   ]
  },
  {
   "cell_type": "markdown",
   "id": "baed1125-b1f0-4f02-a8a1-aaae3af10494",
   "metadata": {},
   "source": [
    "MongoDB offers several key features that contribute to its popularity as a NoSQL document database. Here are the important features of MongoDB:\n",
    "\n",
    "1. Document-Oriented:\n",
    "MongoDB is a document-oriented database, meaning it stores data in flexible, semi-structured documents in BSON (Binary JSON) format. Documents are schema-less and can have varying structures, allowing easy storage and retrieval of complex and nested data.\n",
    "\n",
    "2. High Scalability and Performance:\n",
    "MongoDB is designed for scalability, both vertically and horizontally. It supports sharding, which allows distributing data across multiple servers or clusters for horizontal scaling. It also provides automatic load balancing and transparent data partitioning to handle high traffic and large datasets.\n",
    "\n",
    "3. Flexible Data Model:\n",
    "MongoDB's flexible data model allows for dynamic and evolving schemas. There is no need to predefine the structure of documents or enforce rigid schemas. This flexibility makes it easier to handle evolving data requirements and allows for easy data modeling and schema modifications.\n",
    "\n",
    "4. Rich Query Language:\n",
    "MongoDB provides a powerful query language with support for a wide range of operations, including CRUD operations (Create, Read, Update, Delete), aggregations, sorting, filtering, and geospatial queries.\n",
    "5. Secondary Indexes:\n",
    "MongoDB supports the creation of secondary indexes on fields within documents, improving query performance by allowing efficient access to data based on specific fields.\n",
    "\n",
    "6. Replication and High Availability:\n",
    "MongoDB offers built-in replication features that provide high availability and data redundancy. It supports automatic failover and data synchronization across replica sets, ensuring data durability and minimizing downtime.\n",
    "\n",
    "7. Flexibility in Data Modeling:\n",
    "MongoDB's flexible data model allows for denormalization and embedding related data within documents. This eliminates the need for complex joins and enables faster data retrieval.\n",
    "\n",
    "9. Integration with Programming Languages:\n",
    "MongoDB provides official drivers for various programming languages, making it easy to integrate and interact with MongoDB in different application environments. These drivers offer native language support and idiomatic interfaces for working with MongoDB.\n",
    "\n",
    "10. Community and Ecosystem:\n",
    "MongoDB has a vibrant and active community, with extensive documentation, online resources, and community support. It also has a rich ecosystem with a wide range of tools, frameworks, and libraries that enhance the development, management, and analysis of MongoDB databases."
   ]
  },
  {
   "cell_type": "markdown",
   "id": "68452265-af43-41bf-b662-2383375e346c",
   "metadata": {},
   "source": [
    "`Q3. Write a code to connect MongoDB to Python. Also, create a database and a collection in MongoDB.`"
   ]
  },
  {
   "cell_type": "markdown",
   "id": "7bc6a832-dc0d-4d82-9074-517310b6ecbd",
   "metadata": {},
   "source": [
    "```python\n",
    "import pymongo\n",
    "\n",
    "# Connect to MongoDB\n",
    "client = pymongo.MongoClient('mongodb+srv://basit:<password>@cluster0.o82x1vz.mongodb.net/') \n",
    "\n",
    "# Create or access a database\n",
    "db = client['mydatabase']\n",
    "\n",
    "# Create or access a collection\n",
    "collection = db['mycollection']\n",
    "\n",
    "# Test data\n",
    "data = {\n",
    "    'name': 'Abdul Basit',\n",
    "    'age': 32,\n",
    "    'city': 'Pakistan'\n",
    "}\n",
    "\n",
    "# Insert the data into the collection\n",
    "collection.insert_one(data)\n",
    "\n",
    "# Close the MongoDB connection\n",
    "client.close()\n",
    "```"
   ]
  },
  {
   "cell_type": "markdown",
   "id": "fe8ec580-d2f9-4b89-aafd-86b7857ad2d1",
   "metadata": {},
   "source": [
    "`Q4. Using the database and the collection created in question number 3, write a code to insert one record,\n",
    "and insert many records. Use the find() and find_one() methods to print the inserted record.`"
   ]
  },
  {
   "cell_type": "markdown",
   "id": "d3d613c3-a8f6-4df9-b2c3-b5ca11c1da72",
   "metadata": {},
   "source": [
    "```python\n",
    "# Connect to MongoDB\n",
    "client = pymongo.MongoClient('mongodb+srv://basit:<password>@cluster0.o82x1vz.mongodb.net/') \n",
    "db = client['mydatabase']\n",
    "collection = db['mycollection']\n",
    "\n",
    "# Insert one record\n",
    "data_one = {\n",
    "    'name': 'Abdul Basit',\n",
    "    'age': 32,\n",
    "    'city': 'Pakistan'\n",
    "}\n",
    "\n",
    "one_result = collection.insert_one(data_one)\n",
    "\n",
    "# Insert many records\n",
    "data_many = [\n",
    "    {'name': 'Bob', 'age': 30, 'city': 'Paris'},\n",
    "    {'name': 'Charlie', 'age': 35, 'city': 'Berlin'},\n",
    "    {'name': 'David', 'age': 40, 'city': 'Madrid'}\n",
    "]\n",
    "\n",
    "many_result = collection.insert_many(data_many)\n",
    "\n",
    "# Find and print the inserted record (one)\n",
    "found_one = collection.find_one({'name': 'Alice'})\n",
    "print(\"Inserted record (one):\")\n",
    "print(found_one)\n",
    "\n",
    "# Find and print the inserted records (many)\n",
    "found_many = collection.find({'age': {'$gt': 30}})\n",
    "print(\"Inserted records (many):\")\n",
    "for i in found_many:\n",
    "    print(i)\n",
    "\n",
    "# Close the MongoDB connection\n",
    "client.close()\n",
    "```"
   ]
  },
  {
   "cell_type": "markdown",
   "id": "820aedcd-3c13-40b4-a20d-0ef13e288d66",
   "metadata": {},
   "source": [
    "`Q5. Explain how you can use the find() method to query the MongoDB database. Write a simple code to\n",
    "demonstrate this.`"
   ]
  },
  {
   "cell_type": "markdown",
   "id": "6d5bffeb-552b-4020-9c8a-c98a31a07cef",
   "metadata": {},
   "source": [
    "To query data from a MongoDB database using the `find()` method, we can provide a query document as a parameter to specify the criteria for matching documents. The `find()` method returns a cursor object that allows us to iterate over the matched documents.\n",
    "\n",
    "Here's an example code snippet that demonstrates how to use the `find()` method to query a MongoDB database:\n",
    "\n",
    "```python\n",
    "from pymongo import MongoClient\n",
    "\n",
    "# Connect to MongoDB\n",
    "client = MongoClient('mongodb+srv://basit:<password>@cluster0.o82x1vz.mongodb.net/')\n",
    "\n",
    "# Access the database and collection\n",
    "db = client['mydatabase']\n",
    "collection = db['mycollection']\n",
    "\n",
    "# Query the database using the find() method\n",
    "query = {'city': 'Islamabad'}  \n",
    "cursor = collection.find(query)\n",
    "\n",
    "# Iterate over the matched documents\n",
    "print(\"Matched documents:\")\n",
    "for j in cursor:\n",
    "    print(j)\n",
    "\n",
    "# Close the MongoDB connection\n",
    "client.close()\n",
    "```"
   ]
  },
  {
   "cell_type": "markdown",
   "id": "c119d307-bbaf-4493-a27c-9a290bc66061",
   "metadata": {},
   "source": [
    "`Q6. Explain the sort() method. Give an example to demonstrate sorting in MongoDB.`"
   ]
  },
  {
   "cell_type": "markdown",
   "id": "e22ed62a-3978-44fc-95e4-b2be27eabd65",
   "metadata": {},
   "source": [
    "The `sort()` method in MongoDB is used to sort the result of a query based on one or more fields in ascending or descending order. The sort order is represented by the values 1 (ascending) and -1 (descending). By default, if no sort order is specified, the `sort()` method will sort the documents in ascending order.\n",
    "\n",
    "Here's an example that demonstrates how to use the `sort()` method to perform sorting in MongoDB:\n",
    "\n",
    "```python\n",
    "from pymongo import MongoClient\n",
    "\n",
    "# Connect to MongoDB\n",
    "client = MongoClient('mongodb+srv://basit:<password>@cluster0.o82x1vz.mongodb.net/')\n",
    "\n",
    "# Access the database and collection\n",
    "db = client['mydatabase']\n",
    "collection = db['mycollection']\n",
    "\n",
    "# Query and sort the database using the sort() method\n",
    "query = {'city': 'Islamabad'}\n",
    "sort_field = 'age'  # Sort based on the 'age' field\n",
    "sort_order = 1  # 1 for ascending order, -1 for descending order\n",
    "\n",
    "cursor = collection.find(query).sort(sort_field, sort_order)\n",
    "\n",
    "# Iterate over the sorted documents\n",
    "print(\"Sorted documents:\")\n",
    "for s in cursor:\n",
    "    print(s)\n",
    "\n",
    "# Close the MongoDB connection\n",
    "client.close()\n",
    "```"
   ]
  },
  {
   "cell_type": "markdown",
   "id": "057bf876-8041-485e-b1a0-3d45249874fc",
   "metadata": {},
   "source": [
    "`Q7. Explain why delete_one(), delete_many(), and drop() is used.`"
   ]
  },
  {
   "cell_type": "markdown",
   "id": "489891e3-2282-4182-a64c-657b9b1e0de8",
   "metadata": {},
   "source": [
    "In MongoDB, the `delete_one()`, `delete_many()`, and `drop()` methods are used to remove documents or collections from a MongoDB database. Each method serves a different purpose:\n",
    "\n",
    "1. `delete_one()` method:\n",
    "   - The `delete_one()` method is used to delete a single document that matches a specified filter. It removes the first document that matches the filter criteria and then stops.\n",
    "\n",
    "2. `delete_many()` method:\n",
    "   - The `delete_many()` method is used to delete multiple documents that match a specified filter. It removes all documents that match the filter criteria.\n",
    "\n",
    "3. `drop()` method:\n",
    "   - The `drop()` method is used to delete an entire collection from a database. It completely removes the collection and all its associated documents."
   ]
  }
 ],
 "metadata": {
  "kernelspec": {
   "display_name": "Python 3 (ipykernel)",
   "language": "python",
   "name": "python3"
  },
  "language_info": {
   "codemirror_mode": {
    "name": "ipython",
    "version": 3
   },
   "file_extension": ".py",
   "mimetype": "text/x-python",
   "name": "python",
   "nbconvert_exporter": "python",
   "pygments_lexer": "ipython3",
   "version": "3.10.8"
  }
 },
 "nbformat": 4,
 "nbformat_minor": 5
}

{
 "cells": [
  {
   "cell_type": "markdown",
   "id": "178979e2-3fa6-40e0-a3de-e5fdbfbe6a78",
   "metadata": {},
   "source": [
    "`Q1. What is Abstraction in OOps? Explain with an example.`"
   ]
  },
  {
   "cell_type": "markdown",
   "id": "b7a59856-98ad-46d8-89b2-b2545e7eb655",
   "metadata": {},
   "source": [
    "Abstraction in OOP is a concept that focuses on representing the essential characteristics and behaviors of an object while hiding unnecessary details. It allows us to create models or representations of real-world entities in a simplified and generalized manner. Abstraction is achieved through the use of abstract classes and interfaces. Abstract methods are declared without an implementation and must be overridden by the derived classes."
   ]
  },
  {
   "cell_type": "code",
   "execution_count": 5,
   "id": "29b09763-5958-4828-a49f-acf728caff80",
   "metadata": {},
   "outputs": [
    {
     "name": "stdout",
     "output_type": "stream",
     "text": [
      "Bark\n",
      "Eating bones\n",
      "Meow\n",
      "Eating fish\n"
     ]
    }
   ],
   "source": [
    "import abc\n",
    "\n",
    "# Abstract class\n",
    "class Animal():\n",
    "    @abstractmethod\n",
    "    def sound(self):\n",
    "        pass\n",
    "\n",
    "    @abstractmethod\n",
    "    def eat(self):\n",
    "        pass\n",
    "\n",
    "class Dog(Animal):\n",
    "    def sound(self):\n",
    "        print(\"Bark\")\n",
    "\n",
    "    def eat(self):\n",
    "        print(\"Eating bones\")\n",
    "\n",
    "class Cat(Animal):\n",
    "    def sound(self):\n",
    "        print(\"Meow\")\n",
    "\n",
    "    def eat(self):\n",
    "        print(\"Eating fish\")\n",
    "\n",
    "# Creating objects of the derived classes\n",
    "dog = Dog()\n",
    "cat = Cat()\n",
    "\n",
    "dog.sound() \n",
    "dog.eat()   \n",
    "\n",
    "cat.sound() \n",
    "cat.eat()   "
   ]
  },
  {
   "cell_type": "markdown",
   "id": "d57e383a-0c93-4f3b-a5fc-fde01ea762b4",
   "metadata": {},
   "source": [
    "`Q2. Differentiate between Abstraction and Encapsulation. Explain with an example.`"
   ]
  },
  {
   "cell_type": "markdown",
   "id": "c1c5ceb6-a42f-48d5-981f-44987b2b3275",
   "metadata": {},
   "source": [
    "Abstraction focuses on providing a simplified and generalized view of objects, while encapsulation focuses on bundling data and methods together and controlling access to the internal state of an object. Both concepts contribute to creating well-organized, maintainable, and secure code in object-oriented programming."
   ]
  },
  {
   "cell_type": "code",
   "execution_count": 7,
   "id": "3b81cddf-b559-43fb-bfd5-46d0baf74f0b",
   "metadata": {},
   "outputs": [
    {
     "name": "stdout",
     "output_type": "stream",
     "text": [
      "1300\n"
     ]
    }
   ],
   "source": [
    "class BankAccount:\n",
    "    def __init__(self, account_number, balance):\n",
    "        self.account_number = account_number\n",
    "        self.balance = balance\n",
    "\n",
    "    def deposit(self, amount):\n",
    "        self.balance += amount\n",
    "\n",
    "    def withdraw(self, amount):\n",
    "        if self.balance >= amount:\n",
    "            self.balance -= amount\n",
    "        else:\n",
    "            print(\"Insufficient balance.\")\n",
    "\n",
    "    def get_balance(self):\n",
    "        return self.balance\n",
    "\n",
    "account = BankAccount(\"123456789\", 1000)\n",
    "\n",
    "# Using encapsulation to access and modify the account balance\n",
    "account.deposit(500)\n",
    "account.withdraw(200)\n",
    "balance = account.get_balance()\n",
    "print(balance)"
   ]
  },
  {
   "cell_type": "markdown",
   "id": "0613dc94-7842-4ede-9a56-a1fc823beb4d",
   "metadata": {},
   "source": [
    "`Q3. What is abc module in python? Why is it used?`"
   ]
  },
  {
   "cell_type": "markdown",
   "id": "91ccbf92-d5dc-4907-8854-99cee4c615ab",
   "metadata": {},
   "source": [
    "In Python, the `abc` module stands for \"Abstract Base Classes.\" It provides infrastructure for creating abstract base classes, which are classes that cannot be instantiated themselves but serve as a blueprint for derived classes. The `abc` module provides the `ABC` class and the `abstractmethod` decorator, which are used to define and enforce abstract methods.\n",
    "\n",
    "The `abc` module is used for the following reasons:\n",
    "\n",
    "1. Creating Abstract Base Classes:\n",
    "   The `abc` module provides the `ABC` class, which can be subclassed to create abstract base classes. By inheriting from `ABC`, a class can be defined as abstract, meaning it cannot be instantiated directly.\n",
    "\n",
    "2. Defining Abstract Methods:\n",
    "   The `abstractmethod` decorator provided by the `abc` module is used to mark methods as abstract.\n",
    "\n",
    "3. Enforcing Method Implementation"
   ]
  },
  {
   "cell_type": "markdown",
   "id": "3673ed45-8331-471d-989d-48f5254fbe79",
   "metadata": {},
   "source": [
    "`Q4. How can we achieve data abstraction?`"
   ]
  },
  {
   "cell_type": "markdown",
   "id": "f418ce80-879e-4de7-aa2a-9395ccbd3d6a",
   "metadata": {},
   "source": [
    "Data abstraction in Python can be achieved through the use of classes and objects. Here are the steps to achieve data abstraction:\n",
    "\n",
    "1. Define a Class:\n",
    "   Create a class that represents the abstract concept or entity you want to model.\n",
    "\n",
    "2. Hide Implementation Details:\n",
    "   Encapsulate the data attributes by making them private or protected. In Python, this is conventionally done by prefixing the attribute name with an underscore (_) or double underscores.\n",
    "\n",
    "3. Provide Accessors and Mutators:\n",
    "   Define public methods, known as accessors and mutators (or getters and setters), to provide controlled access to the private or protected attributes. Accessor methods allow you to retrieve the values of the attributes, while mutator methods allow you to modify the attribute values in a controlled manner."
   ]
  },
  {
   "cell_type": "markdown",
   "id": "09e34564-77b9-4a21-86e3-3568e1520ccc",
   "metadata": {},
   "source": [
    "`Q5. Can we create an instance of an abstract class? Explain your answer.`"
   ]
  },
  {
   "cell_type": "markdown",
   "id": "52e8b32e-f108-4c7f-9dc4-4b89c7ea3238",
   "metadata": {},
   "source": [
    "No, we cannot create an instance of an abstract class in Python. Abstract classes are designed to serve as blueprints or templates for other classes to inherit from. They are meant to be subclassed, and their primary purpose is to define a common interface or behavior that derived classes should adhere to.\n",
    "\n",
    "Abstract classes in Python are created using the abc module's ABC class as the base class, and they often include one or more abstract methods declared using the abstractmethod decorator."
   ]
  }
 ],
 "metadata": {
  "kernelspec": {
   "display_name": "Python 3 (ipykernel)",
   "language": "python",
   "name": "python3"
  },
  "language_info": {
   "codemirror_mode": {
    "name": "ipython",
    "version": 3
   },
   "file_extension": ".py",
   "mimetype": "text/x-python",
   "name": "python",
   "nbconvert_exporter": "python",
   "pygments_lexer": "ipython3",
   "version": "3.10.8"
  }
 },
 "nbformat": 4,
 "nbformat_minor": 5
}

{
 "cells": [
  {
   "cell_type": "markdown",
   "id": "a0215f4b-afea-4f44-b7ae-89375dbd2575",
   "metadata": {},
   "source": [
    "`Q1. What is an Exception in python? Write the difference between Exceptions and Syntax errors`"
   ]
  },
  {
   "cell_type": "markdown",
   "id": "358a6803-fdce-479c-9186-e384d50bd584",
   "metadata": {},
   "source": [
    "Exception is an event that occurs during the execution of a program, which disrupts the normal flow of the program. When an exceptional situation arises, such as an error or an unexpected condition, Python raises an exception to signal that something went wrong.\n",
    "\n",
    "Syntax errors occur when there is a mistake in the syntax or structure of the code, making it invalid. These errors are identified by the Python interpreter during the parsing phase before the program execution begins. Exceptions, on the other hand, occur during the execution of a program when an exceptional situation arises."
   ]
  },
  {
   "cell_type": "markdown",
   "id": "df401392-67d1-4e1c-8c20-354a175a7110",
   "metadata": {},
   "source": [
    "`Q2. What happens when an exception is not handled? Explain with an example.`"
   ]
  },
  {
   "cell_type": "markdown",
   "id": "dd61c294-3abb-4e54-9f29-57bbf5c6d2a6",
   "metadata": {},
   "source": [
    "When an exception is not handled in Python, it leads to an abnormal termination of the program. The Python interpreter prints an error message called a traceback, which provides information about the exception type, the line where the exception occurred, After printing the traceback, the program execution is halted."
   ]
  },
  {
   "cell_type": "code",
   "execution_count": 1,
   "id": "5cd1b64a-c19f-454c-ac5c-4ecee9e612f8",
   "metadata": {},
   "outputs": [
    {
     "ename": "ZeroDivisionError",
     "evalue": "division by zero",
     "output_type": "error",
     "traceback": [
      "\u001b[0;31m---------------------------------------------------------------------------\u001b[0m",
      "\u001b[0;31mZeroDivisionError\u001b[0m                         Traceback (most recent call last)",
      "Cell \u001b[0;32mIn[1], line 10\u001b[0m\n\u001b[1;32m      7\u001b[0m     result \u001b[38;5;241m=\u001b[39m a \u001b[38;5;241m/\u001b[39m b\n\u001b[1;32m      8\u001b[0m     \u001b[38;5;28;01mreturn\u001b[39;00m result\n\u001b[0;32m---> 10\u001b[0m result \u001b[38;5;241m=\u001b[39m \u001b[43mdivide_numbers\u001b[49m\u001b[43m(\u001b[49m\u001b[38;5;241;43m10\u001b[39;49m\u001b[43m,\u001b[49m\u001b[43m \u001b[49m\u001b[38;5;241;43m0\u001b[39;49m\u001b[43m)\u001b[49m\n\u001b[1;32m     12\u001b[0m logging\u001b[38;5;241m.\u001b[39minfo(\u001b[38;5;124m\"\u001b[39m\u001b[38;5;124mProgram continues executing\u001b[39m\u001b[38;5;124m\"\u001b[39m)\n\u001b[1;32m     14\u001b[0m \u001b[38;5;124;03m'''\u001b[39;00m\n\u001b[1;32m     15\u001b[0m \u001b[38;5;124;03mIn the above example, we have a function divide_numbers() that divides two numbers. In this case, we are attempting to divide 10 by 0,\u001b[39;00m\n\u001b[1;32m     16\u001b[0m \u001b[38;5;124;03mwhich triggers a ZeroDivisionError exception.\u001b[39;00m\n\u001b[1;32m     17\u001b[0m \u001b[38;5;124;03mSince there is no exception handling code present, the exception is not caught and the program execution is halted.\u001b[39;00m\n\u001b[1;32m     18\u001b[0m \u001b[38;5;124;03m'''\u001b[39;00m\n",
      "Cell \u001b[0;32mIn[1], line 7\u001b[0m, in \u001b[0;36mdivide_numbers\u001b[0;34m(a, b)\u001b[0m\n\u001b[1;32m      6\u001b[0m \u001b[38;5;28;01mdef\u001b[39;00m \u001b[38;5;21mdivide_numbers\u001b[39m(a, b):\n\u001b[0;32m----> 7\u001b[0m     result \u001b[38;5;241m=\u001b[39m \u001b[43ma\u001b[49m\u001b[43m \u001b[49m\u001b[38;5;241;43m/\u001b[39;49m\u001b[43m \u001b[49m\u001b[43mb\u001b[49m\n\u001b[1;32m      8\u001b[0m     \u001b[38;5;28;01mreturn\u001b[39;00m result\n",
      "\u001b[0;31mZeroDivisionError\u001b[0m: division by zero"
     ]
    }
   ],
   "source": [
    "# Example:\n",
    "\n",
    "import logging\n",
    "\n",
    "logging.basicConfig(filename = \"except.log\", level = logging.INFO)\n",
    "def divide_numbers(a, b):\n",
    "    result = a / b\n",
    "    return result\n",
    "\n",
    "result = divide_numbers(10, 0)\n",
    "\n",
    "logging.info(\"Program continues executing\")\n",
    "\n",
    "'''\n",
    "In the above example, we have a function divide_numbers() that divides two numbers. In this case, we are attempting to divide 10 by 0,\n",
    "which triggers a ZeroDivisionError exception.\n",
    "Since there is no exception handling code present, the exception is not caught and the program execution is halted.\n",
    "'''"
   ]
  },
  {
   "cell_type": "markdown",
   "id": "098cfb97-e9cf-4216-969c-9315feb29892",
   "metadata": {},
   "source": [
    "`Q3. Which Python statements are used to catch and handle exceptions? Explain with an example`"
   ]
  },
  {
   "cell_type": "markdown",
   "id": "c74fe856-4713-4bad-82ca-6cf32ac340fa",
   "metadata": {},
   "source": [
    "In Python, the try-except statements are used to catch and handle exceptions. The try block is used to enclose the code that may raise an exception, and the except block is used to specify the code that should be executed when an exception of a particular type is raised."
   ]
  },
  {
   "cell_type": "code",
   "execution_count": 2,
   "id": "76784fc9-e09a-48e9-8fd1-6afd82d7bb24",
   "metadata": {},
   "outputs": [
    {
     "name": "stdin",
     "output_type": "stream",
     "text": [
      "Enter a number:  23\n",
      "Enter another number:  -09\n"
     ]
    }
   ],
   "source": [
    "# Example\n",
    "\n",
    "import logging\n",
    "\n",
    "logging.basicConfig(filename = \"handle.log\", level = logging.INFO)\n",
    "\n",
    "try:\n",
    "    num1 = int(input(\"Enter a number: \"))\n",
    "    num2 = int(input(\"Enter another number: \"))\n",
    "\n",
    "    result = num1 / num2\n",
    "    logging.info(\"Result: {}\" .format(result))\n",
    "\n",
    "except ValueError:\n",
    "    logging.info(\"Invalid input. Please enter a valid number.\")\n",
    "\n",
    "except ZeroDivisionError:\n",
    "    logging.info(\"Error: Cannot divide by zero.\")\n",
    "    \n",
    "logging.info(\"Program continues executing\")"
   ]
  },
  {
   "cell_type": "markdown",
   "id": "7a32b413-da85-4f4a-b6d9-7fcdf871a2f0",
   "metadata": {},
   "source": [
    "`Q4. Explain with an example:`\n",
    "\n",
    "` 1. try and else`\n",
    " `2. finally`\n",
    " `3. raise` "
   ]
  },
  {
   "cell_type": "markdown",
   "id": "a1db080f-15dd-45d7-8b0b-0e0b0198151d",
   "metadata": {},
   "source": [
    "<b>1. try, except, and else:</b>\n",
    "The else block is used in conjunction with try and except blocks to define a section of code that should be executed if no exception is raised in the try block. It provides an opportunity to execute additional code when the try block completes successfully without any exceptions."
   ]
  },
  {
   "cell_type": "code",
   "execution_count": 14,
   "id": "a2292832-fc86-4fb8-9a14-2d1195eb7b08",
   "metadata": {},
   "outputs": [
    {
     "name": "stdin",
     "output_type": "stream",
     "text": [
      "Enter a number:  23\n",
      "Enter another number:  23\n"
     ]
    },
    {
     "name": "stdout",
     "output_type": "stream",
     "text": [
      "Result: 1.0\n"
     ]
    }
   ],
   "source": [
    "# Example\n",
    "\n",
    "import logging\n",
    "\n",
    "logging.basicConfig(filename = \"handle.log\", level = logging.INFO)\n",
    "\n",
    "try:\n",
    "    num1 = int(input(\"Enter a number: \"))\n",
    "    num2 = int(input(\"Enter another number: \"))\n",
    "\n",
    "    result = num1 / num2\n",
    "    logging.info(\"Result: {}\" .format(result))\n",
    "\n",
    "except ValueError:\n",
    "    logging.info(\"Invalid input. Please enter a valid number.\")\n",
    "\n",
    "except ZeroDivisionError:\n",
    "    logging.info(\"Error: Cannot divide by zero.\")\n",
    "    \n",
    "logging.info(\"Program continues executing\")"
   ]
  },
  {
   "cell_type": "markdown",
   "id": "41db9783-2a3d-4d8a-bdbd-9aeb2829acab",
   "metadata": {},
   "source": [
    "<b>2. finally</b>\n",
    "The finally block is used to define a section of code that will be executed regardless of whether an exception occurs or not."
   ]
  },
  {
   "cell_type": "code",
   "execution_count": 3,
   "id": "90ac458e-2c01-4237-860f-5e4eb926601a",
   "metadata": {},
   "outputs": [],
   "source": [
    "# Example\n",
    "import logging\n",
    "\n",
    "logging.basicConfig(filename = \"handle.log\", level = logging.INFO)\n",
    "\n",
    "try:\n",
    "    file = open(\"data.txt\", \"w\")\n",
    "\n",
    "except FileNotFoundError:\n",
    "    logging.info(\"File not found.\")\n",
    "\n",
    "finally:\n",
    "    file.close()\n",
    "    logging.info(\"File closed.\")"
   ]
  },
  {
   "cell_type": "markdown",
   "id": "23566c5d-9be3-4347-abf0-739dc4bf3d1c",
   "metadata": {},
   "source": [
    "<b>3. Raise </b> The raise statement is used to raise an exception explicitly in Python. It allows you to create custom exceptions or propagate built-in exceptions in specific situations."
   ]
  },
  {
   "cell_type": "code",
   "execution_count": 5,
   "id": "1594946f-ba7c-413f-a569-9fd04069f69f",
   "metadata": {},
   "outputs": [],
   "source": [
    "def calculate_square_root(number):\n",
    "    if number < 0:\n",
    "        raise ValueError(\"Cannot calculate square root of a negative number.\")\n",
    "\n",
    "try:\n",
    "    calculate_square_root(-9)\n",
    "except ValueError as e:\n",
    "    logging.info(\"Value Error: {}\".format(e))"
   ]
  },
  {
   "cell_type": "markdown",
   "id": "ffe5e932-7757-4816-9352-02671d60bbda",
   "metadata": {},
   "source": [
    "`Q5. What are Custom Exceptions in python? Why do we need Custom Exceptions? Explain with an example.`"
   ]
  },
  {
   "cell_type": "markdown",
   "id": "9054fde9-1f10-436f-8c5b-8734666be676",
   "metadata": {},
   "source": [
    "Custom Exceptions in Python are user-defined exceptions that are created by deriving classes from the base Exception class or its subclasses."
   ]
  },
  {
   "cell_type": "code",
   "execution_count": 14,
   "id": "4019be79-a34c-43da-a8f2-8125fb0e5b19",
   "metadata": {},
   "outputs": [],
   "source": [
    "import logging\n",
    "\n",
    "logging.basicConfig(filename = \"except.log\", level = logging.INFO)\n",
    "class DivisionByZeroError(Exception):\n",
    "    def __init__(self, message):\n",
    "        self.message = message\n",
    "\n",
    "def divide_numbers(a, b):\n",
    "    if b == 0:\n",
    "        raise DivisionByZeroError(\"Cannot divide by zero.\")\n",
    "    else:\n",
    "        return a / b\n",
    "\n",
    "try:\n",
    "    result = divide_numbers(10, 2)\n",
    "    logging.info(\"Result: {}\".format(result))\n",
    "\n",
    "    result = divide_numbers(8, 0)\n",
    "    logging.info(\"Result: {}\".format(result))\n",
    "\n",
    "except DivisionByZeroError as e:\n",
    "    logging.info(\"Division by zero error: {}\".format(e.message))"
   ]
  }
 ],
 "metadata": {
  "kernelspec": {
   "display_name": "Python 3 (ipykernel)",
   "language": "python",
   "name": "python3"
  },
  "language_info": {
   "codemirror_mode": {
    "name": "ipython",
    "version": 3
   },
   "file_extension": ".py",
   "mimetype": "text/x-python",
   "name": "python",
   "nbconvert_exporter": "python",
   "pygments_lexer": "ipython3",
   "version": "3.10.8"
  }
 },
 "nbformat": 4,
 "nbformat_minor": 5
}

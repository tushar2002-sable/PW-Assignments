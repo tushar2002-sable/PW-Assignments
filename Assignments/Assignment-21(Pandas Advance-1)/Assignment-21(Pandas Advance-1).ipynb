{
 "cells": [
  {
   "cell_type": "markdown",
   "id": "c953021b-c895-4739-8276-1f60b9ac0dd8",
   "metadata": {},
   "source": [
    "##### Q1. List any five functions of the pandas library with execution."
   ]
  },
  {
   "cell_type": "markdown",
   "id": "b92f95a7-589c-4a7a-b976-4764ed13fba5",
   "metadata": {},
   "source": [
    "Here are five common functions of the pandas library.\n",
    "\n",
    "1. read_csv(): This function is used to read data from a CSV file and create a DataFrame object.\n",
    "\n",
    "2. head(): It returns the first n rows of a DataFrame. By default, it returns the first 5 rows.\n",
    "\n",
    "3. describe(): It generates descriptive statistics of a DataFrame, including count, mean, standard deviation, minimum, maximum, and quartiles.\n",
    "\n",
    "4. groupby(): It is used to split the data into groups based on a specific criterion and perform operations on those groups.\n",
    "\n",
    "5. to_csv(): This function is used to write the contents of a DataFrame to a CSV file."
   ]
  },
  {
   "cell_type": "markdown",
   "id": "f264b304-cd53-434a-b28f-26bab8b19863",
   "metadata": {},
   "source": [
    "##### Q2. Given a Pandas DataFrame df with columns 'A', 'B', and 'C', write a Python function to re-index the DataFrame with a new index that starts from 1 and increments by 2 for each row."
   ]
  },
  {
   "cell_type": "code",
   "execution_count": 27,
   "id": "f232acbc-b6bd-42ea-add4-f0de177d9372",
   "metadata": {},
   "outputs": [
    {
     "name": "stdout",
     "output_type": "stream",
     "text": [
      "   A  B  C\n",
      "1  1  1  a\n",
      "3  2  2  b\n",
      "5  3  3  c\n",
      "7  4  4  d\n",
      "9  5  5  e\n"
     ]
    }
   ],
   "source": [
    "import pandas as pd\n",
    "\n",
    "def reIndex(df):\n",
    "    df.index = range(1, 2 * len(df) + 1, 2)\n",
    "    return df\n",
    "\n",
    "data = {\n",
    "    'A' : [1,2,3,4,5],\n",
    "    'B': [1, 2, 3, 4, 5],\n",
    "    'C': ['a', 'b', 'c', 'd', 'e']\n",
    "}\n",
    "df = pd.DataFrame(data)\n",
    "\n",
    "indexed = reIndex(df)\n",
    "\n",
    "print(indexed)"
   ]
  },
  {
   "cell_type": "markdown",
   "id": "7d6d96e6-64d0-4e76-9df0-50ab678a94b2",
   "metadata": {},
   "source": [
    "##### Q3. You have a Pandas DataFrame df with a column named 'Values'. Write a Python function that iterates over the DataFrame and calculates the sum of the first three values in the 'Values' column. The function should print the sum to the console."
   ]
  },
  {
   "cell_type": "code",
   "execution_count": null,
   "id": "0afabdce-6f00-4060-b7b2-ae4992fa6a0f",
   "metadata": {},
   "outputs": [],
   "source": [
    "def add(df):\n",
    "    s = df['Values'][0:3].sum()\n",
    "    return s\n",
    "\n",
    "d = {\n",
    "    'Values' : [10, 20, 30, 40, 50]\n",
    "    }\n",
    "\n",
    "df = pd.DataFrame(d)\n",
    "\n",
    "calc = add(df)\n",
    "\n",
    "print(f\"The sum of first three values are: {calc}\")"
   ]
  },
  {
   "cell_type": "markdown",
   "id": "1e75ea9f-c0a9-487f-93e9-d658a4167005",
   "metadata": {},
   "source": [
    "##### Q4. Given a Pandas DataFrame df with a column 'Text', write a Python function to create a new column 'Word_Count' that contains the number of words in each row of the 'Text' column."
   ]
  },
  {
   "cell_type": "code",
   "execution_count": 61,
   "id": "bfcc344b-b3b7-4dc7-b5ac-00149ee697bb",
   "metadata": {},
   "outputs": [
    {
     "name": "stdout",
     "output_type": "stream",
     "text": [
      "                  Text  Word_Count\n",
      "0  Hello, how are you?           4\n",
      "1    I am doing great.           4\n",
      "2   Python is awesome!           3\n"
     ]
    }
   ],
   "source": [
    "def new_Column(df):\n",
    "    \n",
    "    # df['Word_Count'] = df['Text'].str.split().str.len()\n",
    "    df['Word_Count'] = df['Text'].apply(lambda x: len(x.split()))\n",
    "    return df\n",
    "\n",
    "data = {\n",
    "    'Text' : ['Hello, how are you?',\n",
    "              'I am doing great.',\n",
    "              'Python is awesome!'\n",
    "             ]\n",
    "        }\n",
    "\n",
    "df = pd.DataFrame(data)\n",
    "\n",
    "cols = new_Column(df)\n",
    "\n",
    "print(cols)"
   ]
  },
  {
   "cell_type": "markdown",
   "id": "9b5e977b-60c7-4662-bf66-982e01dd1d2e",
   "metadata": {},
   "source": [
    "##### Q5. How are DataFrame.size() and DataFrame.shape() different?"
   ]
  },
  {
   "cell_type": "markdown",
   "id": "8564c7c9-93c4-44bc-8149-b83fb1b472ef",
   "metadata": {},
   "source": [
    "The `DataFrame.size` and `DataFrame.shape` are both methods in Pandas that provide information about the dimensions of a DataFrame, but they differ in terms of the information they provide.\n",
    "\n",
    "1. `DataFrame.size`:\n",
    "   - The `DataFrame.size` method returns the total number of elements in the DataFrame.\n",
    "   - It represents the product of the number of rows and the number of columns in the DataFrame.\n",
    "   - The returned value is an integer representing the size of the DataFrame.\n",
    "\n",
    "2. `DataFrame.shape`:\n",
    "   - The `DataFrame.shape` attribute returns a tuple containing the dimensions of the DataFrame.\n",
    "   - It provides the number of rows followed by the number of columns in the DataFrame.\n",
    "   - The returned value is a tuple in the format `(rows, columns)`."
   ]
  },
  {
   "cell_type": "markdown",
   "id": "267f5051-a9a4-40bd-88a7-7cf0c0e37dec",
   "metadata": {},
   "source": [
    "##### Q6. Which function of pandas do we use to read an excel file?"
   ]
  },
  {
   "cell_type": "markdown",
   "id": "63fe26ee-33ba-4474-8955-26511f07295d",
   "metadata": {},
   "source": [
    "In pandas, we use the `pandas.read_excel()` function to read an Excel file. This function allows us to read the data from an Excel file into a pandas DataFrame."
   ]
  },
  {
   "cell_type": "markdown",
   "id": "c88e4c34-b37c-482e-b131-632c174df554",
   "metadata": {},
   "source": [
    "##### Q7. You have a Pandas DataFrame df that contains a column named 'Email' that contains email addresses in the format 'username@domain.com'. Write a Python function that creates a new column 'Username' in df that contains only the username part of each email address."
   ]
  },
  {
   "cell_type": "code",
   "execution_count": 90,
   "id": "58e1c7ae-90bd-4653-8849-6aff58a2cfdb",
   "metadata": {},
   "outputs": [
    {
     "name": "stdout",
     "output_type": "stream",
     "text": [
      "                  Email  Username\n",
      "0     abdul@example.com     abdul\n",
      "1  john.doe@example.com  john.doe\n",
      "2     ubaid@example.com     ubaid\n"
     ]
    }
   ],
   "source": [
    "def em_ids(df):\n",
    "    \n",
    "    # The lambda function splits each email address using split('@') and retrieves the first part, representing the username.\n",
    "    df['Username'] = df['Email'].apply(lambda x: x.split('@')[0])\n",
    "    return df\n",
    "\n",
    "data = {\n",
    "        'Email': ['abdul@example.com',\n",
    "                  'john.doe@example.com',\n",
    "                  'ubaid@example.com']\n",
    "        }\n",
    "\n",
    "df = pd.DataFrame(data)\n",
    "\n",
    "ids = em_ids(df)\n",
    "\n",
    "print(ids)"
   ]
  },
  {
   "cell_type": "markdown",
   "id": "2c095930-387a-4f06-81f6-95ab148e84e2",
   "metadata": {},
   "source": [
    "##### Q8. You have a Pandas DataFrame df with columns 'A', 'B', and 'C'. Write a Python function that selects all rows where the value in column 'A' is greater than 5 and the value in column 'B' is less than 10. The function should return a new DataFrame that contains only the selected rows.\n",
    "```\n",
    "For example, if df contains the following values:\n",
    "  A B C\n",
    "0 3 5 1\n",
    "1 8 2 7\n",
    "2 6 9 4\n",
    "3 2 3 5\n",
    "4 9 1 2\n",
    "```"
   ]
  },
  {
   "cell_type": "code",
   "execution_count": 114,
   "id": "1b307807-43e6-486b-b4f4-1021a095bdde",
   "metadata": {},
   "outputs": [
    {
     "name": "stdout",
     "output_type": "stream",
     "text": [
      "   A  B  C\n",
      "1  8  2  7\n",
      "2  6  9  4\n",
      "4  9  1  2\n"
     ]
    }
   ],
   "source": [
    "def selected(df):\n",
    "    selected_df = df[(df['A'] > 5) & (df['B'] < 10)]\n",
    "    return selected_df\n",
    "\n",
    "data = {\n",
    "    'A': [3, 8, 6, 2, 9],\n",
    "    'B': [5, 2, 9, 3, 1],\n",
    "    'C': [1, 7, 4, 5, 2]\n",
    "}\n",
    "df = pd.DataFrame(data)\n",
    "new = selected(df)\n",
    "print(new)"
   ]
  },
  {
   "cell_type": "markdown",
   "id": "4db0da4e-8131-4179-8403-66b906ff4c06",
   "metadata": {},
   "source": [
    "##### Q9. Given a Pandas DataFrame df with a column 'Values', write a Python function to calculate the mean, median, and standard deviation of the values in the 'Values' column."
   ]
  },
  {
   "cell_type": "code",
   "execution_count": 120,
   "id": "a4379361-3322-4ca7-80ec-f9dcd9db2f3d",
   "metadata": {},
   "outputs": [
    {
     "name": "stdout",
     "output_type": "stream",
     "text": [
      "mean: 30.0\n",
      "median: 30.0\n",
      "Standard Deviation: 15.811388300841896\n"
     ]
    }
   ],
   "source": [
    "def stats(df):\n",
    "    mean = df['Values'].mean()\n",
    "    median = df['Values'].median()\n",
    "    sd = df['Values'].std()\n",
    "                                 \n",
    "    return mean, median, sd\n",
    "\n",
    "val = {\n",
    "    'Values' : [10, 20, 30, 40, 50]\n",
    "    }\n",
    "\n",
    "df = pd.DataFrame(val)\n",
    "\n",
    "mean, median, sd = stats(df)\n",
    "\n",
    "print(f\"mean: {mean}\\nmedian: {median}\\nStandard Deviation: {sd}\")"
   ]
  },
  {
   "cell_type": "markdown",
   "id": "fdb71725-faef-4087-ade4-e9fc98f7141c",
   "metadata": {},
   "source": [
    "##### Q10. Given a Pandas DataFrame df with a column 'Sales' and a column 'Date', write a Python function to create a new column 'MovingAverage' that contains the moving average of the sales for the past 7 days for each row in the DataFrame. The moving average should be calculated using a window of size 7 and should include the current day."
   ]
  },
  {
   "cell_type": "code",
   "execution_count": 136,
   "id": "09953f69-9106-4f3c-b68a-ee766323f097",
   "metadata": {},
   "outputs": [
    {
     "name": "stdout",
     "output_type": "stream",
     "text": [
      "         Date  Sales  MovingAverage\n",
      "0  2023-01-01     10      10.000000\n",
      "1  2023-01-02     15      12.500000\n",
      "2  2023-01-03      8      11.000000\n",
      "3  2023-01-04     20      13.250000\n",
      "4  2023-01-05     12      13.000000\n",
      "5  2023-01-06     18      13.833333\n",
      "6  2023-01-07     14      13.857143\n",
      "7  2023-01-08     22      15.571429\n",
      "8  2023-01-09     16      15.714286\n",
      "9  2023-01-10     10      16.000000\n",
      "10 2023-01-11     19      15.857143\n",
      "11 2023-01-12     25      17.714286\n",
      "12 2023-01-13     13      17.000000\n",
      "13 2023-01-14     17      17.428571\n",
      "14 2023-01-15     21      17.285714\n"
     ]
    }
   ],
   "source": [
    "def avg_sales(df):\n",
    "    \n",
    "    df['MovingAverage'] = df['Sales'].rolling(window=7, min_periods=1).mean()\n",
    "    return df\n",
    "\n",
    "data = {\n",
    "        'Date': pd.date_range(start='2023-01-01', periods=15),\n",
    "        'Sales' : [10, 15, 8, 20, 12, 18, 14, 22, 16, 10, 19, 25, 13, 17, 21]\n",
    "        }\n",
    "\n",
    "df = pd.DataFrame(data)\n",
    "sales = avg_sales(df)\n",
    "print(sales)"
   ]
  },
  {
   "cell_type": "markdown",
   "id": "8b57a499-2892-4711-b553-55c5339d55f1",
   "metadata": {},
   "source": [
    "##### Q11. You have a Pandas DataFrame df with a column 'Date'. Write a Python function that creates a new column 'Weekday' in the DataFrame. The 'Weekday' column should contain the weekday name (e.g. Monday, Tuesday) corresponding to each date in the 'Date' column. For example, if df contains the following values:\n",
    "```\n",
    "  Date\n",
    "0 2023-01-01\n",
    "1 2023-01-02\n",
    "2 2023-01-03\n",
    "3 2023-01-04\n",
    "4 2023-01-05\n",
    "Your function should create the following DataFrame:\n",
    "\n",
    "  Date       Weekday\n",
    "0 2023-01-01 Sunday\n",
    "1 2023-01-02 Monday\n",
    "2 2023-01-03 Tuesday\n",
    "3 2023-01-04 Wednesday\n",
    "4 2023-01-05 Thursday\n",
    "The function should return the modified DataFrame.\n",
    "```"
   ]
  },
  {
   "cell_type": "code",
   "execution_count": 146,
   "id": "aae5762f-b8f0-4e78-bd72-d8f7a4e8c708",
   "metadata": {},
   "outputs": [
    {
     "name": "stdout",
     "output_type": "stream",
     "text": [
      "        Date    Weekday\n",
      "0 2023-01-01     Sunday\n",
      "1 2023-01-02     Monday\n",
      "2 2023-01-03    Tuesday\n",
      "3 2023-01-04  Wednesday\n",
      "4 2023-01-05   Thursday\n"
     ]
    }
   ],
   "source": [
    "def days(df):\n",
    "    df['Weekday'] = df['Date'].dt.day_name()\n",
    "    return df\n",
    "\n",
    "data = {\n",
    "        'Date' : pd.date_range(start ='2023-01-01', periods= 5)\n",
    "        }\n",
    "\n",
    "df = pd.DataFrame(data)\n",
    "week_days = days(df)\n",
    "print(week_days)"
   ]
  },
  {
   "cell_type": "markdown",
   "id": "b7ca1ca3-00a6-471d-8e80-8ff669a6776d",
   "metadata": {},
   "source": [
    "##### Q12. Given a Pandas DataFrame df with a column 'Date' that contains timestamps, write a Python function to select all rows where the date is between '2023-01-01' and '2023-01-31'."
   ]
  },
  {
   "cell_type": "code",
   "execution_count": 164,
   "id": "ddd2d9f0-ab21-474b-a319-7ee08aa99f60",
   "metadata": {},
   "outputs": [
    {
     "name": "stdout",
     "output_type": "stream",
     "text": [
      "         Date\n",
      "0  2023-01-01\n",
      "1  2023-01-02\n",
      "2  2023-01-03\n",
      "3  2023-01-04\n",
      "4  2023-01-05\n",
      "5  2023-01-06\n",
      "6  2023-01-07\n",
      "7  2023-01-08\n",
      "8  2023-01-09\n",
      "9  2023-01-10\n",
      "10 2023-01-11\n",
      "11 2023-01-12\n",
      "12 2023-01-13\n",
      "13 2023-01-14\n",
      "14 2023-01-15\n",
      "15 2023-01-16\n",
      "16 2023-01-17\n",
      "17 2023-01-18\n",
      "18 2023-01-19\n",
      "19 2023-01-20\n",
      "20 2023-01-21\n",
      "21 2023-01-22\n",
      "22 2023-01-23\n",
      "23 2023-01-24\n",
      "24 2023-01-25\n",
      "25 2023-01-26\n",
      "26 2023-01-27\n",
      "27 2023-01-28\n",
      "28 2023-01-29\n",
      "29 2023-01-30\n",
      "30 2023-01-31\n"
     ]
    }
   ],
   "source": [
    "def calc(df):\n",
    "    start_date = '2023-01-01'\n",
    "    end_date = '2023-01-31'\n",
    "    \n",
    "    date_df = df[df['Date'].between(start_date, end_date)]\n",
    "    # date_df = df[(df['Date'] >= start_date) &  (df['Date'] <= end_date)]\n",
    "    return date_df\n",
    "\n",
    "data = {\n",
    "        'Date' : pd.date_range(start ='2023-01-01', periods= 50) # Timestamps\n",
    "        }\n",
    "\n",
    "df = pd.DataFrame(data)\n",
    "select = calc(df)\n",
    "print(select)"
   ]
  },
  {
   "cell_type": "markdown",
   "id": "4fd8b9a5-d859-464c-8256-4bfc69510fa7",
   "metadata": {},
   "source": [
    "##### Q13. To use the basic functions of pandas, what is the first and foremost necessary library that needs to be imported?"
   ]
  },
  {
   "cell_type": "markdown",
   "id": "2a5ea0fb-71c6-436f-876c-41dcf67dfa4d",
   "metadata": {},
   "source": [
    "To use the basic functions of pandas, the first and foremost necessary library that needs to be imported is the `pandas` library itself. It provides the core functionality and data structures for working with structured data, such as DataFrames and Series. \n",
    "\n",
    "To import the `pandas` library, we can use the following import statement:\n",
    "```python\n",
    "import pandas as pd\n",
    "```\n",
    "This statement imports the pandas library and assigns it the alias `pd`, which is a common convention for working with pandas."
   ]
  }
 ],
 "metadata": {
  "kernelspec": {
   "display_name": "Python 3 (ipykernel)",
   "language": "python",
   "name": "python3"
  },
  "language_info": {
   "codemirror_mode": {
    "name": "ipython",
    "version": 3
   },
   "file_extension": ".py",
   "mimetype": "text/x-python",
   "name": "python",
   "nbconvert_exporter": "python",
   "pygments_lexer": "ipython3",
   "version": "3.10.8"
  }
 },
 "nbformat": 4,
 "nbformat_minor": 5
}

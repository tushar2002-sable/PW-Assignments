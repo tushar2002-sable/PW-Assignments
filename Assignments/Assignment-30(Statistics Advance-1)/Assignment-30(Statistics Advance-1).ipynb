{
 "cells": [
  {
   "cell_type": "markdown",
   "id": "b5abca5e",
   "metadata": {},
   "source": [
    "##### Q1. What is the Probability density function?"
   ]
  },
  {
   "cell_type": "markdown",
   "id": "65781bdf",
   "metadata": {},
   "source": [
    "A probability density function (PDF) is a function that describes the probability of a continuous random variable taking on a certain value. It is often used to represent the distribution of a variable, such as the height of people in a population or the weight of packages shipped by a company.\n",
    "\n",
    "The PDF is defined as the probability that a random variable will take on a value within a certain range. For example, the PDF of the height of people in a population might be defined as the probability that a randomly selected person will have a height between 5 feet and 6 feet.\n",
    "\n",
    "The PDF is a continuous function, which means that it can take on any value between 0 and 1. The value of the PDF at a particular point represents the probability that the random variable will take on that value."
   ]
  },
  {
   "cell_type": "markdown",
   "id": "30814cb8",
   "metadata": {},
   "source": [
    "##### Q2. What are the types of Probability distribution?"
   ]
  },
  {
   "cell_type": "markdown",
   "id": "dfa165f2",
   "metadata": {},
   "source": [
    "There are two main types of probability distributions: discrete and continuous.\n",
    "\n",
    "* **Discrete probability distributions** can only take on a finite number of values. For example, the number of heads in 3 coin flips is a discrete random variable, because it can only take on the values 0, 1, 2, or 3.\n",
    "* **Continuous probability distributions** can take on any value within a certain range. For example, the height of a person is a continuous random variable, because it can take on any value between the minimum and maximum heights of humans.\n",
    "\n",
    "Here are some of the most common types of probability distributions:\n",
    "\n",
    "* **Binomial distribution** - This distribution describes the probability of getting a certain number of successes in a fixed number of trials, where each trial has only two possible outcomes (e.g., flipping a coin).\n",
    "* **Poisson distribution** - This distribution describes the probability of getting a certain number of events in a fixed time interval, where the events occur randomly and independently.\n",
    "* **Normal distribution** - This distribution is often called the \"bell curve\" because its graph is shaped like a bell. It is a very common distribution in nature and in statistics.\n",
    "* **Uniform distribution** - This distribution describes the probability of getting any value within a certain range.\n",
    "* **Gamma distribution** - This distribution is used to model the time it takes for something to happen, such as the time it takes for a radioactive atom to decay.\n",
    "* **Exponential distribution** - This distribution is also used to model the time it takes for something to happen, but it is more skewed than the gamma distribution."
   ]
  },
  {
   "cell_type": "markdown",
   "id": "d20ef669",
   "metadata": {},
   "source": [
    "##### Q3. Write a Python function to calculate the probability density function of a normal distribution with given mean and standard deviation at a given point."
   ]
  },
  {
   "cell_type": "code",
   "execution_count": 3,
   "id": "ae269c05",
   "metadata": {},
   "outputs": [
    {
     "name": "stdout",
     "output_type": "stream",
     "text": [
      "PDF at x = 1.5: 0.12951759566589174\n"
     ]
    }
   ],
   "source": [
    "import math\n",
    "\n",
    "def normal_pdf(x, mean, std_dev):\n",
    "\n",
    "    if std_dev <= 0:\n",
    "        raise ValueError(\"Standard deviation must be positive.\")\n",
    "\n",
    "    coefficient = 1 / (std_dev * math.sqrt(2 * math.pi))\n",
    "    exponent = -(x - mean)**2 / (2 * std_dev**2)\n",
    "    pdf_value = coefficient * math.exp(exponent)\n",
    "    \n",
    "    return pdf_value\n",
    "\n",
    "mean = 0\n",
    "std_dev = 1\n",
    "point = 1.5\n",
    "pdf_at_point = normal_pdf(point, mean, std_dev)\n",
    "print(\"PDF at x = 1.5:\", pdf_at_point)"
   ]
  },
  {
   "cell_type": "markdown",
   "id": "ecb6cb1c",
   "metadata": {},
   "source": [
    "##### Q4. What are the properties of Binomial distribution? Give two examples of events where binomial distribution can be applied."
   ]
  },
  {
   "cell_type": "markdown",
   "id": "952d8777",
   "metadata": {},
   "source": [
    "The Binomial distribution is a probability distribution that describes the number of successes in a fixed number of independent Bernoulli trials (experiments) where each trial can result in either success or failure. The key properties of the Binomial distribution are as follows:\n",
    "\n",
    "1. Fixed Number of Trials: The distribution is defined for a fixed number of independent trials, denoted by 'n', where 'n' is a positive integer.\n",
    "\n",
    "2. Independent Trials: Each trial is assumed to be independent, meaning the outcome of one trial does not affect the outcome of another trial.\n",
    "\n",
    "3. Two Possible Outcomes: Each trial can result in one of two possible outcomes, typically labeled as \"success\" (S) and \"failure\" (F).\n",
    "\n",
    "4. Constant Probability of Success: The probability of success in each trial is denoted by 'p', and it remains constant for all trials.\n",
    "\n",
    "5. Discrete Probability: The Binomial distribution deals with discrete probabilities, as it counts the number of successes in 'n' trials.\n",
    "\n",
    "6. Probability Mass Function: The probability mass function (PMF) of the Binomial distribution gives the probability of getting exactly 'k' successes in 'n' trials, and it is given by:\n",
    "\n",
    "Two examples of events where the Binomial distribution can be applied are:\n",
    "\n",
    "1. Coin Tossing: Consider flipping a fair coin (with probability of getting a head, 'H', as 0.5) 'n' times. The Binomial distribution can be used to find the probability of getting a specific number of heads, say 'k' heads, in the 'n' coin tosses.\n",
    "\n",
    "2. Quality Control: A factory produces light bulbs, and each bulb has a probability 'p' of being defective. If 'n' light bulbs are randomly sampled from the production line, the Binomial distribution can be used to determine the probability of finding 'k' defective bulbs among the 'n' sampled bulbs."
   ]
  },
  {
   "cell_type": "markdown",
   "id": "9e7d87c0",
   "metadata": {},
   "source": [
    "##### Q5. Generate a random sample of size 1000 from a binomial distribution with probability of success 0.4 and plot a histogram of the results using matplotlib."
   ]
  },
  {
   "cell_type": "code",
   "execution_count": 1,
   "id": "448d5700",
   "metadata": {},
   "outputs": [
    {
     "data": {
      "image/png": "[encoded data removed]",
      "text/plain": [
       "<Figure size 640x480 with 1 Axes>"
      ]
     },
     "metadata": {},
     "output_type": "display_data"
    }
   ],
   "source": [
    "import numpy as np\n",
    "import matplotlib.pyplot as plt\n",
    "\n",
    "def generate_binomial_sample(size, probability):\n",
    "\n",
    "    return np.random.binomial(1, probability, size)\n",
    "\n",
    "# Set the probability of success and sample size\n",
    "probability_of_success = 0.4\n",
    "sample_size = 1000\n",
    "\n",
    "# Generate the random sample\n",
    "sample = generate_binomial_sample(sample_size, probability_of_success)\n",
    "\n",
    "# Plot the histogram\n",
    "plt.hist(sample, bins=2, edgecolor='black')\n",
    "plt.xlabel('Success (1) / Failure (0)')\n",
    "plt.ylabel('Frequency')\n",
    "plt.title('Histogram of Binomial Distribution')\n",
    "plt.xticks([0, 1], ['Failure', 'Success'])\n",
    "plt.show()\n"
   ]
  },
  {
   "cell_type": "markdown",
   "id": "4973bf98",
   "metadata": {},
   "source": [
    "##### Q6. Write a Python function to calculate the cumulative distribution function of a Poisson distribution with given mean at a given point."
   ]
  },
  {
   "cell_type": "code",
   "execution_count": 3,
   "id": "d74f9747",
   "metadata": {},
   "outputs": [
    {
     "name": "stdout",
     "output_type": "stream",
     "text": [
      "CDF at x = 4: 0.8911780189141512\n"
     ]
    }
   ],
   "source": [
    "import math\n",
    "\n",
    "def poisson_cdf(point, mean):\n",
    "\n",
    "    if point < 0:\n",
    "        raise ValueError(\"Point must be a non-negative integer.\")\n",
    "    if mean < 0:\n",
    "        raise ValueError(\"Mean must be non-negative.\")\n",
    "\n",
    "    cdf_value = 0\n",
    "    for k in range(point + 1):\n",
    "        cdf_value += math.exp(-mean) * (mean ** k) / math.factorial(k)\n",
    "    \n",
    "    return cdf_value\n",
    "\n",
    "mean = 2.5\n",
    "point = 4\n",
    "cdf_at_point = poisson_cdf(point, mean)\n",
    "print(\"CDF at x = 4:\", cdf_at_point)"
   ]
  },
  {
   "cell_type": "markdown",
   "id": "41ef13bf",
   "metadata": {},
   "source": [
    "##### Q7. How Binomial distribution different from Poisson distribution?"
   ]
  },
  {
   "cell_type": "markdown",
   "id": "812fcb1d",
   "metadata": {},
   "source": [
    "The Binomial distribution and the Poisson distribution are both probability distributions, but they differ in their assumptions, characteristics, and use cases.\n",
    "\n",
    "1. Definition and Assumptions:\n",
    "\n",
    "   - Binomial Distribution: The Binomial distribution describes the number of successes in a fixed number of independent Bernoulli trials, where each trial can have two possible outcomes (success or failure) and the probability of success remains constant throughout the trials. The key assumptions are fixed number of trials and independence between trials.\n",
    "\n",
    "   - Poisson Distribution: The Poisson distribution describes the number of events that occur in a fixed interval of time or space, given a known average rate of occurrence. It is often used to model rare events and is characterized by a single parameter, lambda (λ), which represents the average rate of events occurring in the given interval. The key assumption is that the events occur independently and at a constant average rate.\n",
    "\n",
    "2. Number of Possible Outcomes:\n",
    "\n",
    "   - Binomial Distribution: Each trial in the Binomial distribution can have two possible outcomes: success or failure.\n",
    "\n",
    "   - Poisson Distribution: The Poisson distribution deals with counting the occurrences of events in a continuous range of values, typically non-negative integers (0, 1, 2, 3, ...).\n",
    "\n",
    "3. Probability vs. Frequency:\n",
    "\n",
    "   - Binomial Distribution: The Binomial distribution deals with discrete probabilities. It provides the probability of getting a specific number of successes in a fixed number of trials.\n",
    "\n",
    "   - Poisson Distribution: The Poisson distribution also deals with discrete probabilities, but it represents the frequency of events occurring in a continuous interval.\n",
    "\n",
    "4. Parameters:\n",
    "\n",
    "   - Binomial Distribution: The Binomial distribution is characterized by two parameters: 'n' (the number of trials) and 'p' (the probability of success in a single trial).\n",
    "\n",
    "   - Poisson Distribution: The Poisson distribution is characterized by a single parameter 'λ' (lambda), which represents the average rate of events occurring in the given interval.\n",
    "\n",
    "5. Use Cases:\n",
    "\n",
    "   - Binomial Distribution: The Binomial distribution is applicable when there are a fixed number of independent trials, each with two possible outcomes, and you want to calculate the probability of a specific number of successes.\n",
    "\n",
    "   - Poisson Distribution: The Poisson distribution is suitable for situations where rare events occur independently at a constant average rate. It is often used in situations involving counts of occurrences, such as the number of customer arrivals in a queue, number of defects in a production line, or the number of accidents in a day.\n",
    "\n",
    "In summary, the main differences between the Binomial distribution and the Poisson distribution lie in their assumptions and the nature of the events they model. The Binomial distribution deals with a fixed number of independent trials with two outcomes, while the Poisson distribution deals with counting rare events occurring at a constant average rate."
   ]
  },
  {
   "cell_type": "markdown",
   "id": "4693d43b",
   "metadata": {},
   "source": [
    "##### Q8. Generate a random sample of size 1000 from a Poisson distribution with mean 5 and calculate the sample mean and variance."
   ]
  },
  {
   "cell_type": "code",
   "execution_count": 5,
   "id": "6bf968cd",
   "metadata": {},
   "outputs": [
    {
     "name": "stdout",
     "output_type": "stream",
     "text": [
      "Sample Mean: 4.966\n",
      "Sample Variance: 4.791635635635636\n"
     ]
    }
   ],
   "source": [
    "import numpy as np\n",
    "\n",
    "def generate_poisson_sample(size, mean):\n",
    "\n",
    "    return np.random.poisson(mean, size)\n",
    "\n",
    "# Set the mean and sample size\n",
    "mean = 5\n",
    "sample_size = 1000\n",
    "\n",
    "# Generate the random sample\n",
    "sample = generate_poisson_sample(sample_size, mean)\n",
    "\n",
    "# Calculate the sample mean and variance\n",
    "sample_mean = np.mean(sample)\n",
    "# The ddof=1 is used to compute the sample variance (with Bessel's correction) rather than the population variance.\n",
    "sample_variance = np.var(sample, ddof=1) \n",
    "\n",
    "print(\"Sample Mean:\", sample_mean)\n",
    "print(\"Sample Variance:\", sample_variance)\n"
   ]
  },
  {
   "cell_type": "markdown",
   "id": "8f468680",
   "metadata": {},
   "source": [
    "##### Q9. How mean and variance are related in Binomial distribution and Poisson distribution?"
   ]
  },
  {
   "cell_type": "markdown",
   "id": "f78242cb",
   "metadata": {},
   "source": [
    "In both Binomial and Poisson distributions, the mean and variance are related in distinct ways:\n",
    "\n",
    "1. Binomial Distribution:\n",
    "\n",
    "   Mean (μ) = n * p\n",
    "\n",
    "   Variance (σ^2) = n * p * (1 - p)\n",
    "\n",
    "   - In the Binomial distribution, the mean (μ) is given by the product of the number of trials (n) and the probability of success in each trial (p). The mean represents the expected or average number of successes in the fixed number of independent trials.\n",
    "\n",
    "   - The variance (σ^2) of the Binomial distribution is given by the product of the number of trials (n), the probability of success (p), and the probability of failure (1 - p). The variance measures the spread or dispersion of the distribution. A higher variance indicates more variability in the number of successes across different trials.\n",
    "\n",
    "   - As the number of trials (n) increases in the Binomial distribution while keeping the probability of success (p) fixed, both the mean and variance increase proportionally. This means that more trials lead to a higher expected number of successes and a wider spread of possible outcomes.\n",
    "\n",
    "2. Poisson Distribution:\n",
    "\n",
    "   Mean (μ) = λ\n",
    "\n",
    "   Variance (σ^2) = λ\n",
    "\n",
    "   - In the Poisson distribution, both the mean (μ) and the variance (σ^2) are equal and given by the parameter λ (lambda). Lambda represents the average rate of events occurring in the given interval.\n",
    "\n",
    "   - The mean of the Poisson distribution indicates the expected number of events occurring in the interval, and the variance represents the dispersion or spread of the number of events around this mean.\n",
    "\n",
    "   - Unlike the Binomial distribution, in the Poisson distribution, the mean and variance are fixed and do not depend on the sample size or the number of trials.\n",
    "\n",
    "   - The Poisson distribution is often used to model rare events where the variance is approximately equal to the mean. This relationship between the mean and variance is a unique property of the Poisson distribution.\n",
    "\n",
    "In summary, in the Binomial distribution, the mean and variance both depend on the number of trials and the probability of success, while in the Poisson distribution, both the mean and variance are equal and are solely determined by the parameter λ representing the average rate of events."
   ]
  },
  {
   "cell_type": "markdown",
   "id": "02cf923b",
   "metadata": {},
   "source": [
    "##### Q10. In normal distribution with respect to mean position, where does the least frequent data appear?"
   ]
  },
  {
   "cell_type": "markdown",
   "id": "a2d575e9",
   "metadata": {},
   "source": [
    "In a normal distribution, the least frequent data appears in the tails of the distribution, farthest away from the mean. The normal distribution is a symmetric distribution, which means it is evenly distributed around its mean. The mean, median, and mode are all equal in a perfectly symmetric normal distribution.\n",
    "\n",
    "The probability density function (PDF) of a normal distribution has a bell-shaped curve, and the curve reaches its highest point at the mean. As you move away from the mean in either direction, the probability density gradually decreases. The tails of the distribution extend infinitely in both directions, but the probability of observing data in the extreme tails becomes very low.\n",
    "\n",
    "The probability of observing data in the least frequent areas (the tails) depends on the specific standard deviation from the mean. The standard deviation controls the spread or width of the distribution. The higher the standard deviation, the wider the distribution, and the more data points appear in the tails.\n",
    "\n",
    "In a standard normal distribution (a normal distribution with a mean of 0 and a standard deviation of 1), about 68% of the data lies within one standard deviation of the mean, about 95% lies within two standard deviations, and about 99.7% lies within three standard deviations. This means that the remaining 0.3% of data lies in the tails, making it the least frequent data in the distribution.\n",
    "\n",
    "In general, the least frequent data in a normal distribution appears in the extreme tails, far away from the mean. The majority of the data points are concentrated around the mean, making it the most common value in the distribution."
   ]
  }
 ],
 "metadata": {
  "kernelspec": {
   "display_name": "Python 3 (ipykernel)",
   "language": "python",
   "name": "python3"
  },
  "language_info": {
   "codemirror_mode": {
    "name": "ipython",
    "version": 3
   },
   "file_extension": ".py",
   "mimetype": "text/x-python",
   "name": "python",
   "nbconvert_exporter": "python",
   "pygments_lexer": "ipython3",
   "version": "3.11.4"
  }
 },
 "nbformat": 4,
 "nbformat_minor": 5
}
